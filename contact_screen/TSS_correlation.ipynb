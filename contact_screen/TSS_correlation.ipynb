{
 "cells": [
  {
   "cell_type": "code",
   "execution_count": 1,
   "id": "f4f848b7",
   "metadata": {},
   "outputs": [],
   "source": [
    "import numpy as np\n",
    "import pandas as pd\n",
    "import os\n",
    "import seaborn as sns\n",
    "import scipy\n",
    "import matplotlib.pyplot as plt\n",
    "import bioframe"
   ]
  },
  {
   "cell_type": "code",
   "execution_count": 2,
   "id": "be378926",
   "metadata": {},
   "outputs": [],
   "source": [
    "os.chdir(\"/exports/igmm/eddie/wendy-lab/elias/Friman2022/contact_screen\")"
   ]
  },
  {
   "cell_type": "code",
   "execution_count": 3,
   "id": "43b45aa2",
   "metadata": {},
   "outputs": [],
   "source": [
    "screen = pd.read_csv(\"mESC_contact_screen_result.txt\", sep=\"\\t\")"
   ]
  },
  {
   "cell_type": "code",
   "execution_count": 4,
   "id": "a0bc6717",
   "metadata": {},
   "outputs": [
    {
     "data": {
      "text/html": [
       "<div>\n",
       "<style scoped>\n",
       "    .dataframe tbody tr th:only-of-type {\n",
       "        vertical-align: middle;\n",
       "    }\n",
       "\n",
       "    .dataframe tbody tr th {\n",
       "        vertical-align: top;\n",
       "    }\n",
       "\n",
       "    .dataframe thead th {\n",
       "        text-align: right;\n",
       "    }\n",
       "</style>\n",
       "<table border=\"1\" class=\"dataframe\">\n",
       "  <thead>\n",
       "    <tr style=\"text-align: right;\">\n",
       "      <th></th>\n",
       "      <th>ID_Factor</th>\n",
       "      <th>p_value_short</th>\n",
       "      <th>F_value_short</th>\n",
       "      <th>adj_p_short</th>\n",
       "      <th>Factor</th>\n",
       "      <th>p_value_long</th>\n",
       "      <th>F_value_long</th>\n",
       "      <th>adj_p_long</th>\n",
       "      <th>Group</th>\n",
       "    </tr>\n",
       "  </thead>\n",
       "  <tbody>\n",
       "    <tr>\n",
       "      <th>0</th>\n",
       "      <td>GSE80280_CTCF</td>\n",
       "      <td>5.603132e-67</td>\n",
       "      <td>0.514695</td>\n",
       "      <td>63.576708</td>\n",
       "      <td>CTCF</td>\n",
       "      <td>2.262945e-295</td>\n",
       "      <td>0.511645</td>\n",
       "      <td>291.970465</td>\n",
       "      <td>Cohesin</td>\n",
       "    </tr>\n",
       "    <tr>\n",
       "      <th>1</th>\n",
       "      <td>GSE90994_RAD21</td>\n",
       "      <td>0.000000e+00</td>\n",
       "      <td>0.532221</td>\n",
       "      <td>inf</td>\n",
       "      <td>RAD21</td>\n",
       "      <td>2.450876e-87</td>\n",
       "      <td>0.505209</td>\n",
       "      <td>83.935817</td>\n",
       "      <td>Cohesin</td>\n",
       "    </tr>\n",
       "    <tr>\n",
       "      <th>2</th>\n",
       "      <td>GSE125129_RAD21</td>\n",
       "      <td>0.000000e+00</td>\n",
       "      <td>0.531510</td>\n",
       "      <td>inf</td>\n",
       "      <td>RAD21</td>\n",
       "      <td>3.494969e-154</td>\n",
       "      <td>0.507011</td>\n",
       "      <td>150.781696</td>\n",
       "      <td>Cohesin</td>\n",
       "    </tr>\n",
       "    <tr>\n",
       "      <th>3</th>\n",
       "      <td>GSE90994_CTCF</td>\n",
       "      <td>1.418955e-98</td>\n",
       "      <td>0.517277</td>\n",
       "      <td>95.173170</td>\n",
       "      <td>CTCF</td>\n",
       "      <td>0.000000e+00</td>\n",
       "      <td>0.512813</td>\n",
       "      <td>inf</td>\n",
       "      <td>Cohesin</td>\n",
       "    </tr>\n",
       "    <tr>\n",
       "      <th>4</th>\n",
       "      <td>GSE126362_CTCF</td>\n",
       "      <td>5.159081e-251</td>\n",
       "      <td>0.527517</td>\n",
       "      <td>247.612567</td>\n",
       "      <td>CTCF</td>\n",
       "      <td>0.000000e+00</td>\n",
       "      <td>0.520070</td>\n",
       "      <td>inf</td>\n",
       "      <td>Cohesin</td>\n",
       "    </tr>\n",
       "  </tbody>\n",
       "</table>\n",
       "</div>"
      ],
      "text/plain": [
       "         ID_Factor  p_value_short  F_value_short  adj_p_short Factor  \\\n",
       "0    GSE80280_CTCF   5.603132e-67       0.514695    63.576708   CTCF   \n",
       "1   GSE90994_RAD21   0.000000e+00       0.532221          inf  RAD21   \n",
       "2  GSE125129_RAD21   0.000000e+00       0.531510          inf  RAD21   \n",
       "3    GSE90994_CTCF   1.418955e-98       0.517277    95.173170   CTCF   \n",
       "4   GSE126362_CTCF  5.159081e-251       0.527517   247.612567   CTCF   \n",
       "\n",
       "    p_value_long  F_value_long  adj_p_long    Group  \n",
       "0  2.262945e-295      0.511645  291.970465  Cohesin  \n",
       "1   2.450876e-87      0.505209   83.935817  Cohesin  \n",
       "2  3.494969e-154      0.507011  150.781696  Cohesin  \n",
       "3   0.000000e+00      0.512813         inf  Cohesin  \n",
       "4   0.000000e+00      0.520070         inf  Cohesin  "
      ]
     },
     "execution_count": 4,
     "metadata": {},
     "output_type": "execute_result"
    }
   ],
   "source": [
    "screen.head()"
   ]
  },
  {
   "cell_type": "code",
   "execution_count": 5,
   "id": "b03541ef",
   "metadata": {},
   "outputs": [],
   "source": [
    "TSS_noRING1B = pd.read_csv(\"/exports/igmm/eddie/wendy-lab/elias/Friman2022/Peaks/mm10/mm10.refGene_exon1_TSS_noRING1B.bed\", \n",
    "                           sep=\"\\t\", header=None, usecols=[0,1,2])\n",
    "TSS_noRING1B.columns = [\"chrom\", \"start\", \"end\"]"
   ]
  },
  {
   "cell_type": "code",
   "execution_count": 6,
   "id": "e6dce99e",
   "metadata": {},
   "outputs": [],
   "source": [
    "cistrome_remap = pd.read_csv(\"/exports/igmm/eddie/wendy-lab/elias/Friman2022/Peaks/mm10/CRE/mm10-cCREs_ESC_DNase_merged5kb_mm10_cistromeDB_ReMap2020_filtered.bed\", \n",
    "                             sep=\"\\t\", \n",
    "                             dtype={\"chrom_cres\": str, \"start_cres\": int, \n",
    "                                    \"end_cres\": int, \"ID\": str})"
   ]
  },
  {
   "cell_type": "code",
   "execution_count": 7,
   "id": "264ff1d7",
   "metadata": {},
   "outputs": [],
   "source": [
    "ids = cistrome_remap[\"ID_Factor\"].unique()"
   ]
  },
  {
   "cell_type": "code",
   "execution_count": 8,
   "id": "340e226d",
   "metadata": {},
   "outputs": [
    {
     "name": "stdout",
     "output_type": "stream",
     "text": [
      "0.0% finished\n",
      "10.0% finished\n",
      "20.0% finished\n",
      "30.0% finished\n",
      "40.0% finished\n",
      "50.0% finished\n",
      "60.0% finished\n",
      "70.0% finished\n",
      "80.0% finished\n",
      "90.0% finished\n",
      "100.0% finished\n"
     ]
    }
   ],
   "source": [
    "TSS_noRING1B_overlap = {\"ID_Factor\": [], \"TSS_noRING1B_Overlap\": []}\n",
    "i = 1\n",
    "counter = 0\n",
    "for id in ids:\n",
    "    percent = (i / len(ids))*100\n",
    "    i += 1\n",
    "    if (percent>counter) & (np.floor(percent)%10 == 0):\n",
    "        print(str(np.floor(percent))+\"% finished\")\n",
    "        counter += 10\n",
    "    regions = cistrome_remap.loc[cistrome_remap[\"ID_Factor\"] == id, \n",
    "                                 [\"chrom_cres\", \"start_cres\", \"end_cres\"]]\n",
    "    overlap = bioframe.overlap(regions, TSS_noRING1B, \n",
    "                               cols1=[\"chrom_cres\", \"start_cres\", \"end_cres\"],\n",
    "                               how=\"both\")\n",
    "    TSS_noRING1B_overlap['ID_Factor'].append(id)\n",
    "    TSS_noRING1B_overlap['TSS_noRING1B_Overlap'].append(overlap.shape[0]/regions.shape[0])\n",
    "print(\"100.0% finished\")\n",
    "TSS_noRING1B_overlap = pd.DataFrame(TSS_noRING1B_overlap)"
   ]
  },
  {
   "cell_type": "code",
   "execution_count": 9,
   "id": "8917fcad",
   "metadata": {},
   "outputs": [],
   "source": [
    "merge = pd.merge(screen, TSS_noRING1B_overlap, on=\"ID_Factor\")"
   ]
  },
  {
   "cell_type": "code",
   "execution_count": 10,
   "id": "d0065f1a",
   "metadata": {},
   "outputs": [],
   "source": [
    "melt = pd.melt(merge, value_vars=[\"F_value_long\", \"F_value_short\"], \n",
    "               id_vars=[\"Group\", \"ID_Factor\", \"TSS_noRING1B_Overlap\"])"
   ]
  },
  {
   "cell_type": "code",
   "execution_count": 11,
   "id": "d29592ee",
   "metadata": {},
   "outputs": [],
   "source": [
    "palette = {f:'whitesmoke' for f in set(melt[\"Group\"])}\n",
    "for f in melt.loc[melt[\"Group\"] == \"TF\",\"Group\"]:\n",
    "    palette[f] = '#4daf4a' \n",
    "for f in melt.loc[melt[\"Group\"] == \"Co-factors\",\"Group\"]:\n",
    "    palette[f] = '#e41a1c' \n",
    "for f in melt.loc[melt[\"Group\"] == \"Cohesin\",\"Group\"]:\n",
    "    palette[f] = 'orange'\n",
    "for f in melt.loc[melt[\"Group\"] == \"Polycomb\",\"Group\"]:\n",
    "    palette[f] = '#377eb8'\n",
    "for f in melt.loc[melt[\"Group\"] == \"Repressive\",\"Group\"]:\n",
    "    palette[f] = 'cyan'"
   ]
  },
  {
   "cell_type": "code",
   "execution_count": 12,
   "id": "93d942bf",
   "metadata": {},
   "outputs": [
    {
     "data": {
      "image/png": "[encoded data removed]",
      "text/plain": [
       "<Figure size 432x216 with 2 Axes>"
      ]
     },
     "metadata": {
      "needs_background": "light"
     },
     "output_type": "display_data"
    }
   ],
   "source": [
    "sns.set(style=\"ticks\", font=\"Arial\")\n",
    "sns.set_context(\"notebook\", rc={\"font.size\":1,\"axes.titlesize\":15, \n",
    "                                \"axes.labelsize\":12, \"xtick.labelsize\": 10,\n",
    "                                \"ytick.labelsize\": 10})  \n",
    "g = sns.FacetGrid(data=melt.sample(melt.shape[0], random_state=100), \n",
    "                  col=\"variable\", hue=\"Group\", palette=palette)\n",
    "g.map(sns.scatterplot, \"TSS_noRING1B_Overlap\", \"value\", alpha = 0.9, edgecolor=\"black\")\n",
    "g.set(xlabel=\"\", \n",
    "      ylabel=\"F\",\n",
    "      xticks=[0.4, 0.8, 1.2])\n",
    "g.fig.text(0.5, 0, \"TSS without RING1B per\\nCRE overlapping factor\", \n",
    "          horizontalalignment='center',\n",
    "          verticalalignment='center',\n",
    "          fontsize=12)\n",
    "sns.despine(trim=True)\n",
    "axes = g.axes.flatten()\n",
    "axes[0].set_title(\"Short-range\")\n",
    "axes[1].set_title(\"Long-range\")\n",
    "g.savefig(\"plots/corr_TSS_noRING1B_screen.svg\")"
   ]
  }
 ],
 "metadata": {
  "kernelspec": {
   "display_name": "Python 3 (ipykernel)",
   "language": "python",
   "name": "python3"
  },
  "language_info": {
   "codemirror_mode": {
    "name": "ipython",
    "version": 3
   },
   "file_extension": ".py",
   "mimetype": "text/x-python",
   "name": "python",
   "nbconvert_exporter": "python",
   "pygments_lexer": "ipython3",
   "version": "3.8.12"
  }
 },
 "nbformat": 4,
 "nbformat_minor": 5
}
