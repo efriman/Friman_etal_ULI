{
 "cells": [
  {
   "cell_type": "code",
   "execution_count": 1,
   "id": "f4f848b7",
   "metadata": {},
   "outputs": [],
   "source": [
    "import numpy as np\n",
    "import matplotlib.pyplot as plt\n",
    "import pandas as pd\n",
    "import seaborn as sns\n",
    "import os\n",
    "from adjustText import adjust_text\n",
    "from coolpuppy.lib import io\n",
    "from scipy import stats\n",
    "import scipy"
   ]
  },
  {
   "cell_type": "code",
   "execution_count": 2,
   "id": "be378926",
   "metadata": {},
   "outputs": [],
   "source": [
    "os.chdir(\"/path/\")"
   ]
  },
  {
   "cell_type": "code",
   "execution_count": 3,
   "id": "a98b8ddf",
   "metadata": {},
   "outputs": [],
   "source": [
    "TFs = pd.read_csv(\"Mus_musculus_TF.txt\", sep=\"\\t\")\n",
    "TFs[\"Factor\"] = TFs[\"Symbol\"].str.upper()"
   ]
  },
  {
   "cell_type": "code",
   "execution_count": 4,
   "id": "659ce49b",
   "metadata": {},
   "outputs": [],
   "source": [
    "Cofactor = pd.read_csv(\"Mus_musculus_TF_cofactors.txt\", sep=\"\\t\")\n",
    "Cofactor[\"Factor\"] = Cofactor[\"Symbol\"].str.upper()"
   ]
  },
  {
   "cell_type": "code",
   "execution_count": 5,
   "id": "43b45aa2",
   "metadata": {},
   "outputs": [],
   "source": [
    "pup_data = io.load_pileup_df(\"Hsieh_mESCs_microC.mm10.mapq_30.1000_mm10-cCREs_ESC_DNase_merged5kb_mm10.bed_expected_noflank_10kbres_100kbto10Mb_stripe.clpy\")"
   ]
  },
  {
   "cell_type": "code",
   "execution_count": 6,
   "id": "95347439",
   "metadata": {},
   "outputs": [],
   "source": [
    "def process_pup(pup):\n",
    "    pup = pup[pup[\"separation\"] != \"all\"]\n",
    "    contact_freq = pd.DataFrame({\"chrom\": [item[0] for sublist in pup[\"coordinates\"] for item in sublist],\n",
    "                                 \"start1\": [int(item[1]) for sublist in pup[\"coordinates\"] for item in sublist],\n",
    "                                 \"end1\": [int(item[2]) for sublist in pup[\"coordinates\"] for item in sublist],\n",
    "                                 \"start2\": [int(item[4]) for sublist in pup[\"coordinates\"] for item in sublist],\n",
    "                                 \"end2\": [int(item[5]) for sublist in pup[\"coordinates\"] for item in sublist],\n",
    "                                 \"distance_band\": ''.join([str(item)*pup.loc[pup[\"distance_band\"] == item, \"vertical_stripe\"].reset_index(drop=True)[0].shape[0] for item in pup[\"distance_band\"]]).split(\")(\"),                    \n",
    "                                 \"contact\": [item[0] for sublist in pup[\"vertical_stripe\"] for item in sublist]})\n",
    "    contact_freq[\"distance_band\"] = contact_freq[\"distance_band\"].str.replace('(','', regex=False)\n",
    "    contact_freq[\"distance_band\"] = contact_freq[\"distance_band\"].str.replace(')','', regex=False)\n",
    "    contact_freq[\"coord1\"] = contact_freq[\"chrom\"] + \"_\" + contact_freq[\"start1\"].astype(str) + \"_\" + contact_freq[\"end1\"].astype(str)\n",
    "    contact_freq[\"coord2\"] = contact_freq[\"chrom\"] + \"_\" + contact_freq[\"start2\"].astype(str) + \"_\" + contact_freq[\"end2\"].astype(str)\n",
    "    contact_freq = contact_freq.dropna()\n",
    "    return contact_freq"
   ]
  },
  {
   "cell_type": "code",
   "execution_count": 7,
   "id": "25ca22bf",
   "metadata": {},
   "outputs": [],
   "source": [
    "contact_freq = process_pup(pup_data)"
   ]
  },
  {
   "cell_type": "code",
   "execution_count": 8,
   "id": "7852e5a2",
   "metadata": {},
   "outputs": [],
   "source": [
    "peakset = pd.read_csv(\"mm10-cCREs_ESC_DNase_merged5kb_mm10_cistromeDB_ReMap2020_filtered.bed\", \n",
    "                      sep=\"\\t\", dtype={\"chrom_cres\": str, \n",
    "                                       \"start_cres\": int, \n",
    "                                       \"end_cres\": int, \n",
    "                                       \"ID\": str})"
   ]
  },
  {
   "cell_type": "code",
   "execution_count": 9,
   "id": "2472522c",
   "metadata": {},
   "outputs": [],
   "source": [
    "#Manual annotation of groups\n",
    "TF = TFs[\"Factor\"].tolist() + [\"SMAD2/3\", \"SMAD2-3\", 'ISL1-2']\n",
    "Cofactors = Cofactor[\"Factor\"].tolist() + [\"ZNF143\", \"CFP1\", \"RPB1\", \"KMT2D\", \"CHD2\", \"SUPT5H\"]\n",
    "Cohesin = ['CTCF', 'SMC1A', 'RAD21', 'STAG1', 'STAG2', 'SMC3', 'WAPL', 'NIPBL']\n",
    "Polycomb = ['PHC1', 'RING1B', 'RING1A', 'RING1B', 'EED', 'EZH2', 'CBX2', 'SUZ12', \n",
    "            'CBX7',  'RBP1', 'MTF2', 'PCGF2', 'RYBP', 'KDM2B', 'BAP1',\n",
    "            'PCGF6', 'CBX6', 'PCGF1', 'PHF19', 'CBX8', 'JARID2', 'EPOP']\n",
    "Repressive = ['CHD4', 'TRIM28', 'SINHCAF', 'TET1', 'TET3', 'SIN3A', 'DNMT3B', \n",
    "              'REST', 'HEXIM1', 'CBX1', 'CBX5', 'CBX3']"
   ]
  },
  {
   "cell_type": "code",
   "execution_count": 10,
   "id": "14625730",
   "metadata": {},
   "outputs": [],
   "source": [
    "#Rename factors (RBP1 misnamed in GEO)\n",
    "peakset[\"Factor\"] = np.where(peakset[\"Factor\"] == \"RNF2\", \"RING1B\", peakset[\"Factor\"])\n",
    "peakset[\"Factor\"] = np.where(peakset[\"Factor\"] == \"CXXC1\", \"CFP1\", peakset[\"Factor\"])\n",
    "peakset[\"Factor\"] = np.where(peakset[\"Factor\"] == \"POLR2A\", \"RPB1\", peakset[\"Factor\"])\n",
    "peakset[\"Factor\"] = np.where(peakset[\"ID_Factor\"] == \"GSE137491_RBP1\", \"RPB1\", peakset[\"Factor\"])"
   ]
  },
  {
   "cell_type": "code",
   "execution_count": 11,
   "id": "2ece34bf",
   "metadata": {},
   "outputs": [],
   "source": [
    "peakset[\"Group\"] = \"Other\"\n",
    "peakset.loc[peakset[\"Factor\"].isin(TF),\"Group\"] = \"TF\"\n",
    "peakset.loc[peakset[\"Factor\"].isin(Cofactors),\"Group\"] = \"Co-factors\"\n",
    "peakset.loc[peakset[\"Factor\"].isin(Repressive),\"Group\"] = \"Repressive\"\n",
    "peakset.loc[peakset[\"Factor\"].isin(Polycomb),\"Group\"] = \"Polycomb\"\n",
    "peakset.loc[peakset[\"Factor\"].isin(Cohesin),\"Group\"] = \"Cohesin\""
   ]
  },
  {
   "cell_type": "code",
   "execution_count": 20,
   "id": "cdc087bd",
   "metadata": {},
   "outputs": [
    {
     "name": "stdout",
     "output_type": "stream",
     "text": [
      "0.0% finished\n",
      "10.0% finished\n",
      "20.0% finished\n",
      "30.0% finished\n",
      "40.0% finished\n",
      "50.0% finished\n",
      "60.0% finished\n",
      "70.0% finished\n",
      "80.0% finished\n",
      "90.0% finished\n",
      "100.0% finished\n"
     ]
    }
   ],
   "source": [
    "store_data = {\"Factor\": [], \"F_both\": [], \"F_one\": [], \n",
    "              \"p_both\": [], \"p_one\": []}\n",
    "contact_df = contact_freq.loc[contact_freq[\"distance_band\"] == \"1000000, 10000000\", [\"coord1\", \"coord2\", \"contact\"]]\n",
    "coord1 = set(contact_df[\"coord1\"].unique())\n",
    "coord2 = set(contact_df[\"coord2\"].unique())\n",
    "factors = peakset.loc[peakset[\"Group\"]==\"TF\",\"Factor\"].unique()\n",
    "i = 1\n",
    "counter = 0\n",
    "for factor in factors:\n",
    "    percent = (i / len(factors))*100\n",
    "    i += 1\n",
    "    if (percent>counter) & (np.floor(percent)%10 == 0):\n",
    "        print(str(np.floor(percent))+\"% finished\")\n",
    "        counter += 10\n",
    "    factor_regions = set(peakset.loc[peakset[\"Factor\"] == factor, \"coords_cre\"])\n",
    "    tf_regions = set(peakset.loc[peakset[\"Factor\"].isin(factors[factors != factor]), \"coords_cre\"])\n",
    "    if len(factor_regions) < 500:\n",
    "        continue\n",
    "    left_factor = coord1.intersection(factor_regions)\n",
    "    right_factor = coord2.intersection(factor_regions)\n",
    "    left_tf = coord1.intersection(tf_regions)\n",
    "    right_tf = coord2.intersection(tf_regions)\n",
    "    none = contact_df.loc[~(contact_df[\"coord1\"].isin(left_factor.union(left_tf))) & \n",
    "                          ~(contact_df[\"coord2\"].isin(right_factor.union(right_tf))), \"contact\"]\n",
    "    one = contact_df.loc[((contact_df[\"coord1\"].isin(left_factor)) & \n",
    "                          ~(contact_df[\"coord2\"].isin(right_factor)) &\n",
    "                          (contact_df[\"coord2\"].isin(right_tf))) |\n",
    "                          (~(contact_df[\"coord1\"].isin(left_factor)) & \n",
    "                          (contact_df[\"coord2\"].isin(right_factor)) &\n",
    "                          (contact_df[\"coord1\"].isin(left_tf))), \"contact\"]\n",
    "    both = contact_df.loc[(contact_df[\"coord1\"].isin(left_factor)) & \n",
    "                          (contact_df[\"coord2\"].isin(right_factor)), \"contact\"]\n",
    "    if (len(one)>50) & (len(none)>50) & (len(both)>50):\n",
    "        MannWhitney_both = stats.mannwhitneyu(y = none, x = both)\n",
    "        MannWhitney_one = stats.mannwhitneyu(y = none, x = one)\n",
    "        store_data['Factor'].append(factor)\n",
    "        store_data['F_both'].append(MannWhitney_both[0] / (len(none) * len(both)))\n",
    "        store_data['F_one'].append(MannWhitney_one[0] / (len(none) * len(one)))\n",
    "        store_data['p_both'].append(MannWhitney_both[1])\n",
    "        store_data['p_one'].append(MannWhitney_one[1])\n",
    "print(\"100.0% finished\")\n",
    "store_data = pd.DataFrame(store_data)"
   ]
  },
  {
   "cell_type": "code",
   "execution_count": 21,
   "id": "b6a7afd8",
   "metadata": {},
   "outputs": [],
   "source": [
    "merge = pd.merge(store_data, peakset[[\"Factor\", \"Group\"]], on=\"Factor\", how=\"left\").drop_duplicates()"
   ]
  },
  {
   "cell_type": "code",
   "execution_count": 22,
   "id": "3817b56e",
   "metadata": {},
   "outputs": [
    {
     "data": {
      "text/html": [
       "<div>\n",
       "<style scoped>\n",
       "    .dataframe tbody tr th:only-of-type {\n",
       "        vertical-align: middle;\n",
       "    }\n",
       "\n",
       "    .dataframe tbody tr th {\n",
       "        vertical-align: top;\n",
       "    }\n",
       "\n",
       "    .dataframe thead th {\n",
       "        text-align: right;\n",
       "    }\n",
       "</style>\n",
       "<table border=\"1\" class=\"dataframe\">\n",
       "  <thead>\n",
       "    <tr style=\"text-align: right;\">\n",
       "      <th></th>\n",
       "      <th>Factor</th>\n",
       "      <th>F_both</th>\n",
       "      <th>F_one</th>\n",
       "      <th>p_both</th>\n",
       "      <th>p_one</th>\n",
       "      <th>Group</th>\n",
       "    </tr>\n",
       "  </thead>\n",
       "  <tbody>\n",
       "    <tr>\n",
       "      <th>0</th>\n",
       "      <td>MTA1</td>\n",
       "      <td>0.636034</td>\n",
       "      <td>0.586757</td>\n",
       "      <td>0.0</td>\n",
       "      <td>9.684464e-299</td>\n",
       "      <td>TF</td>\n",
       "    </tr>\n",
       "    <tr>\n",
       "      <th>19259</th>\n",
       "      <td>NANOG</td>\n",
       "      <td>0.603035</td>\n",
       "      <td>0.566325</td>\n",
       "      <td>0.0</td>\n",
       "      <td>1.507277e-182</td>\n",
       "      <td>TF</td>\n",
       "    </tr>\n",
       "    <tr>\n",
       "      <th>177020</th>\n",
       "      <td>TCF3</td>\n",
       "      <td>0.631279</td>\n",
       "      <td>0.576871</td>\n",
       "      <td>0.0</td>\n",
       "      <td>2.925491e-239</td>\n",
       "      <td>TF</td>\n",
       "    </tr>\n",
       "    <tr>\n",
       "      <th>201681</th>\n",
       "      <td>PRDM14</td>\n",
       "      <td>0.623385</td>\n",
       "      <td>0.587613</td>\n",
       "      <td>0.0</td>\n",
       "      <td>2.251119e-304</td>\n",
       "      <td>TF</td>\n",
       "    </tr>\n",
       "    <tr>\n",
       "      <th>221368</th>\n",
       "      <td>GABPA</td>\n",
       "      <td>0.656370</td>\n",
       "      <td>0.589307</td>\n",
       "      <td>0.0</td>\n",
       "      <td>0.000000e+00</td>\n",
       "      <td>TF</td>\n",
       "    </tr>\n",
       "    <tr>\n",
       "      <th>...</th>\n",
       "      <td>...</td>\n",
       "      <td>...</td>\n",
       "      <td>...</td>\n",
       "      <td>...</td>\n",
       "      <td>...</td>\n",
       "      <td>...</td>\n",
       "    </tr>\n",
       "    <tr>\n",
       "      <th>1625358</th>\n",
       "      <td>TAL1</td>\n",
       "      <td>0.627351</td>\n",
       "      <td>0.603244</td>\n",
       "      <td>0.0</td>\n",
       "      <td>0.000000e+00</td>\n",
       "      <td>TF</td>\n",
       "    </tr>\n",
       "    <tr>\n",
       "      <th>1630932</th>\n",
       "      <td>FLI1</td>\n",
       "      <td>0.654948</td>\n",
       "      <td>0.603082</td>\n",
       "      <td>0.0</td>\n",
       "      <td>0.000000e+00</td>\n",
       "      <td>TF</td>\n",
       "    </tr>\n",
       "    <tr>\n",
       "      <th>1637690</th>\n",
       "      <td>TFAP2C</td>\n",
       "      <td>0.669222</td>\n",
       "      <td>0.608969</td>\n",
       "      <td>0.0</td>\n",
       "      <td>0.000000e+00</td>\n",
       "      <td>TF</td>\n",
       "    </tr>\n",
       "    <tr>\n",
       "      <th>1643882</th>\n",
       "      <td>HOXB4</td>\n",
       "      <td>0.641321</td>\n",
       "      <td>0.605615</td>\n",
       "      <td>0.0</td>\n",
       "      <td>0.000000e+00</td>\n",
       "      <td>TF</td>\n",
       "    </tr>\n",
       "    <tr>\n",
       "      <th>1645893</th>\n",
       "      <td>RARA</td>\n",
       "      <td>0.651538</td>\n",
       "      <td>0.606759</td>\n",
       "      <td>0.0</td>\n",
       "      <td>0.000000e+00</td>\n",
       "      <td>TF</td>\n",
       "    </tr>\n",
       "  </tbody>\n",
       "</table>\n",
       "<p>90 rows × 6 columns</p>\n",
       "</div>"
      ],
      "text/plain": [
       "         Factor    F_both     F_one  p_both          p_one Group\n",
       "0          MTA1  0.636034  0.586757     0.0  9.684464e-299    TF\n",
       "19259     NANOG  0.603035  0.566325     0.0  1.507277e-182    TF\n",
       "177020     TCF3  0.631279  0.576871     0.0  2.925491e-239    TF\n",
       "201681   PRDM14  0.623385  0.587613     0.0  2.251119e-304    TF\n",
       "221368    GABPA  0.656370  0.589307     0.0   0.000000e+00    TF\n",
       "...         ...       ...       ...     ...            ...   ...\n",
       "1625358    TAL1  0.627351  0.603244     0.0   0.000000e+00    TF\n",
       "1630932    FLI1  0.654948  0.603082     0.0   0.000000e+00    TF\n",
       "1637690  TFAP2C  0.669222  0.608969     0.0   0.000000e+00    TF\n",
       "1643882   HOXB4  0.641321  0.605615     0.0   0.000000e+00    TF\n",
       "1645893    RARA  0.651538  0.606759     0.0   0.000000e+00    TF\n",
       "\n",
       "[90 rows x 6 columns]"
      ]
     },
     "execution_count": 22,
     "metadata": {},
     "output_type": "execute_result"
    }
   ],
   "source": [
    "merge"
   ]
  },
  {
   "cell_type": "code",
   "execution_count": 44,
   "id": "f5442f55",
   "metadata": {},
   "outputs": [
    {
     "data": {
      "image/png": "[encoded data removed]",
      "text/plain": [
       "<Figure size 226.772x226.772 with 1 Axes>"
      ]
     },
     "metadata": {},
     "output_type": "display_data"
    }
   ],
   "source": [
    "cm = 1/2.54\n",
    "sns.set(style=\"ticks\", font=\"Arial\")\n",
    "sns.set_context(\"notebook\", rc={\"font.size\":1,\"axes.titlesize\":15, \n",
    "                                \"axes.labelsize\":12, \"xtick.labelsize\": 10,\n",
    "                                \"ytick.labelsize\": 10})  \n",
    "r, pvalue = scipy.stats.spearmanr(merge[\"F_both\"], \n",
    "                                  merge[\"F_one\"])\n",
    "plt.figure(figsize=(8*cm, 8*cm))\n",
    "g = sns.scatterplot(data=merge, x=\"F_both\", y=\"F_one\",                 \n",
    "                alpha=0.9, s=75, \n",
    "                edgecolor='black', linewidth = 0.75)\n",
    "\n",
    "g.set(title='', xlabel=\"F Long-range\\nTF bound at both sides\", \n",
    "      ylabel = \"F Long-range\\nTF bound at one side\",\n",
    "      xlim=[0.45, 0.9], ylim=[0.45, 0.9])\n",
    "plt.xticks([0.5, 0.6, 0.7, 0.8])\n",
    "plt.yticks([0.5, 0.6, 0.7, 0.8])\n",
    "plt.plot([0.5, 0.8], [0.5,0.8], 'black', alpha=1, dashes=(5, 10))\n",
    "plt.text(0.5, 0.7, str(r'$\\rho$' + f' = {r:.2f}'), horizontalalignment='left', size=12)\n",
    "sns.despine(trim=True, offset=0)\n",
    "plt.tight_layout()\n",
    "plt.savefig(\"./plots/mESC_TF_long_one_vs_both.svg\", bbox_inches=\"tight\")"
   ]
  },
  {
   "cell_type": "code",
   "execution_count": 29,
   "id": "866caf11",
   "metadata": {},
   "outputs": [
    {
     "data": {
      "text/plain": [
       "2.2397687081581574e-132"
      ]
     },
     "execution_count": 29,
     "metadata": {},
     "output_type": "execute_result"
    }
   ],
   "source": [
    "np.max(merge[\"p_one\"])"
   ]
  }
 ],
 "metadata": {
  "kernelspec": {
   "display_name": "Python 3 (ipykernel)",
   "language": "python",
   "name": "python3"
  },
  "language_info": {
   "codemirror_mode": {
    "name": "ipython",
    "version": 3
   },
   "file_extension": ".py",
   "mimetype": "text/x-python",
   "name": "python",
   "nbconvert_exporter": "python",
   "pygments_lexer": "ipython3",
   "version": "3.8.12"
  }
 },
 "nbformat": 4,
 "nbformat_minor": 5
}
