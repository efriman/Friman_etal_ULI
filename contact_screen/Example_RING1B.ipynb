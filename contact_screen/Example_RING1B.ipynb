{
 "cells": [
  {
   "cell_type": "code",
   "execution_count": 1,
   "id": "f4f848b7",
   "metadata": {
    "execution": {
     "iopub.execute_input": "2022-08-27T11:49:13.988066Z",
     "iopub.status.busy": "2022-08-27T11:49:13.987667Z",
     "iopub.status.idle": "2022-08-27T11:49:15.276772Z",
     "shell.execute_reply": "2022-08-27T11:49:15.276349Z"
    },
    "papermill": {
     "duration": 1.315505,
     "end_time": "2022-08-27T11:49:15.278488",
     "exception": false,
     "start_time": "2022-08-27T11:49:13.962983",
     "status": "completed"
    },
    "tags": []
   },
   "outputs": [],
   "source": [
    "import numpy as np\n",
    "import pandas as pd\n",
    "import os\n",
    "import seaborn as sns\n",
    "import matplotlib.pyplot as plt\n",
    "from coolpuppy.lib import io"
   ]
  },
  {
   "cell_type": "code",
   "execution_count": 2,
   "id": "be378926",
   "metadata": {
    "execution": {
     "iopub.execute_input": "2022-08-27T11:49:21.829801Z",
     "iopub.status.busy": "2022-08-27T11:49:21.829533Z",
     "iopub.status.idle": "2022-08-27T11:49:21.832423Z",
     "shell.execute_reply": "2022-08-27T11:49:21.832088Z"
    },
    "papermill": {
     "duration": 0.011366,
     "end_time": "2022-08-27T11:49:21.833552",
     "exception": false,
     "start_time": "2022-08-27T11:49:21.822186",
     "status": "completed"
    },
    "tags": []
   },
   "outputs": [],
   "source": [
    "os.chdir(\"/path/\")"
   ]
  },
  {
   "cell_type": "code",
   "execution_count": 3,
   "id": "e33269a8",
   "metadata": {
    "execution": {
     "iopub.execute_input": "2022-08-27T11:49:21.865046Z",
     "iopub.status.busy": "2022-08-27T11:49:21.864931Z",
     "iopub.status.idle": "2022-08-27T11:50:17.114256Z",
     "shell.execute_reply": "2022-08-27T11:50:17.113657Z"
    },
    "papermill": {
     "duration": 55.25774,
     "end_time": "2022-08-27T11:50:17.115892",
     "exception": false,
     "start_time": "2022-08-27T11:49:21.858152",
     "status": "completed"
    },
    "tags": []
   },
   "outputs": [],
   "source": [
    "pup_data = io.load_pileup_df(\"Hsieh_mESCs_microC.mm10.mapq_30.1000_mm10-cCREs_ESC_DNase_merged5kb_mm10.bed_expected_noflank_10kbres_100kbto10Mb_stripe.clpy\")"
   ]
  },
  {
   "cell_type": "code",
   "execution_count": 4,
   "id": "4eb93170",
   "metadata": {},
   "outputs": [],
   "source": [
    "pup_data = pup_data[pup_data[\"separation\"] != \"all\"]"
   ]
  },
  {
   "cell_type": "code",
   "execution_count": 5,
   "id": "d05f4635",
   "metadata": {
    "execution": {
     "iopub.execute_input": "2022-08-27T11:50:17.134420Z",
     "iopub.status.busy": "2022-08-27T11:50:17.134122Z",
     "iopub.status.idle": "2022-08-27T11:51:01.150065Z",
     "shell.execute_reply": "2022-08-27T11:51:01.149525Z"
    },
    "papermill": {
     "duration": 44.025867,
     "end_time": "2022-08-27T11:51:01.151588",
     "exception": false,
     "start_time": "2022-08-27T11:50:17.125721",
     "status": "completed"
    },
    "tags": []
   },
   "outputs": [],
   "source": [
    "#Load data\n",
    "contact_freq = pd.DataFrame({\"chrom\": [item[0] for sublist in pup_data[\"coordinates\"] for item in sublist],\n",
    "                             \"start1\": [int(item[1]) for sublist in pup_data[\"coordinates\"] for item in sublist],\n",
    "                             \"end1\": [int(item[2]) for sublist in pup_data[\"coordinates\"] for item in sublist],\n",
    "                             \"start2\": [int(item[4]) for sublist in pup_data[\"coordinates\"] for item in sublist],\n",
    "                             \"end2\": [int(item[5]) for sublist in pup_data[\"coordinates\"] for item in sublist],\n",
    "                             \"distance_band\": ''.join([str(item)*pup_data.loc[pup_data[\"distance_band\"] == item, \"vertical_stripe\"].reset_index(drop=True)[0].shape[0] for item in pup_data[\"distance_band\"]]).split(\")(\"),                    \n",
    "                             \"contact\": [item[0] for sublist in pup_data[\"vertical_stripe\"] for item in sublist]})"
   ]
  },
  {
   "cell_type": "code",
   "execution_count": 6,
   "id": "f48e7fd4",
   "metadata": {
    "execution": {
     "iopub.execute_input": "2022-08-27T11:51:01.169951Z",
     "iopub.status.busy": "2022-08-27T11:51:01.169682Z",
     "iopub.status.idle": "2022-08-27T11:51:34.180165Z",
     "shell.execute_reply": "2022-08-27T11:51:34.179771Z"
    },
    "papermill": {
     "duration": 33.019574,
     "end_time": "2022-08-27T11:51:34.181646",
     "exception": false,
     "start_time": "2022-08-27T11:51:01.162072",
     "status": "completed"
    },
    "tags": []
   },
   "outputs": [],
   "source": [
    "contact_freq[\"distance_band\"] = contact_freq[\"distance_band\"].str.replace('(','', regex=False)\n",
    "contact_freq[\"distance_band\"] = contact_freq[\"distance_band\"].str.replace(')','', regex=False)\n",
    "contact_freq[\"coord1\"] = contact_freq[\"chrom\"] + \"_\" + contact_freq[\"start1\"].astype(str) + \"_\" + contact_freq[\"end1\"].astype(str)\n",
    "contact_freq[\"coord2\"] = contact_freq[\"chrom\"] + \"_\" + contact_freq[\"start2\"].astype(str) + \"_\" + contact_freq[\"end2\"].astype(str)\n",
    "contact_freq = contact_freq.dropna()"
   ]
  },
  {
   "cell_type": "code",
   "execution_count": 7,
   "id": "84ee0303",
   "metadata": {
    "execution": {
     "iopub.execute_input": "2022-08-27T11:51:34.216812Z",
     "iopub.status.busy": "2022-08-27T11:51:34.216694Z",
     "iopub.status.idle": "2022-08-27T11:51:37.715682Z",
     "shell.execute_reply": "2022-08-27T11:51:37.715310Z"
    },
    "papermill": {
     "duration": 3.507557,
     "end_time": "2022-08-27T11:51:37.717159",
     "exception": false,
     "start_time": "2022-08-27T11:51:34.209602",
     "status": "completed"
    },
    "tags": []
   },
   "outputs": [],
   "source": [
    "#Load database peaks\n",
    "cistrome_remap = pd.read_csv(\"cistrome_remap_filtered.bed\", sep=\"\\t\", \n",
    "                             dtype={\"chrom_cres\": str, \"start_cres\": int, \n",
    "                                    \"end_cres\": int, \"ID\": str})"
   ]
  },
  {
   "cell_type": "code",
   "execution_count": 8,
   "id": "1c55ce5e",
   "metadata": {},
   "outputs": [
    {
     "name": "stderr",
     "output_type": "stream",
     "text": [
      "/tmp/ipykernel_16244/599969049.py:8: SettingWithCopyWarning: \n",
      "A value is trying to be set on a copy of a slice from a DataFrame.\n",
      "Try using .loc[row_indexer,col_indexer] = value instead\n",
      "\n",
      "See the caveats in the documentation: https://pandas.pydata.org/pandas-docs/stable/user_guide/indexing.html#returning-a-view-versus-a-copy\n",
      "  contact_df[\"RING1B_bound\"] = \"None\"\n"
     ]
    }
   ],
   "source": [
    "#Extract interaction pairs bound or not by RING1B\n",
    "contact_df = contact_freq.loc[contact_freq[\"distance_band\"] == \"1000000, 10000000\"]\n",
    "regions = set(cistrome_remap.loc[cistrome_remap[\"ID_Factor\"] == \"GSE81203_RNF2\", \"coords_cre\"])\n",
    "coord1 = set(contact_df[\"coord1\"].unique())\n",
    "coord2 = set(contact_df[\"coord2\"].unique())\n",
    "left = coord1.intersection(regions)\n",
    "right = coord2.intersection(regions)\n",
    "contact_df[\"RING1B_bound\"] = \"None\"\n",
    "contact_df.loc[(contact_df[\"coord1\"].isin(left)) | (contact_df[\"coord2\"].isin(right)),\"RING1B_bound\"] = \"One\"\n",
    "contact_df.loc[(contact_df[\"coord1\"].isin(left)) & (contact_df[\"coord2\"].isin(right)),\"RING1B_bound\"] = \"Both\""
   ]
  },
  {
   "cell_type": "code",
   "execution_count": 9,
   "id": "1909d1d5",
   "metadata": {},
   "outputs": [
    {
     "name": "stderr",
     "output_type": "stream",
     "text": [
      "/tmp/ipykernel_16244/1792324766.py:1: SettingWithCopyWarning: \n",
      "A value is trying to be set on a copy of a slice from a DataFrame.\n",
      "Try using .loc[row_indexer,col_indexer] = value instead\n",
      "\n",
      "See the caveats in the documentation: https://pandas.pydata.org/pandas-docs/stable/user_guide/indexing.html#returning-a-view-versus-a-copy\n",
      "  contact_df[\"log2_contact\"] = np.log2(contact_df[\"contact\"]+1)\n"
     ]
    }
   ],
   "source": [
    "contact_df[\"log2_contact\"] = np.log2(contact_df[\"contact\"]+1)"
   ]
  },
  {
   "cell_type": "code",
   "execution_count": 10,
   "id": "9ecc8169",
   "metadata": {},
   "outputs": [],
   "source": [
    "def patch_violinplot():\n",
    "     from matplotlib.collections import PolyCollection\n",
    "     ax = plt.gca()\n",
    "     for art in ax.get_children():\n",
    "          if isinstance(art, PolyCollection):\n",
    "              art.set_edgecolor((0, 0, 0))"
   ]
  },
  {
   "cell_type": "code",
   "execution_count": 13,
   "id": "5c6e8a88",
   "metadata": {},
   "outputs": [
    {
     "data": {
      "image/png": "[encoded data removed]",
      "text/plain": [
       "<Figure size 180x144 with 1 Axes>"
      ]
     },
     "metadata": {},
     "output_type": "display_data"
    }
   ],
   "source": [
    "sns.set(style=\"ticks\", font=\"Arial\")\n",
    "sns.set_context(\"notebook\", rc={\"font.size\":1,\"axes.titlesize\":16, \n",
    "                                \"axes.labelsize\": 12, \"xtick.labelsize\": 12,\n",
    "                                \"ytick.labelsize\": 12})   \n",
    "data = contact_df[contact_df[\"RING1B_bound\"] != \"One\"].reset_index(drop=True)\n",
    "g = sns.catplot(data = data, \n",
    "                x = \"RING1B_bound\", y = \"log2_contact\", kind = \"violin\", \n",
    "                height = 2, aspect = 1.25, color=\"whitesmoke\",\n",
    "                order=[\"None\", \"Both\"], cut=0, width=2)\n",
    "g.map(plt.axhline, y=data.loc[data[\"RING1B_bound\"] == \"None\",\"log2_contact\"].median(), \n",
    "      ls='--', color='r', linewidth=1)\n",
    "g.set(xlabel=\"RING1B overlap\", title=\"\", ylabel=\"log2(O/E contact frequency+1)\")\n",
    "plt.tight_layout()\n",
    "patch_violinplot()\n",
    "sns.despine(trim=True)\n",
    "plt.savefig(\"./plots/RING1B_overlap.svg\")"
   ]
  }
 ],
 "metadata": {
  "kernelspec": {
   "display_name": "Python 3 (ipykernel)",
   "language": "python",
   "name": "python3"
  },
  "language_info": {
   "codemirror_mode": {
    "name": "ipython",
    "version": 3
   },
   "file_extension": ".py",
   "mimetype": "text/x-python",
   "name": "python",
   "nbconvert_exporter": "python",
   "pygments_lexer": "ipython3",
   "version": "3.8.12"
  },
  "papermill": {
   "default_parameters": {},
   "duration": 4081.93564,
   "end_time": "2022-08-27T12:57:12.534384",
   "environment_variables": {},
   "exception": null,
   "input_path": "/exports/igmm/eddie/wendy-lab/elias/contact_screen/contact_screen_ES.ipynb",
   "output_path": "/exports/igmm/eddie/wendy-lab/elias/contact_screen/contact_screen_ES_output.ipynb",
   "parameters": {},
   "start_time": "2022-08-27T11:49:10.598744",
   "version": "2.4.0"
  }
 },
 "nbformat": 4,
 "nbformat_minor": 5
}
