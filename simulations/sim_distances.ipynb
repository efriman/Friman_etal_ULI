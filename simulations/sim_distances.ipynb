{
 "cells": [
  {
   "cell_type": "code",
   "execution_count": 1,
   "metadata": {},
   "outputs": [],
   "source": [
    "import numpy as np\n",
    "import pandas as pd\n",
    "import matplotlib.pyplot as plt\n",
    "import seaborn as sns\n",
    "import os\n",
    "import glob"
   ]
  },
  {
   "cell_type": "code",
   "execution_count": 2,
   "metadata": {},
   "outputs": [
    {
     "data": {
      "text/plain": [
       "['FISH.2705.4664.CM.nm', 'FISH.2705.3268.CM.nm']"
      ]
     },
     "execution_count": 2,
     "metadata": {},
     "output_type": "execute_result"
    }
   ],
   "source": [
    "files = glob.glob('*dat')\n",
    "files = [i.replace(\".dat\", \"\") for i in files]\n",
    "files"
   ]
  },
  {
   "cell_type": "code",
   "execution_count": 3,
   "metadata": {},
   "outputs": [
    {
     "data": {
      "text/html": [
       "<div>\n",
       "<style scoped>\n",
       "    .dataframe tbody tr th:only-of-type {\n",
       "        vertical-align: middle;\n",
       "    }\n",
       "\n",
       "    .dataframe tbody tr th {\n",
       "        vertical-align: top;\n",
       "    }\n",
       "\n",
       "    .dataframe thead th {\n",
       "        text-align: right;\n",
       "    }\n",
       "</style>\n",
       "<table border=\"1\" class=\"dataframe\">\n",
       "  <thead>\n",
       "    <tr style=\"text-align: right;\">\n",
       "      <th></th>\n",
       "      <th>dist</th>\n",
       "      <th>sample</th>\n",
       "    </tr>\n",
       "  </thead>\n",
       "  <tbody>\n",
       "    <tr>\n",
       "      <th>0</th>\n",
       "      <td>2.781020</td>\n",
       "      <td>FISH_2705_4664</td>\n",
       "    </tr>\n",
       "    <tr>\n",
       "      <th>1</th>\n",
       "      <td>1.221320</td>\n",
       "      <td>FISH_2705_4664</td>\n",
       "    </tr>\n",
       "    <tr>\n",
       "      <th>2</th>\n",
       "      <td>1.908620</td>\n",
       "      <td>FISH_2705_4664</td>\n",
       "    </tr>\n",
       "    <tr>\n",
       "      <th>3</th>\n",
       "      <td>1.492730</td>\n",
       "      <td>FISH_2705_4664</td>\n",
       "    </tr>\n",
       "    <tr>\n",
       "      <th>4</th>\n",
       "      <td>1.313800</td>\n",
       "      <td>FISH_2705_4664</td>\n",
       "    </tr>\n",
       "    <tr>\n",
       "      <th>...</th>\n",
       "      <td>...</td>\n",
       "      <td>...</td>\n",
       "    </tr>\n",
       "    <tr>\n",
       "      <th>743</th>\n",
       "      <td>0.849223</td>\n",
       "      <td>FISH_2705_3268</td>\n",
       "    </tr>\n",
       "    <tr>\n",
       "      <th>744</th>\n",
       "      <td>0.873272</td>\n",
       "      <td>FISH_2705_3268</td>\n",
       "    </tr>\n",
       "    <tr>\n",
       "      <th>745</th>\n",
       "      <td>0.773341</td>\n",
       "      <td>FISH_2705_3268</td>\n",
       "    </tr>\n",
       "    <tr>\n",
       "      <th>746</th>\n",
       "      <td>0.671683</td>\n",
       "      <td>FISH_2705_3268</td>\n",
       "    </tr>\n",
       "    <tr>\n",
       "      <th>747</th>\n",
       "      <td>1.296190</td>\n",
       "      <td>FISH_2705_3268</td>\n",
       "    </tr>\n",
       "  </tbody>\n",
       "</table>\n",
       "<p>1496 rows × 2 columns</p>\n",
       "</div>"
      ],
      "text/plain": [
       "         dist          sample\n",
       "0    2.781020  FISH_2705_4664\n",
       "1    1.221320  FISH_2705_4664\n",
       "2    1.908620  FISH_2705_4664\n",
       "3    1.492730  FISH_2705_4664\n",
       "4    1.313800  FISH_2705_4664\n",
       "..        ...             ...\n",
       "743  0.849223  FISH_2705_3268\n",
       "744  0.873272  FISH_2705_3268\n",
       "745  0.773341  FISH_2705_3268\n",
       "746  0.671683  FISH_2705_3268\n",
       "747  1.296190  FISH_2705_3268\n",
       "\n",
       "[1496 rows x 2 columns]"
      ]
     },
     "execution_count": 3,
     "metadata": {},
     "output_type": "execute_result"
    }
   ],
   "source": [
    "data = pd.DataFrame()\n",
    "for sample in files:\n",
    "    df = pd.read_csv(f\"{sample}.dat\", sep=\"\\t\")\n",
    "    df.columns = [\"dist\"]\n",
    "    df[\"sample\"] = \"_\".join(sample.split(\".\")[0:3])\n",
    "    data = pd.concat([data, df])\n",
    "data[\"dist\"] = data[\"dist\"]/1000\n",
    "data"
   ]
  },
  {
   "cell_type": "code",
   "execution_count": 4,
   "metadata": {},
   "outputs": [],
   "source": [
    "data = data.replace({\"FISH_2705_4664\": \"5.8 Mb\", \"FISH_2705_3268\": \"1.7 Mb\"})"
   ]
  },
  {
   "cell_type": "code",
   "execution_count": 5,
   "metadata": {},
   "outputs": [
    {
     "data": {
      "image/png": "[encoded data removed]",
      "text/plain": [
       "<Figure size 106.299x141.732 with 1 Axes>"
      ]
     },
     "metadata": {
      "needs_background": "light"
     },
     "output_type": "display_data"
    }
   ],
   "source": [
    "cm = 1/2.54\n",
    "sns.set(style=\"ticks\", font=\"Arial\")\n",
    "sns.set_context(\"notebook\", rc={\"font.size\":1,\n",
    "                                \"axes.labelsize\": 10,\n",
    "                                \"xtick.labelsize\": 10,\n",
    "                                \"ytick.labelsize\": 10})   \n",
    "props = {\n",
    "    'boxprops':{'edgecolor':'dimgrey'},\n",
    "    'medianprops':{'color':'black'},\n",
    "    'whiskerprops':{'color':'dimgrey'},\n",
    "    'capprops':{'color':'dimgrey'}\n",
    "}\n",
    "g = sns.catplot(data=data, kind='box', \n",
    "                x='sample', y='dist',\n",
    "                dodge=False, showfliers=False, height=5*cm, aspect=0.75,\n",
    "                linewidth=2, hue=\"sample\", legend=False, **props,\n",
    "                palette=[\"white\", \"white\"])\n",
    "g.map_dataframe(sns.stripplot, x='sample', y='dist', hue='sample', \n",
    "                size=5, edgecolor=\"k\", linewidth=0.5,\n",
    "                palette=['whitesmoke', 'whitesmoke'], alpha=0.15)\n",
    "for ax in g.axes.flat:\n",
    "    ax.set_ylabel(\"Distance [µm]\", size=10)\n",
    "    ax.set_xlabel(\"\")\n",
    "    ax.set_yticks([0, 1, 2, 3, 4])\n",
    "xmin, xmax = ax.get_xlim()\n",
    "ax.set_xlim(xmin - 0.1, xmax + 0.1)\n",
    "ax.set_ylim(-0.5, 4.75)\n",
    "sns.despine(trim=True)\n",
    "plt.savefig(\"sim_distances.svg\", bbox_inches=\"tight\")"
   ]
  },
  {
   "cell_type": "code",
   "execution_count": 6,
   "metadata": {
    "scrolled": false
   },
   "outputs": [
    {
     "data": {
      "image/png": "[encoded data removed]",
      "text/plain": [
       "<Figure size 179.774x141.732 with 1 Axes>"
      ]
     },
     "metadata": {
      "needs_background": "light"
     },
     "output_type": "display_data"
    }
   ],
   "source": [
    "g = sns.displot(\n",
    "    data,\n",
    "    x=\"dist\", hue=\"sample\",\n",
    "    kind=\"ecdf\", aspect=0.75, linewidth=2, height=5*cm,\n",
    "    palette=[\"#1f78b4\", \"#ff7f00\"]\n",
    ")\n",
    "g.legend.set_title(None)\n",
    "g.set(xticks=np.linspace(0, 4, 9),\n",
    "      xticklabels=[0, \"\", 1, \"\", 2, \"\", 3, \"\", 4],\n",
    "      xlim=[-0.25, 4],\n",
    "      yticks=[0, 0.25, 0.5, 0.75, 1],\n",
    "      ylim=[-0.02, 1.2])\n",
    "sns.despine(trim=True)\n",
    "for ax in g.axes.flat:\n",
    "    ax.set_xlabel(\"Distance [µm]\", size=10)\n",
    "    ax.set_ylabel(\"Cumulative frequency\", size=10)\n",
    "#         ax.set_xlabel(\"\")\n",
    "#     if len(ax.get_ylabel()) == 0:\n",
    "#         ax.spines['left'].set_visible(False)\n",
    "#         ax.tick_params(axis='y', left=False)\n",
    "#     else:\n",
    "#         ax.set_ylabel(\"Cumulative frequency\", size=10)\n",
    "plt.savefig(\"sim_distances_ecdf.svg\", bbox_inches=\"tight\")"
   ]
  }
 ],
 "metadata": {
  "kernelspec": {
   "display_name": "Python 3 (ipykernel)",
   "language": "python",
   "name": "python3"
  },
  "language_info": {
   "codemirror_mode": {
    "name": "ipython",
    "version": 3
   },
   "file_extension": ".py",
   "mimetype": "text/x-python",
   "name": "python",
   "nbconvert_exporter": "python",
   "pygments_lexer": "ipython3",
   "version": "3.8.12"
  }
 },
 "nbformat": 4,
 "nbformat_minor": 4
}
