{
 "cells": [
  {
   "cell_type": "code",
   "execution_count": 1,
   "id": "9c69176d",
   "metadata": {},
   "outputs": [
    {
     "name": "stdout",
     "output_type": "stream",
     "text": [
      "INFO:coolpuppy:Saved output to plots/HAP1_GPseq_third_CGI_noH3K27me3_cis.svg\r\n"
     ]
    }
   ],
   "source": [
    "!plotpup.py --input_pups \\\n",
    "GSE95014_Hap1_res5000_hg19_GPseq_third_?_hg19_CAP-CGI_noH3K27me3_HAP1.bed_expected_cisbalanced.clpy \\\n",
    "--output plots/HAP1_GPseq_third_CGI_noH3K27me3_cis.svg --cols separation --rows features \\\n",
    "--font Arial --plot_ticks \\\n",
    "--rownames 'Bin 1' 'Bin 2' 'Bin 3' --vmax 2.2"
   ]
  },
  {
   "cell_type": "code",
   "execution_count": 2,
   "id": "b137718b",
   "metadata": {},
   "outputs": [
    {
     "name": "stdout",
     "output_type": "stream",
     "text": [
      "INFO:coolpuppy:Saved output to plots/HAP1_GPseq_third_CGI_noH3K27me3_cis_normcorners.svg\r\n"
     ]
    }
   ],
   "source": [
    "!plotpup.py --input_pups \\\n",
    "GSE95014_Hap1_res5000_hg19_GPseq_third_?_hg19_CAP-CGI_noH3K27me3_HAP1.bed_expected_cisbalanced.clpy \\\n",
    "--output plots/HAP1_GPseq_third_CGI_noH3K27me3_cis_normcorners.svg --cols separation --rows features \\\n",
    "--vmax 1.3 --norm_corners 10 \\\n",
    "--font Arial --plot_ticks \\\n",
    "--rownames 'Bin 1' 'Bin 2' 'Bin 3'"
   ]
  },
  {
   "cell_type": "code",
   "execution_count": 3,
   "id": "4152b9b0",
   "metadata": {},
   "outputs": [
    {
     "name": "stdout",
     "output_type": "stream",
     "text": [
      "INFO:coolpuppy:Saved output to plots/HAP1_GPseq_third_CGI_noH3K27me3_trans.svg\r\n"
     ]
    }
   ],
   "source": [
    "!plotpup.py --input_pups \\\n",
    "GSE95014_Hap1_res5000_hg19_GPseq_third_?_hg19_CAP-CGI_noH3K27me3_HAP1.bed_expected_trans.clpy \\\n",
    "--output plots/HAP1_GPseq_third_CGI_noH3K27me3_trans.svg --rows features \\\n",
    "--font Arial --plot_ticks \\\n",
    "--rownames 'Bin 1' 'Bin 2' 'Bin 3' --vmax 2.2"
   ]
  },
  {
   "cell_type": "code",
   "execution_count": 4,
   "id": "cfb21b8a",
   "metadata": {},
   "outputs": [
    {
     "name": "stdout",
     "output_type": "stream",
     "text": [
      "INFO:coolpuppy:Saved output to plots/HAP1_GPseq_third_CGI_noH3K27me3_trans_normcorners.svg\r\n"
     ]
    }
   ],
   "source": [
    "!plotpup.py --input_pups \\\n",
    "GSE95014_Hap1_res5000_hg19_GPseq_third_?_hg19_CAP-CGI_noH3K27me3_HAP1.bed_expected_trans.clpy \\\n",
    "--output plots/HAP1_GPseq_third_CGI_noH3K27me3_trans_normcorners.svg --rows features \\\n",
    "--vmax 1.3 --norm_corners 10 \\\n",
    "--font Arial --plot_ticks \\\n",
    "--rownames 'Bin 1' 'Bin 2' 'Bin 3'"
   ]
  },
  {
   "cell_type": "code",
   "execution_count": 5,
   "id": "55ef7a76",
   "metadata": {},
   "outputs": [
    {
     "name": "stdout",
     "output_type": "stream",
     "text": [
      "INFO:coolpuppy:Saved output to plots/THP1_H3K27ac_down_10to25Mb.svg\r\n"
     ]
    }
   ],
   "source": [
    "!plotpup.py --input_pups \\\n",
    "GSE201353_LIMA_THP1_WT_LPIF_0000_S_0.0.0_megaMap_inter_res5000_THP1_H3K27ac_down.bed_expected_cisbalanced.clpy \\\n",
    "GSE201353_LIMA_THP1_WT_LPIF_0030_S_0.0.0_megaMap_inter_res5000_THP1_H3K27ac_down.bed_expected_cisbalanced.clpy \\\n",
    "GSE201353_LIMA_THP1_WT_LPIF_0060_S_0.0.0_megaMap_inter_res5000_THP1_H3K27ac_down.bed_expected_cisbalanced.clpy \\\n",
    "GSE201353_LIMA_THP1_WT_LPIF_0090_S_0.0.0_megaMap_inter_res5000_THP1_H3K27ac_down.bed_expected_cisbalanced.clpy \\\n",
    "GSE201353_LIMA_THP1_WT_LPIF_0120_S_0.0.0_megaMap_inter_res5000_THP1_H3K27ac_down.bed_expected_cisbalanced.clpy \\\n",
    "GSE201353_LIMA_THP1_WT_LPIF_0240_S_0.0.0_megaMap_inter_res5000_THP1_H3K27ac_down.bed_expected_cisbalanced.clpy \\\n",
    "GSE201353_LIMA_THP1_WT_LPIF_0360_S_0.0.0_megaMap_inter_res5000_THP1_H3K27ac_down.bed_expected_cisbalanced.clpy \\\n",
    "GSE201353_LIMA_THP1_WT_LPIF_1440_S_0.0.0_megaMap_inter_res5000_THP1_H3K27ac_down.bed_expected_cisbalanced.clpy \\\n",
    "--output plots/THP1_H3K27ac_down_10to25Mb.svg --cols cooler \\\n",
    "--query \"separation == '10.0Mb-\\n25.0Mb'\" \\\n",
    "--font Arial --plot_ticks \\\n",
    "--vmax 1.5 --norm_corners 10 \\\n",
    "--colnames '' '' '' '' '' '' '' ''"
   ]
  },
  {
   "cell_type": "code",
   "execution_count": 6,
   "id": "4ecf6bae",
   "metadata": {},
   "outputs": [
    {
     "name": "stdout",
     "output_type": "stream",
     "text": [
      "INFO:coolpuppy:Saved output to plots/THP1_H3K27ac_up_10to25Mb.svg\r\n"
     ]
    }
   ],
   "source": [
    "!plotpup.py --input_pups \\\n",
    "GSE201353_LIMA_THP1_WT_LPIF_0000_S_0.0.0_megaMap_inter_res5000_THP1_H3K27ac_up.bed_expected_cisbalanced.clpy \\\n",
    "GSE201353_LIMA_THP1_WT_LPIF_0030_S_0.0.0_megaMap_inter_res5000_THP1_H3K27ac_up.bed_expected_cisbalanced.clpy \\\n",
    "GSE201353_LIMA_THP1_WT_LPIF_0060_S_0.0.0_megaMap_inter_res5000_THP1_H3K27ac_up.bed_expected_cisbalanced.clpy \\\n",
    "GSE201353_LIMA_THP1_WT_LPIF_0090_S_0.0.0_megaMap_inter_res5000_THP1_H3K27ac_up.bed_expected_cisbalanced.clpy \\\n",
    "GSE201353_LIMA_THP1_WT_LPIF_0120_S_0.0.0_megaMap_inter_res5000_THP1_H3K27ac_up.bed_expected_cisbalanced.clpy \\\n",
    "GSE201353_LIMA_THP1_WT_LPIF_0240_S_0.0.0_megaMap_inter_res5000_THP1_H3K27ac_up.bed_expected_cisbalanced.clpy \\\n",
    "GSE201353_LIMA_THP1_WT_LPIF_0360_S_0.0.0_megaMap_inter_res5000_THP1_H3K27ac_up.bed_expected_cisbalanced.clpy \\\n",
    "GSE201353_LIMA_THP1_WT_LPIF_1440_S_0.0.0_megaMap_inter_res5000_THP1_H3K27ac_up.bed_expected_cisbalanced.clpy \\\n",
    "--output plots/THP1_H3K27ac_up_10to25Mb.svg --cols cooler \\\n",
    "--query \"separation == '10.0Mb-\\n25.0Mb'\" \\\n",
    "--font Arial --plot_ticks \\\n",
    "--vmax 1.5 --norm_corners 10 \\\n",
    "--colnames '' '' '' '' '' '' '' ''"
   ]
  },
  {
   "cell_type": "code",
   "execution_count": 11,
   "id": "1b855063",
   "metadata": {},
   "outputs": [
    {
     "name": "stdout",
     "output_type": "stream",
     "text": [
      "INFO:coolpuppy:Saved output to plots/HAP1_CpGQ4.svg\r\n"
     ]
    }
   ],
   "source": [
    "!plotpup.py --input_pups \\\n",
    "GSE95014_Hap1_res5000_hg19_CAP-CGI_CpG_density_quartile_4_hg19_noH3K27me3_HAP1.bed_expected_cisbalanced.clpy \\\n",
    "GSE95014_SCC4KO_res5000_hg19_CAP-CGI_CpG_density_quartile_4_hg19_noH3K27me3_HAP1.bed_expected_cisbalanced.clpy \\\n",
    "GSE95014_WaplKO_1.14_res5000_hg19_CAP-CGI_CpG_density_quartile_4_hg19_noH3K27me3_HAP1.bed_expected_cisbalanced.clpy \\\n",
    "GSE95014_WaplKO_3.3_res5000_hg19_CAP-CGI_CpG_density_quartile_4_hg19_noH3K27me3_HAP1.bed_expected_cisbalanced.clpy \\\n",
    "GSE95014_DKO_3.3_res5000_hg19_CAP-CGI_CpG_density_quartile_4_hg19_noH3K27me3_HAP1.bed_expected_cisbalanced.clpy \\\n",
    "--output plots/HAP1_CpGQ4.svg --rows cooler --cols separation \\\n",
    "--font Arial --plot_ticks \\\n",
    "--vmax 1.3 --norm_corners 10 \\\n",
    "--rownames 'WT' 'SCC4 KO' 'WAPL KO1' 'WAPL KO2' 'SCC4/WAPL DKO'"
   ]
  },
  {
   "cell_type": "code",
   "execution_count": 12,
   "id": "d3cc813b",
   "metadata": {},
   "outputs": [
    {
     "name": "stdout",
     "output_type": "stream",
     "text": [
      "INFO:coolpuppy:3 rownames but 2 columns, ignoring\n",
      "INFO:coolpuppy:Saved output to plots/GM12878_MYC_noMYC.svg\n"
     ]
    }
   ],
   "source": [
    "!plotpup.py --input_pups \\\n",
    "GM12878.hg38.1000_GM12878_H3K27ac_MYC_plus_noMYC_minus_hg38.bed_flipstrand_expected_cisbalanced.clpy \\\n",
    "--output plots/GM12878_MYC_noMYC.svg --rows orientation --cols separation \\\n",
    "--query \"orientation == '--' | orientation == '+-'\" \\\n",
    "--row_order '-- +-' \\\n",
    "--rownames '' '' '' \\\n",
    "--font Arial --plot_ticks \\\n",
    "--vmax 1.5 --norm_corners 10 \\"
   ]
  },
  {
   "cell_type": "code",
   "execution_count": 13,
   "id": "a015ea32",
   "metadata": {},
   "outputs": [
    {
     "name": "stdout",
     "output_type": "stream",
     "text": [
      "INFO:coolpuppy:Saved output to plots/GM12878_MYC_MYC.svg\r\n"
     ]
    }
   ],
   "source": [
    "!plotpup.py --input_pups \\\n",
    "GM12878.hg38.1000_GM12878_H3K27ac_MYC_plus_noMYC_minus_hg38.bed_flipstrand_expected_cisbalanced.clpy \\\n",
    "--output plots/GM12878_MYC_MYC.svg --cols separation \\\n",
    "--query \"orientation == '++'\" \\\n",
    "--rownames '' \\\n",
    "--font Arial --plot_ticks \\\n",
    "--vmax 1.5 --norm_corners 10 \\"
   ]
  },
  {
   "cell_type": "code",
   "execution_count": 9,
   "id": "7c428b26",
   "metadata": {},
   "outputs": [
    {
     "name": "stdout",
     "output_type": "stream",
     "text": [
      "INFO:coolpuppy:Saved output to plots/GM12878_A1_A2.svg\r\n"
     ]
    }
   ],
   "source": [
    "!plotpup.py --input_pups \\\n",
    "GM12878.hg38.1000_GM12878_H3K27ac_A1_hg38.bed_expected_cisbalanced.clpy \\\n",
    "GM12878.hg38.1000_GM12878_H3K27ac_A2_hg38.bed_expected_cisbalanced.clpy \\\n",
    "--output plots/GM12878_A1_A2.svg --rows features --cols separation \\\n",
    "--font Arial --plot_ticks \\\n",
    "--rownames 'A1' 'A2' \\\n",
    "--vmax 1.5 --norm_corners 10"
   ]
  }
 ],
 "metadata": {
  "kernelspec": {
   "display_name": "Python 3 (ipykernel)",
   "language": "python",
   "name": "python3"
  },
  "language_info": {
   "codemirror_mode": {
    "name": "ipython",
    "version": 3
   },
   "file_extension": ".py",
   "mimetype": "text/x-python",
   "name": "python",
   "nbconvert_exporter": "python",
   "pygments_lexer": "ipython3",
   "version": "3.8.12"
  }
 },
 "nbformat": 4,
 "nbformat_minor": 5
}
