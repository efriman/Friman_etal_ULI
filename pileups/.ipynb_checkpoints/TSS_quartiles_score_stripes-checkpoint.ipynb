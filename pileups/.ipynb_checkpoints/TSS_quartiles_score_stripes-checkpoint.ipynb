{
 "cells": [
  {
   "cell_type": "code",
   "execution_count": 1,
   "id": "9ee022bb",
   "metadata": {},
   "outputs": [],
   "source": [
    "import matplotlib as mpl\n",
    "import numpy as np\n",
    "import matplotlib.pyplot as plt\n",
    "import pandas as pd\n",
    "import seaborn as sns\n",
    "import matplotlib.patheffects as pe\n",
    "from coolpuppy.lib import io\n",
    "from coolpuppy import coolpup, plotpup\n",
    "import cooler\n",
    "import coolpuppy"
   ]
  },
  {
   "cell_type": "code",
   "execution_count": 2,
   "id": "2cce9121",
   "metadata": {},
   "outputs": [],
   "source": [
    "q1 = io.load_pileup_df(\"Hsieh_mESCs_microC.mm10.mapq_30.1000_ESC_4SU_refGene_exon1_quartile_1_TSS_mm10_noRING1B.bed_stripes_10to25Mb_expected_cisbalanced.clpy\")\n",
    "q2 = io.load_pileup_df(\"Hsieh_mESCs_microC.mm10.mapq_30.1000_ESC_4SU_refGene_exon1_quartile_2_TSS_mm10_noRING1B.bed_stripes_10to25Mb_expected_cisbalanced.clpy\")\n",
    "q3 = io.load_pileup_df(\"Hsieh_mESCs_microC.mm10.mapq_30.1000_ESC_4SU_refGene_exon1_quartile_3_TSS_mm10_noRING1B.bed_stripes_10to25Mb_expected_cisbalanced.clpy\")\n",
    "q4 = io.load_pileup_df(\"Hsieh_mESCs_microC.mm10.mapq_30.1000_ESC_4SU_refGene_exon1_quartile_4_TSS_mm10_noRING1B.bed_stripes_10to25Mb_expected_cisbalanced.clpy\")"
   ]
  },
  {
   "cell_type": "code",
   "execution_count": 3,
   "id": "44ed1a1e",
   "metadata": {},
   "outputs": [],
   "source": [
    "q1df = pd.DataFrame({\"chrom1\": [item[0] for sublist in q1[\"coordinates\"] for item in sublist],\n",
    "                     \"start1\": [int(item[1]) for sublist in q1[\"coordinates\"] for item in sublist],\n",
    "                     \"end1\": [int(item[2]) for sublist in q1[\"coordinates\"] for item in sublist],\n",
    "                     \"chrom2\": [item[3] for sublist in q1[\"coordinates\"] for item in sublist],\n",
    "                     \"start2\": [int(item[4]) for sublist in q1[\"coordinates\"] for item in sublist],\n",
    "                     \"end2\": [int(item[5]) for sublist in q1[\"coordinates\"] for item in sublist],\n",
    "                     \"score\": [item[20] for sublist in q1[\"vertical_stripe\"] for item in sublist],})"
   ]
  },
  {
   "cell_type": "code",
   "execution_count": 4,
   "id": "1177770f",
   "metadata": {},
   "outputs": [],
   "source": [
    "q2df = pd.DataFrame({\"chrom1\": [item[0] for sublist in q2[\"coordinates\"] for item in sublist],\n",
    "                     \"start1\": [int(item[1]) for sublist in q2[\"coordinates\"] for item in sublist],\n",
    "                     \"end1\": [int(item[2]) for sublist in q2[\"coordinates\"] for item in sublist],\n",
    "                     \"chrom2\": [item[3] for sublist in q2[\"coordinates\"] for item in sublist],\n",
    "                     \"start2\": [int(item[4]) for sublist in q2[\"coordinates\"] for item in sublist],\n",
    "                     \"end2\": [int(item[5]) for sublist in q2[\"coordinates\"] for item in sublist],\n",
    "                     \"score\": [item[20] for sublist in q2[\"vertical_stripe\"] for item in sublist],})"
   ]
  },
  {
   "cell_type": "code",
   "execution_count": 5,
   "id": "7795f213",
   "metadata": {},
   "outputs": [],
   "source": [
    "q3df = pd.DataFrame({\"chrom1\": [item[0] for sublist in q3[\"coordinates\"] for item in sublist],\n",
    "                     \"start1\": [int(item[1]) for sublist in q3[\"coordinates\"] for item in sublist],\n",
    "                     \"end1\": [int(item[2]) for sublist in q3[\"coordinates\"] for item in sublist],\n",
    "                     \"chrom2\": [item[3] for sublist in q3[\"coordinates\"] for item in sublist],\n",
    "                     \"start2\": [int(item[4]) for sublist in q3[\"coordinates\"] for item in sublist],\n",
    "                     \"end2\": [int(item[5]) for sublist in q3[\"coordinates\"] for item in sublist],\n",
    "                     \"score\": [item[20] for sublist in q3[\"vertical_stripe\"] for item in sublist],})"
   ]
  },
  {
   "cell_type": "code",
   "execution_count": 6,
   "id": "cf052619",
   "metadata": {},
   "outputs": [],
   "source": [
    "q4df = pd.DataFrame({\"chrom1\": [item[0] for sublist in q4[\"coordinates\"] for item in sublist],\n",
    "                     \"start1\": [int(item[1]) for sublist in q4[\"coordinates\"] for item in sublist],\n",
    "                     \"end1\": [int(item[2]) for sublist in q4[\"coordinates\"] for item in sublist],\n",
    "                     \"chrom2\": [item[3] for sublist in q4[\"coordinates\"] for item in sublist],\n",
    "                     \"start2\": [int(item[4]) for sublist in q4[\"coordinates\"] for item in sublist],\n",
    "                     \"end2\": [int(item[5]) for sublist in q4[\"coordinates\"] for item in sublist],\n",
    "                     \"score\": [item[20] for sublist in q4[\"vertical_stripe\"] for item in sublist],})"
   ]
  },
  {
   "cell_type": "code",
   "execution_count": 7,
   "id": "26df084b",
   "metadata": {},
   "outputs": [],
   "source": [
    "q1df[\"quartile\"] = \"Q1\"\n",
    "q2df[\"quartile\"] = \"Q2\"\n",
    "q3df[\"quartile\"] = \"Q3\"\n",
    "q4df[\"quartile\"] = \"Q4\""
   ]
  },
  {
   "cell_type": "code",
   "execution_count": 8,
   "id": "1d86a15c",
   "metadata": {},
   "outputs": [],
   "source": [
    "qdf = pd.concat([q1df, q2df, q3df, q4df])"
   ]
  },
  {
   "cell_type": "code",
   "execution_count": 9,
   "id": "ae226eed",
   "metadata": {},
   "outputs": [],
   "source": [
    "qdf[\"log2_score\"] = np.log2(qdf[\"score\"]+1)"
   ]
  },
  {
   "cell_type": "code",
   "execution_count": 18,
   "id": "1b48e900",
   "metadata": {},
   "outputs": [
    {
     "data": {
      "image/png": "[encoded data removed]",
      "text/plain": [
       "<Figure size 226.772x141.732 with 1 Axes>"
      ]
     },
     "metadata": {},
     "output_type": "display_data"
    }
   ],
   "source": [
    "cm = 1/2.54\n",
    "plt.figure(figsize=(8*cm,5*cm))\n",
    "sns.set(style=\"ticks\", font=\"Arial\")\n",
    "sns.set_context(\"notebook\", rc={\"font.size\":1,\"axes.titlesize\":12, \n",
    "                                \"axes.labelsize\":12, \"xtick.labelsize\": 10,\n",
    "                                \"ytick.labelsize\": 10}) \n",
    "g = sns.ecdfplot(data=qdf.reset_index(drop=True).sort_values(\"quartile\", ascending=False), \n",
    "                 x=\"log2_score\", hue = \"quartile\",\n",
    "                 palette=['#fef0d9','#fdcc8a','#fc8d59','#d7301f'][::-1],\n",
    "                 linewidth=3.5, path_effects=[pe.Stroke(linewidth=5.5, foreground='k'), pe.Normal()])\n",
    "g.set(title=\"10-25 Mb distance TSS-TSS pairs\", \n",
    "      xlabel=\"log2(O/E contact frequency+1)\",\n",
    "      ylabel=\"Cumulative\\nfrequency\",\n",
    "      ylim=[0,1.1],\n",
    "      xlim=[-0.5, 11])\n",
    "plt.tight_layout()\n",
    "sns.despine()\n",
    "g.legend_.set_title(None)\n",
    "plt.savefig(\"plots/TSS_scores_ECDF.svg\")"
   ]
  },
  {
   "cell_type": "markdown",
   "id": "8df8b1f4",
   "metadata": {},
   "source": [
    "plotpup.py --input_pups \\\n",
    "Hsieh_mESCs_microC.mm10.mapq_30.1000_ESC_4SU_refGene_exon1_quartile_1_TSS_mm10_noRING1B.bed_stripes_10to25Mb_expected_cisbalanced.clpy \\\n",
    "--output plots/mESC_Hsieh_TSS_Q1_noRING1B_stripes.png \\\n",
    "--cols features --stripe corner_stripe --lineplot --vmax 3 \\\n",
    "--plot_ticks --font Arial --colnames 'Q1' --height 1.2"
   ]
  },
  {
   "cell_type": "markdown",
   "id": "b7b8db6f",
   "metadata": {},
   "source": [
    "plotpup.py --input_pups \\\n",
    "Hsieh_mESCs_microC.mm10.mapq_30.1000_ESC_4SU_refGene_exon1_quartile_2_TSS_mm10_noRING1B.bed_stripes_10to25Mb_expected_cisbalanced.clpy \\\n",
    "--output plots/mESC_Hsieh_TSS_Q2_noRING1B_stripes.png \\\n",
    "--cols features --stripe corner_stripe --lineplot --vmax 3 \\\n",
    "--plot_ticks --font Arial --colnames 'Q2' --height 1.2"
   ]
  },
  {
   "cell_type": "markdown",
   "id": "8d4d5077",
   "metadata": {},
   "source": [
    "plotpup.py --input_pups \\\n",
    "Hsieh_mESCs_microC.mm10.mapq_30.1000_ESC_4SU_refGene_exon1_quartile_3_TSS_mm10_noRING1B.bed_stripes_10to25Mb_expected_cisbalanced.clpy \\\n",
    "--output plots/mESC_Hsieh_TSS_Q3_noRING1B_stripes.png \\\n",
    "--cols features --stripe corner_stripe --lineplot --vmax 3 \\\n",
    "--plot_ticks --font Arial --colnames 'Q3' --height 1.2"
   ]
  },
  {
   "cell_type": "markdown",
   "id": "61e0a952",
   "metadata": {},
   "source": [
    "plotpup.py --input_pups \\\n",
    "Hsieh_mESCs_microC.mm10.mapq_30.1000_ESC_4SU_refGene_exon1_quartile_4_TSS_mm10_noRING1B.bed_stripes_10to25Mb_expected_cisbalanced.clpy \\\n",
    "--output plots/mESC_Hsieh_TSS_Q4_noRING1B_stripes.png \\\n",
    "--cols features --stripe corner_stripe --lineplot --vmax 3 \\\n",
    "--plot_ticks --font Arial --colnames 'Q4' --height 1.2"
   ]
  }
 ],
 "metadata": {
  "kernelspec": {
   "display_name": "Python 3 (ipykernel)",
   "language": "python",
   "name": "python3"
  },
  "language_info": {
   "codemirror_mode": {
    "name": "ipython",
    "version": 3
   },
   "file_extension": ".py",
   "mimetype": "text/x-python",
   "name": "python",
   "nbconvert_exporter": "python",
   "pygments_lexer": "ipython3",
   "version": "3.8.12"
  }
 },
 "nbformat": 4,
 "nbformat_minor": 5
}
