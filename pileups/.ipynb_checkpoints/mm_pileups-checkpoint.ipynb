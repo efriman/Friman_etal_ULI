{
 "cells": [
  {
   "cell_type": "code",
   "execution_count": null,
   "id": "41924b8b",
   "metadata": {},
   "outputs": [],
   "source": [
    "plotpup.py --input_pups \\\n",
    "Hsieh_mESCs_microC.mm10.mapq_30.1000_ESC_4SU_refGene_exon1_quartile_1_TSS_mm10_noRING1B.bed_expected_cisbalanced.clpy \\\n",
    "Hsieh_mESCs_microC.mm10.mapq_30.1000_ESC_4SU_refGene_exon1_quartile_2_TSS_mm10_noRING1B.bed_expected_cisbalanced.clpy \\\n",
    "Hsieh_mESCs_microC.mm10.mapq_30.1000_ESC_4SU_refGene_exon1_quartile_3_TSS_mm10_noRING1B.bed_expected_cisbalanced.clpy \\\n",
    "Hsieh_mESCs_microC.mm10.mapq_30.1000_ESC_4SU_refGene_exon1_quartile_4_TSS_mm10_noRING1B.bed_expected_cisbalanced.clpy \\\n",
    "--output plots/mESC_Hsieh_TSS_quartiles_noRING1B.svg --cols separation --rows features \\\n",
    "--font Arial --plot_ticks \\\n",
    "--rownames 'Q1' 'Q2' 'Q3' 'Q4' \\\n",
    "--norm_corners 10 --vmax 1.5"
   ]
  },
  {
   "cell_type": "code",
   "execution_count": null,
   "id": "d9cdb47e",
   "metadata": {},
   "outputs": [],
   "source": [
    "plotpup.py --input_pups \\\n",
    "Hsieh_mESCs_microC.mm10.mapq_30.1000_CAP-CGI_CpG_density_quartile_1_mm10_merged5kb_noRING1B.bed_expected_cisbalanced.clpy \\\n",
    "Hsieh_mESCs_microC.mm10.mapq_30.1000_CAP-CGI_CpG_density_quartile_2_mm10_merged5kb_noRING1B.bed_expected_cisbalanced.clpy \\\n",
    "Hsieh_mESCs_microC.mm10.mapq_30.1000_CAP-CGI_CpG_density_quartile_3_mm10_merged5kb_noRING1B.bed_expected_cisbalanced.clpy \\\n",
    "Hsieh_mESCs_microC.mm10.mapq_30.1000_CAP-CGI_CpG_density_quartile_4_mm10_merged5kb_noRING1B.bed_expected_cisbalanced.clpy \\\n",
    "--output plots/mESC_Hsieh_CpG_quartiles_noRING1B.svg --cols separation --rows features \\\n",
    "--font Arial --plot_ticks \\\n",
    "--rownames 'Q1' 'Q2' 'Q3' 'Q4' \\\n",
    "--norm_corners 10 --vmax 1.5"
   ]
  },
  {
   "cell_type": "code",
   "execution_count": null,
   "id": "e52c6056",
   "metadata": {},
   "outputs": [],
   "source": [
    "plotpup.py --input_pups \\\n",
    "Hsieh_mESCs_microC.mm10.mapq_30.100_ESC_4SU_refGene_exon1_quartile_4_TSS_mm10_noRING1B.bed_expected_100bp_cisbalanced.clpy \\\n",
    "--output plots/mESC_Hsieh_TSS_Q4_noRING1B_100bp.svg --cols separation \\\n",
    "--font Arial --plot_ticks \\\n",
    "--rownames 'Q4' \\\n",
    "--norm_corners 10"
   ]
  },
  {
   "cell_type": "code",
   "execution_count": null,
   "id": "5437412e",
   "metadata": {},
   "outputs": [],
   "source": [
    "plotpup.py --input_pups \\\n",
    "Hsieh_mESCs_microC.mm10.mapq_30.1000_ESC_4SU_refGene_exon1_quartile_3_TSS_mm10_noRING1B_noCGI_shuf732.bed_expected_cisbalanced.clpy \\\n",
    "Hsieh_mESCs_microC.mm10.mapq_30.1000_ESC_4SU_refGene_exon1_quartile_3_TSS_mm10_noRING1B_CGI_shuf732.bed_expected_cisbalanced.clpy \\\n",
    "Hsieh_mESCs_microC.mm10.mapq_30.1000_ESC_4SU_refGene_exon1_quartile_4_TSS_mm10_noRING1B_noCGI_shuf732.bed_expected_cisbalanced.clpy \\\n",
    "Hsieh_mESCs_microC.mm10.mapq_30.1000_ESC_4SU_refGene_exon1_quartile_4_TSS_mm10_noRING1B_CGI_shuf732.bed_expected_cisbalanced.clpy \\\n",
    "--output plots/mESC_Hsieh_CpG_quartiles_3_4_noRING1B_CGI.svg --cols separation --rows features \\\n",
    "--font Arial --plot_ticks \\\n",
    "--rownames 'Q3 -CGI' 'Q3 +CGI' 'Q4 -CGI' 'Q4 +CGI' \\\n",
    "--norm_corners 10 --vmax 1.5"
   ]
  },
  {
   "cell_type": "code",
   "execution_count": null,
   "id": "2b27343f",
   "metadata": {},
   "outputs": [],
   "source": [
    "plotpup.py --input_pups \\\n",
    "Hsieh_mESCs_microC.mm10.mapq_30.1000_ESC_4SU_refGene_exon1_quartile_1_TSS_mm10_noRING1B_minus_quartile_4_plus.bed_flipstrand_expected_cisbalanced.clpy \\\n",
    "Hsieh_mESCs_microC.mm10.mapq_30.1000_ESC_4SU_refGene_exon1_quartile_2_TSS_mm10_noRING1B_minus_quartile_4_plus.bed_flipstrand_expected_cisbalanced.clpy \\\n",
    "Hsieh_mESCs_microC.mm10.mapq_30.1000_ESC_4SU_refGene_exon1_quartile_3_TSS_mm10_noRING1B_minus_quartile_4_plus.bed_flipstrand_expected_cisbalanced.clpy \\\n",
    "--output plots/mESC_Hsieh_Q4_vs_other.svg --cols separation --rows features \\\n",
    "--query \"orientation == '+-'\" \\\n",
    "--font Arial --plot_ticks \\\n",
    "--norm_corners 10 --vmax 1.5 \\\n",
    "--rownames 'Q1-Q4' 'Q2-Q4' 'Q3-Q4'"
   ]
  },
  {
   "cell_type": "code",
   "execution_count": null,
   "id": "6646ec9e",
   "metadata": {},
   "outputs": [],
   "source": [
    "plotpup.py --input_pups \\\n",
    "Hsieh_mESCs_microC.mm10.mapq_30.1000_GSE24029_RAD21_mESC_remap.bed_subset5000_expected_cisbalanced.clpy \\\n",
    "Hsieh_mESCs_microC.mm10.mapq_30.1000_GSE41314_RNF2_mESC_remap.bed_subset5000_expected_cisbalanced.clpy \\\n",
    "Hsieh_mESCs_microC.mm10.mapq_30.1000_GSE102517_KLF4_mESC_remap_noRING1B.bed_subset5000_expected_cisbalanced.clpy \\\n",
    "Hsieh_mESCs_microC.mm10.mapq_30.1000_GSE93536_CXXC1_mESCS_cistromeDB_noRING1B.bed_subset5000_expected_cisbalanced.clpy \\\n",
    "--output plots/mESC_Hsieh_hits.svg --cols separation --rows features \\\n",
    "--font Arial --plot_ticks \\\n",
    "--rownames \"RAD21\" \"RING1B\" \"KLF4\" \"CFP1\" \\\n",
    "--norm_corners 10 --vmax 1.5"
   ]
  },
  {
   "cell_type": "code",
   "execution_count": null,
   "id": "16559b9d",
   "metadata": {},
   "outputs": [],
   "source": [
    "plotpup.py --input_pups \\\n",
    "Hsieh_mESCs_microC.mm10.mapq_30.1000_ENCFF048WDN_DNase_quartile_1_mm10_1kbwithinTSS_shuf2705.bed_expected_cisbalanced.clpy \\\n",
    "Hsieh_mESCs_microC.mm10.mapq_30.1000_ENCFF048WDN_DNase_quartile_1_mm10_5kbfromTSS_shuf2705.bed_expected_cisbalanced.clpy \\\n",
    "Hsieh_mESCs_microC.mm10.mapq_30.1000_ENCFF048WDN_DNase_quartile_2_mm10_1kbwithinTSS_shuf2705.bed_expected_cisbalanced.clpy \\\n",
    "Hsieh_mESCs_microC.mm10.mapq_30.1000_ENCFF048WDN_DNase_quartile_2_mm10_5kbfromTSS_shuf2705.bed_expected_cisbalanced.clpy \\\n",
    "Hsieh_mESCs_microC.mm10.mapq_30.1000_ENCFF048WDN_DNase_quartile_3_mm10_1kbwithinTSS_shuf2705.bed_expected_cisbalanced.clpy \\\n",
    "Hsieh_mESCs_microC.mm10.mapq_30.1000_ENCFF048WDN_DNase_quartile_3_mm10_5kbfromTSS_shuf2705.bed_expected_cisbalanced.clpy \\\n",
    "Hsieh_mESCs_microC.mm10.mapq_30.1000_ENCFF048WDN_DNase_quartile_4_mm10_1kbwithinTSS_shuf2705.bed_expected_cisbalanced.clpy \\\n",
    "Hsieh_mESCs_microC.mm10.mapq_30.1000_ENCFF048WDN_DNase_quartile_4_mm10_5kbfromTSS_shuf2705.bed_expected_cisbalanced.clpy \\\n",
    "--output plots/mESC_Hsieh_DNase.svg --cols separation --rows features \\\n",
    "--font Arial --plot_ticks \\\n",
    "--rownames 'Q1 +TSS' 'Q1 -TSS' 'Q2 +TSS' 'Q2 -TSS' \\\n",
    "'Q3 +TSS' 'Q3 -TSS' 'Q4 +TSS' 'Q4 -TSS' \\\n",
    "--norm_corners 10 --vmax 1.5"
   ]
  },
  {
   "cell_type": "code",
   "execution_count": null,
   "id": "40d002e3",
   "metadata": {},
   "outputs": [],
   "source": [
    "plotpup.py --input_pups \\\n",
    "Hsieh_mESCs_microC.mm10.mapq_30.1000_GSE93536_CXXC1_mESCS_cistromeDB_noRING1B.bed_balancedon__nshifts_0.clpy \\\n",
    "--output plots/mESC_Hsieh_CFP1_unbalanced.svg --cols separation \\\n",
    "--font Arial --plot_ticks \\\n",
    "--rownames '' \\\n",
    "--not_symmetrical --cmap inferno \\\n",
    "--vmin 0.01 --vmax 1.5"
   ]
  },
  {
   "cell_type": "code",
   "execution_count": null,
   "id": "e8d62bf2",
   "metadata": {},
   "outputs": [],
   "source": [
    "plotpup.py --input_pups \\\n",
    "Hsieh_mESCs_microC.mm10.mapq_30.1000_GSE93536_CXXC1_mESCS_cistromeDB_noRING1B.bed_balancedon_weight_nshifts_0.clpy \\\n",
    "--output plots/mESC_Hsieh_CFP1_balanced.svg --cols separation \\\n",
    "--font Arial --plot_ticks \\\n",
    "--rownames '' \\\n",
    "--not_symmetrical --cmap inferno \\\n",
    "--vmin 0.0000005 --vmax 0.0001"
   ]
  },
  {
   "cell_type": "code",
   "execution_count": null,
   "id": "11fc7964",
   "metadata": {},
   "outputs": [],
   "source": [
    "plotpup.py --input_pups \\\n",
    "Hsieh_mESCs_microC.mm10.mapq_30.1000_GSE93536_CXXC1_mESCS_cistromeDB_noRING1B.bed_balancedon_cis_weight_nshifts_0.clpy \\\n",
    "--output plots/mESC_Hsieh_CFP1_balanced_cis.svg --cols separation \\\n",
    "--font Arial --plot_ticks \\\n",
    "--rownames '' \\\n",
    "--not_symmetrical --cmap inferno \\\n",
    "--vmin 0.000001 --vmax 0.0001"
   ]
  },
  {
   "cell_type": "code",
   "execution_count": null,
   "id": "f2f8ba80",
   "metadata": {},
   "outputs": [],
   "source": [
    "plotpup.py --input_pups \\\n",
    "Hsieh_mESCs_microC.mm10.mapq_30.1000_GSE93536_CXXC1_mESCS_cistromeDB_noRING1B.bed_balancedon_weight_nshifts_5.clpy \\\n",
    "--output plots/mESC_Hsieh_CFP1_balanced_shifted.svg --cols separation \\\n",
    "--font Arial --plot_ticks \\\n",
    "--rownames '' \\\n",
    "--vmax 2"
   ]
  },
  {
   "cell_type": "code",
   "execution_count": null,
   "id": "60cbbf03",
   "metadata": {},
   "outputs": [],
   "source": [
    "plotpup.py --input_pups \\\n",
    "Hsieh_mESCs_microC.mm10.mapq_30.1000_GSE93536_CXXC1_mESCS_cistromeDB_noRING1B.bed_balancedon_weight_expected.clpy \\\n",
    "--output plots/mESC_Hsieh_CFP1_balanced_expected.svg --cols separation \\\n",
    "--font Arial --plot_ticks \\\n",
    "--rownames '' \\\n",
    "--vmax 2"
   ]
  },
  {
   "cell_type": "code",
   "execution_count": null,
   "id": "2c01424d",
   "metadata": {},
   "outputs": [],
   "source": [
    "plotpup.py --input_pups \\\n",
    "Hsieh_mESCs_microC.mm10.mapq_30.1000_GSE93536_CXXC1_mESCS_cistromeDB_noRING1B.bed_balancedon_weight_expected.clpy \\\n",
    "--output plots/mESC_Hsieh_CFP1_balanced_expected_normcorners.svg --cols separation \\\n",
    "--font Arial --plot_ticks \\\n",
    "--rownames '' \\\n",
    "--vmax 1.5 --norm_corners 10"
   ]
  },
  {
   "cell_type": "code",
   "execution_count": null,
   "id": "5931c251",
   "metadata": {},
   "outputs": [],
   "source": [
    "plotpup.py --input_pups \\\n",
    "Seitan_Hi-C_Tcell_Rad21WT.mm10.mapq_30.1000_CAP-CGI_CpG_density_quartile_4_mm10_merged5kb_noRING1B.bed_expected_cisbalanced.clpy \\\n",
    "Seitan_Hi-C_Tcell_Rad21KO.mm10.mapq_30.1000_CAP-CGI_CpG_density_quartile_4_mm10_merged5kb_noRING1B.bed_expected_cisbalanced.clpy \\\n",
    "--output plots/mESC_Seitan_CpG_Q4.svg --cols separation --rows cooler \\\n",
    "--font Arial --plot_ticks \\\n",
    "--rownames 'WT' 'Rad21 KO' \\\n",
    "--vmax 1.5 --norm_corners 10"
   ]
  },
  {
   "cell_type": "code",
   "execution_count": null,
   "id": "4f348e38",
   "metadata": {},
   "outputs": [],
   "source": [
    "plotpup.py --input_pups \\\n",
    "Hi-C-prometa.mm10.mapq_30.1000_CAP-CGI_CpG_density_quartile_4_mm10_merged5kb_noRING1B.bed_expected_cisbalanced.clpy \\\n",
    "Hi-C-ana.telo.mm10.mapq_30.1000_CAP-CGI_CpG_density_quartile_4_mm10_merged5kb_noRING1B.bed_expected_cisbalanced.clpy \\\n",
    "Hi-C-early-G1.mm10.mapq_30.1000_CAP-CGI_CpG_density_quartile_4_mm10_merged5kb_noRING1B.bed_expected_cisbalanced.clpy \\\n",
    "Hi-C-mid-G1.mm10.mapq_30.1000_CAP-CGI_CpG_density_quartile_4_mm10_merged5kb_noRING1B.bed_expected_cisbalanced.clpy \\\n",
    "Hi-C-late-G1.mm10.mapq_30.1000_CAP-CGI_CpG_density_quartile_4_mm10_merged5kb_noRING1B.bed_expected_cisbalanced.clpy \\\n",
    "--output plots/mESC_Zhang_CpG_Q4.svg --cols separation --rows cooler \\\n",
    "--font Arial --plot_ticks \\\n",
    "--rownames 'Prometa' 'Ana/telo' 'Early G1' 'Mid G1' 'Late G1' \\\n",
    "--vmax 2 --norm_corners 10"
   ]
  },
  {
   "cell_type": "code",
   "execution_count": null,
   "id": "e8e09db1",
   "metadata": {},
   "outputs": [],
   "source": [
    "plotpup.py --input_pups \\\n",
    "G1_cells.1000.cool_mm9_CAP-CGI_CpG_density_quartile_4_mm9_merged5kb.bed_expected_cisbalanced.clpy \\\n",
    "early-S_cells.1000.cool_mm9_CAP-CGI_CpG_density_quartile_4_mm9_merged5kb.bed_expected_cisbalanced.clpy \\\n",
    "late-S-G2_cells.1000.cool_mm9_CAP-CGI_CpG_density_quartile_4_mm9_merged5kb.bed_expected_cisbalanced.clpy \\\n",
    "--output plots/mESC_Nagano_CpG_Q4.svg --cols separation --rows cooler \\\n",
    "--font Arial --plot_ticks \\\n",
    "--rownames 'G1' 'Early S' 'Late S/G2' \\\n",
    "--vmax 1.5 --norm_corners 10"
   ]
  },
  {
   "cell_type": "code",
   "execution_count": null,
   "id": "0f1f74f7",
   "metadata": {},
   "outputs": [],
   "source": [
    "plotpup.py --input_pups \\\n",
    "Rhodes_Tir1+Aux.mm10.mapq_30.1000_CAP-CGI_CpG_density_quartile_4_mm10_merged5kb_noRING1B.bed_expected_cisbalanced.clpy \\\n",
    "Rhodes_Scc1+Aux.mm10.mapq_30.1000_CAP-CGI_CpG_density_quartile_4_mm10_merged5kb_noRING1B.bed_expected_cisbalanced.clpy \\\n",
    "--output plots/mESC_Rhodes_CpG_Q4.svg --cols separation --rows cooler \\\n",
    "--font Arial --plot_ticks \\\n",
    "--rownames 'Control' 'RAD21-AID 6h' \\\n",
    "--vmax 1.3 --norm_corners 10"
   ]
  },
  {
   "cell_type": "code",
   "execution_count": null,
   "id": "42b464e3",
   "metadata": {},
   "outputs": [],
   "source": [
    "plotpup.py --input_pups \\\n",
    "G1_allelic_counts_CAP-CGI_noRING1B_minus_mm10.bed_expected.clpy \\\n",
    "G2_allelic_counts_CAP-CGI_noRING1B_minus_mm10.bed_expected.clpy \\\n",
    "nonallelic_counts_CAP-CGI_noRING1B_minus_mm10.bed_expected.clpy \\\n",
    "--output plots/mESC_Han_CGI.svg --cols separation --rows cooler \\\n",
    "--font Arial --plot_ticks \\\n",
    "--rownames 'B6-B6' 'CAST-CAST' 'B6-CAST' \\\n",
    "--vmax 1.3 --norm_corners 10"
   ]
  },
  {
   "cell_type": "code",
   "execution_count": null,
   "id": "da8aa331",
   "metadata": {},
   "outputs": [],
   "source": [
    "plotpup.py --input_pups \\\n",
    "Hsieh_mESCs_microC.mm10.mapq_30.1000_CAP-CGI_CpG_density_quartile_4_mm10_merged5kb_noRING1B.bed_expected_trans.clpy \\\n",
    "--output plots/mESC_Hsieh_CpGQ4_trans.svg --font Arial \\\n",
    "--plot_ticks --norm_corners 10 --vmax 1.5"
   ]
  },
  {
   "cell_type": "code",
   "execution_count": null,
   "id": "36ddec05",
   "metadata": {},
   "outputs": [],
   "source": [
    "plotpup.py --input_pups \\\n",
    "Hsieh2021_RAD21-UT_CAP-CGI_CpG_density_quartile_4_mm10_merged5kb_noRING1B.bed_expected_cisbalanced.clpy \\\n",
    "Hsieh2021_RAD21-AID_CAP-CGI_CpG_density_quartile_4_mm10_merged5kb_noRING1B.bed_expected_cisbalanced.clpy \\\n",
    "--output plots/mESC_Hsieh_CpGQ4_RAD21.svg --cols separation --rows cooler \\\n",
    "--font Arial --plot_ticks \\\n",
    "--rownames '' '' \\\n",
    "--vmax 1.5 --norm_corners 10"
   ]
  },
  {
   "cell_type": "code",
   "execution_count": null,
   "id": "dda5d47b",
   "metadata": {},
   "outputs": [],
   "source": [
    "plotpup.py --input_pups \\\n",
    "Boyle_WT.mm10.mapq_30.1000_CAP-CGI_CpG_density_quartile_4_mm10_merged5kb_noRING1B.bed_expected_cisbalanced.clpy \\\n",
    "Boyle_KO.mm10.mapq_30.1000_CAP-CGI_CpG_density_quartile_4_mm10_merged5kb_noRING1B.bed_expected_cisbalanced.clpy \\\n",
    "--output plots/mESC_Boyle_CpGQ4_Ring1b.svg --cols separation --rows cooler \\\n",
    "--font Arial --plot_ticks \\\n",
    "--rownames '' '' \\\n",
    "--vmax 1.5 --norm_corners 10"
   ]
  },
  {
   "cell_type": "code",
   "execution_count": null,
   "id": "a5f0f70a",
   "metadata": {},
   "outputs": [],
   "source": [
    "plotpup.py --input_pups \\\n",
    "Hsieh2021_CTCF-UT_CAP-CGI_CpG_density_quartile_4_mm10_merged5kb_noRING1B.bed_expected_cisbalanced.clpy \\\n",
    "Hsieh2021_CTCF-AID_CAP-CGI_CpG_density_quartile_4_mm10_merged5kb_noRING1B.bed_expected_cisbalanced.clpy \\\n",
    "Hsieh2021_WAPL-UT_CAP-CGI_CpG_density_quartile_4_mm10_merged5kb_noRING1B.bed_expected_cisbalanced.clpy \\\n",
    "Hsieh2021_WAPL-AID_CAP-CGI_CpG_density_quartile_4_mm10_merged5kb_noRING1B.bed_expected_cisbalanced.clpy \\\n",
    "--output plots/mESC_Hsieh_CpGQ4_CTCF_WAPL.svg --cols separation --rows cooler \\\n",
    "--font Arial --plot_ticks \\\n",
    "--rownames \"CTCF control\" \"CTCF-AID 3h\" \"WAPL control\" \"WAPL-AID 3h\" \\\n",
    "--vmax 1.5 --norm_corners 10"
   ]
  },
  {
   "cell_type": "code",
   "execution_count": null,
   "id": "a6b2d257",
   "metadata": {},
   "outputs": [],
   "source": [
    "plotpup.py --input_pups \\\n",
    "4DNFIC21MG3U_mESC_G1_OCT4GFP_H3K27ac_DE_ESC_higher_mm10.bed_expected_cisbalanced.clpy \\\n",
    "4DNFIKK3QG34_NPC_G1_SOX1GFP_H3K27ac_DE_ESC_higher_mm10.bed_expected_cisbalanced.clpy \\\n",
    "--output plots/mESC_Bonev_ESC_higher.svg --cols separation --rows cooler \\\n",
    "--font Arial --plot_ticks \\\n",
    "--rownames '' '' \\\n",
    "--vmax 1.5 --norm_corners 10"
   ]
  },
  {
   "cell_type": "code",
   "execution_count": null,
   "id": "4ebeb9fc",
   "metadata": {},
   "outputs": [],
   "source": [
    "plotpup.py --input_pups \\\n",
    "4DNFIC21MG3U_mESC_G1_OCT4GFP_H3K27ac_DE_NPC_higher_mm10.bed_expected_cisbalanced.clpy \\\n",
    "4DNFIKK3QG34_NPC_G1_SOX1GFP_H3K27ac_DE_NPC_higher_mm10.bed_expected_cisbalanced.clpy \\\n",
    "--output plots/mESC_Bonev_NPC_higher.svg --cols separation --rows cooler \\\n",
    "--font Arial --plot_ticks \\\n",
    "--rownames '' '' \\\n",
    "--vmax 1.5 --norm_corners 10"
   ]
  },
  {
   "cell_type": "code",
   "execution_count": null,
   "id": "5568d5ae",
   "metadata": {},
   "outputs": [],
   "source": [
    "plotpup.py --input_pups \\\n",
    "GSE131463_Hu2019_Ctrl_merged_5kbres_mm9_CAP-CGI_CpG_density_quartile_4_mm9_merged5kb_noRING1B_nochr.bed_expected_cisbalanced.clpy \\\n",
    "GSE131463_Hu2019_shSrrm2_merged_5kbres_mm9_CAP-CGI_CpG_density_quartile_4_mm9_merged5kb_noRING1B_nochr.bed_expected_cisbalanced.clpy \\\n",
    "--output plots/mESC_Hu_CpGQ4.svg --cols separation --rows cooler \\\n",
    "--font Arial --plot_ticks \\\n",
    "--rownames 'shCtrl' 'shSrrm2' \\\n",
    "--vmax 1.3 --norm_corners 10"
   ]
  },
  {
   "cell_type": "code",
   "execution_count": null,
   "id": "ffac4ab9",
   "metadata": {},
   "outputs": [],
   "source": [
    "plotpup.py --input_pups \\\n",
    "Pol2_Untreated_Hi-C.mm10.mapq_30.1000_CAP-CGI_CpG_density_quartile_4_mm10_merged5kb_noRING1B.bed_expected_cisbalanced.clpy \\\n",
    "Pol2_IAA_6h_Hi-C.mm10.mapq_30.1000_CAP-CGI_CpG_density_quartile_4_mm10_merged5kb_noRING1B.bed_expected_cisbalanced.clpy \\\n",
    "Pol2_untreated_Mitotic_Hi-C.mm10.mapq_30.1000_CAP-CGI_CpG_density_quartile_4_mm10_merged5kb_noRING1B.bed_expected_cisbalanced.clpy \\\n",
    "Pol2_IAA_6h_Mitotic_Hi-C.mm10.mapq_30.1000_CAP-CGI_CpG_density_quartile_4_mm10_merged5kb_noRING1B.bed_expected_cisbalanced.clpy \\\n",
    "--output plots/mESC_Jiang_CpGQ4.svg --cols separation --rows cooler \\\n",
    "--font Arial --plot_ticks \\\n",
    "--rownames '' '' '' '' \\\n",
    "--vmax 1.5 --norm_corners 10"
   ]
  },
  {
   "cell_type": "code",
   "execution_count": null,
   "id": "0f4d59d9",
   "metadata": {},
   "outputs": [],
   "source": [
    "plotpup.py --input_pups \\\n",
    "Asyn_DMSO.mm10.mapq_30.1000_CAP-CGI_CpG_density_quartile_4_mm10_merged5kb_noRING1B.bed_expected_cisbalanced.clpy \\\n",
    "Asyn_p300i.mm10.mapq_30.1000_CAP-CGI_CpG_density_quartile_4_mm10_merged5kb_noRING1B.bed_expected_cisbalanced.clpy \\\n",
    "--output plots/mESC_PelhamWebb_CpGQ4.svg --cols separation --rows cooler \\\n",
    "--font Arial --plot_ticks \\\n",
    "--rownames '' '' \\\n",
    "--vmax 1.5 --norm_corners 10"
   ]
  },
  {
   "cell_type": "code",
   "execution_count": null,
   "id": "35c93ccd",
   "metadata": {},
   "outputs": [],
   "source": [
    "plotpup.py --input_pups \\\n",
    "Hsieh2021_YY1-UT_CAP-CGI_CpG_density_quartile_4_mm10_merged5kb_noRING1B.bed_expected_cisbalanced.clpy \\\n",
    "Hsieh2021_YY1-AID_CAP-CGI_CpG_density_quartile_4_mm10_merged5kb_noRING1B.bed_expected_cisbalanced.clpy \\\n",
    "--output plots/mESC_Hsieh_CpGQ4_YY1.svg --cols separation --rows cooler \\\n",
    "--font Arial --plot_ticks \\\n",
    "--rownames \"YY1\" \"YY1-AID 3h\" \\\n",
    "--vmax 1.5 --norm_corners 10"
   ]
  },
  {
   "cell_type": "code",
   "execution_count": null,
   "id": "da8d81fd",
   "metadata": {},
   "outputs": [],
   "source": [
    "plotpup.py --input_pups \\\n",
    "Hsieh_mESCs_microC.mm10.mapq_30.1000_CAP-CGI_CpG_density_quartile_4_mm10_merged5kb_noRING1B.bed_expected_cisbalanced.clpy \\\n",
    "Hsieh_mESCs_FLV.mm10.mapq_30.1000_CAP-CGI_CpG_density_quartile_4_mm10_merged5kb_noRING1B.bed_expected_cisbalanced.clpy \\\n",
    "Hsieh_mESCs_TRP.mm10.mapq_30.1000_CAP-CGI_CpG_density_quartile_4_mm10_merged5kb_noRING1B.bed_expected_cisbalanced.clpy \\\n",
    "--output plots/mESC_Hsieh_CpGQ4_FLV_TRP.svg --cols separation --rows cooler \\\n",
    "--font Arial --plot_ticks \\\n",
    "--rownames \"Control\" \"FLV\" \"TRP\" \\\n",
    "--vmax 1.5 --norm_corners 10"
   ]
  },
  {
   "cell_type": "code",
   "execution_count": null,
   "id": "66ab0c0b",
   "metadata": {},
   "outputs": [],
   "source": [
    "plotpup.py --input_pups \\\n",
    "mESC_Hi-C_DMSO.mm10.mapq_30.1000_CAP-CGI_CpG_density_quartile_4_mm10_merged5kb_noRING1B.bed_expected_cisbalanced.clpy \\\n",
    "mESC_Hi-C_Degron.mm10.mapq_30.1000_CAP-CGI_CpG_density_quartile_4_mm10_merged5kb_noRING1B.bed_expected_cisbalanced.clpy \\\n",
    "--output plots/mESC_LinaresSaldana_CpGQ4.svg --cols separation --rows cooler \\\n",
    "--font Arial --plot_ticks \\\n",
    "--rownames '' '' \\\n",
    "--vmax 1.5 --norm_corners 10"
   ]
  },
  {
   "cell_type": "code",
   "execution_count": null,
   "id": "bba17bca",
   "metadata": {},
   "outputs": [],
   "source": [
    "plotpup.py --input_pups \\\n",
    "GSE121355_ch12_wt_Hic_APR60h_inter_mm9_CAP-CGI_CpG_density_quartile_4_mm9_merged5kb_noRING1B.bed_expected_cisbalanced.clpy \\\n",
    "GSE121355_ch12_Tailless_Hic_inter_mm9_CAP-CGI_CpG_density_quartile_4_mm9_merged5kb_noRING1B.bed_expected_cisbalanced.clpy \\\n",
    "GSE121355_ch12_Med14Nsmash_Hic_APR60h_inter_mm9_CAP-CGI_CpG_density_quartile_4_mm9_merged5kb_noRING1B.bed_expected_cisbalanced.clpy \\\n",
    "--output plots/CH12_ElKhattabi_CpGQ4.svg --cols separation --rows cooler \\\n",
    "--font Arial --plot_ticks \\\n",
    "--rownames '' '' '' \\\n",
    "--vmax 1.5 --norm_corners 10"
   ]
  },
  {
   "cell_type": "code",
   "execution_count": null,
   "id": "a4887752",
   "metadata": {},
   "outputs": [],
   "source": [
    "plotpup.py --input_pups \\\n",
    "Hsieh_mESCs_microC.mm10.mapq_30.1000_TSS_noRING1B_A_within_50kb_compartmentswitch_signAB_mm10.bed_flipstrand_expected_cisbalanced.clpy \\\n",
    "Hsieh_mESCs_microC.mm10.mapq_30.1000_TSS_Q4_noRING1B_A_atleast_100kb_from_compartmentswitch_signAB_mm10.bed_flipstrand_expected_cisbalanced.clpy \\\n",
    "--output plots/mESC_Hsieh_ABswitch.svg --rows features \\\n",
    "--query \"orientation == '++'\" \\\n",
    "--font Arial --plot_ticks \\\n",
    "--rownames '<50kb to B' '>100 kb to B' \\\n",
    "--vmax 1.5 --norm_corners 10"
   ]
  },
  {
   "cell_type": "code",
   "execution_count": null,
   "id": "00b14e7a",
   "metadata": {},
   "outputs": [],
   "source": [
    "plotpup.py --input_pups \\\n",
    "Hsieh_mESCs_microC.mm10.mapq_30.1000_ENCFF519QMV_H3K27ac_no_CGI_TSS_RING1B_quartile_1_mm10.bed_expected_cisbalanced.clpy \\\n",
    "Hsieh_mESCs_microC.mm10.mapq_30.1000_ENCFF519QMV_H3K27ac_no_CGI_TSS_RING1B_quartile_2_mm10.bed_expected_cisbalanced.clpy \\\n",
    "Hsieh_mESCs_microC.mm10.mapq_30.1000_ENCFF519QMV_H3K27ac_no_CGI_TSS_RING1B_quartile_3_mm10.bed_expected_cisbalanced.clpy \\\n",
    "Hsieh_mESCs_microC.mm10.mapq_30.1000_ENCFF519QMV_H3K27ac_no_CGI_TSS_RING1B_quartile_4_mm10.bed_expected_cisbalanced.clpy \\\n",
    "--output plots/mESC_Hsieh_H3K27ac_quartiles.svg --cols separation --rows features \\\n",
    "--font Arial --plot_ticks \\\n",
    "--rownames 'Q1' 'Q2' 'Q3' 'Q4' \\\n",
    "--vmax 1.5 --norm_corners 10"
   ]
  },
  {
   "cell_type": "code",
   "execution_count": null,
   "id": "6fa570a8",
   "metadata": {},
   "outputs": [],
   "source": [
    "plotpup.py --input_pups \\\n",
    "Hsieh_mESCs_microC.mm10.mapq_30.1000_ENCFF519QMV_H3K27ac_no_CGI_TSS_RING1B_quartile_4_minus_ESC_4SU_refGene_exon1_quartile_4_TSS_mm10_noRING1B_plus.bed_flipstrand_expected_cisbalanced.clpy \\\n",
    "--output plots/mESC_Hsieh_H3K27ac_Q4_vs_TSS_Q4.svg --cols separation --rows orientation \\\n",
    "--font Arial --plot_ticks \\\n",
    "--query \"orientation == '--' | orientation == '+-'\" \\\n",
    "--row_order '-- +-' \\\n",
    "--rownames '' '' '' \\\n",
    "--vmax 1.5 --norm_corners 10"
   ]
  },
  {
   "cell_type": "code",
   "execution_count": null,
   "id": "3a04aeb9",
   "metadata": {},
   "outputs": [],
   "source": [
    "plotpup.py --input_pups \\\n",
    "Hsieh_mESCs_microC.mm10.mapq_30.1000_ENCFF519QMV_H3K27ac_no_CGI_TSS_RING1B_quartile_4_minus_CAP-CGI_CpG_density_quartile_4_merged5kb_noRING1B_plus_mm10.bed_flipstrand_expected_cisbalanced.clpy \\\n",
    "--output plots/mESC_Hsieh_H3K27ac_Q4_vs_CGI_Q4.svg --cols separation --rows orientation \\\n",
    "--font Arial --plot_ticks \\\n",
    "--query \"orientation == '--' | orientation == '+-'\" \\\n",
    "--row_order '-- +-' \\\n",
    "--rownames '' '' \\\n",
    "--vmax 1.5 --norm_corners 10"
   ]
  }
 ],
 "metadata": {
  "kernelspec": {
   "display_name": "Python 3 (ipykernel)",
   "language": "python",
   "name": "python3"
  },
  "language_info": {
   "codemirror_mode": {
    "name": "ipython",
    "version": 3
   },
   "file_extension": ".py",
   "mimetype": "text/x-python",
   "name": "python",
   "nbconvert_exporter": "python",
   "pygments_lexer": "ipython3",
   "version": "3.8.12"
  }
 },
 "nbformat": 4,
 "nbformat_minor": 5
}
