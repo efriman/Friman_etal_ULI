{
 "cells": [
  {
   "cell_type": "code",
   "execution_count": 1,
   "id": "9c69176d",
   "metadata": {},
   "outputs": [
    {
     "name": "stdout",
     "output_type": "stream",
     "text": [
      "INFO:coolpuppy:Saved output to plots/Zebrafish_Brain_enriched.svg\r\n"
     ]
    }
   ],
   "source": [
    "!plotpup.py --input_pups \\\n",
    "GSM4662081_YueLab-HiC-Brain_merged_zv10_GSE134055_Yang_H3K27ac_brain_enriched.bed_expected_cisbalanced.clpy \\\n",
    "GSM4662083_YueLab-HiC-Muscle_merged_zv10_GSE134055_Yang_H3K27ac_brain_enriched.bed_expected_cisbalanced.clpy \\\n",
    "--output plots/Zebrafish_Brain_enriched.svg --cols separation --rows cooler \\\n",
    "--font Arial --plot_ticks \\\n",
    "--rownames 'Brain' 'Muscle' --vmax 1.5 --norm_corners 10"
   ]
  },
  {
   "cell_type": "code",
   "execution_count": 2,
   "id": "508b67fe",
   "metadata": {},
   "outputs": [
    {
     "name": "stdout",
     "output_type": "stream",
     "text": [
      "INFO:coolpuppy:Saved output to plots/Zebrafish_Muscle_enriched.svg\r\n"
     ]
    }
   ],
   "source": [
    "!plotpup.py --input_pups \\\n",
    "GSM4662081_YueLab-HiC-Brain_merged_zv10_GSE134055_Yang_H3K27ac_muscle_enriched.bed_expected_cisbalanced.clpy \\\n",
    "GSM4662083_YueLab-HiC-Muscle_merged_zv10_GSE134055_Yang_H3K27ac_muscle_enriched.bed_expected_cisbalanced.clpy \\\n",
    "--output plots/Zebrafish_Muscle_enriched.svg --cols separation --rows cooler \\\n",
    "--font Arial --plot_ticks \\\n",
    "--rownames 'Brain' 'Muscle' --vmax 1.5 --norm_corners 10"
   ]
  },
  {
   "cell_type": "code",
   "execution_count": 3,
   "id": "140be01e",
   "metadata": {},
   "outputs": [
    {
     "name": "stdout",
     "output_type": "stream",
     "text": [
      "INFO:coolpuppy:Saved output to plots/ED_RNAseq_quartiles.svg\r\n"
     ]
    }
   ],
   "source": [
    "!plotpup.py --input_pups \\\n",
    "ED.allValidPairs_Loubiere_RNAseq_quartile_1_dm6.bed_expected_cisbalanced.clpy \\\n",
    "ED.allValidPairs_Loubiere_RNAseq_quartile_2_dm6.bed_expected_cisbalanced.clpy \\\n",
    "ED.allValidPairs_Loubiere_RNAseq_quartile_3_dm6.bed_expected_cisbalanced.clpy \\\n",
    "ED.allValidPairs_Loubiere_RNAseq_quartile_4_dm6.bed_expected_cisbalanced.clpy \\\n",
    "--output plots/ED_RNAseq_quartiles.svg --cols separation --rows features \\\n",
    "--font Arial --plot_ticks \\\n",
    "--rownames 'Q1' 'Q2' 'Q3' 'Q4' \\\n",
    "--vmax 1.5 --norm_corners 10"
   ]
  },
  {
   "cell_type": "code",
   "execution_count": 1,
   "id": "a41997f4",
   "metadata": {},
   "outputs": [
    {
     "name": "stdout",
     "output_type": "stream",
     "text": [
      "INFO:coolpuppy:Saved output to plots/ED_H3K27ac_PRC1.svg\r\n"
     ]
    }
   ],
   "source": [
    "!plotpup.py --input_pups \\\n",
    "ED.allValidPairs_ED_H3K27ac_noPRC1_dm6.bed_expected_cisbalanced.clpy \\\n",
    "ED.allValidPairs_ED_PRC1_noH3K27ac_dm6.bed_expected_cisbalanced.clpy \\\n",
    "ED.allValidPairs_ED_H3K27ac_PRC1_dm6.bed_expected_cisbalanced.clpy \\\n",
    "--output plots/ED_H3K27ac_PRC1.svg --cols separation --rows features \\\n",
    "--font Arial --plot_ticks \\\n",
    "--rownames 'H3K27ac+ PRC1-' 'H3K27ac- PRC1+' 'H3K27ac+ PRC1+' \\\n",
    "--vmax 1.5 --norm_corners 10"
   ]
  },
  {
   "cell_type": "code",
   "execution_count": null,
   "id": "c83cd385",
   "metadata": {},
   "outputs": [],
   "source": []
  }
 ],
 "metadata": {
  "kernelspec": {
   "display_name": "Python 3 (ipykernel)",
   "language": "python",
   "name": "python3"
  },
  "language_info": {
   "codemirror_mode": {
    "name": "ipython",
    "version": 3
   },
   "file_extension": ".py",
   "mimetype": "text/x-python",
   "name": "python",
   "nbconvert_exporter": "python",
   "pygments_lexer": "ipython3",
   "version": "3.8.12"
  }
 },
 "nbformat": 4,
 "nbformat_minor": 5
}
