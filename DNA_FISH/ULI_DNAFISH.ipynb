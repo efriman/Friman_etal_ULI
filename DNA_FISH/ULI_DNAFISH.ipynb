{
 "cells": [
  {
   "cell_type": "code",
   "execution_count": 1,
   "metadata": {},
   "outputs": [],
   "source": [
    "import numpy as np\n",
    "import pandas as pd\n",
    "import matplotlib.pyplot as plt\n",
    "import seaborn as sns\n",
    "import os\n",
    "import glob"
   ]
  },
  {
   "cell_type": "code",
   "execution_count": 2,
   "metadata": {},
   "outputs": [
    {
     "data": {
      "text/plain": [
       "['O12_J10_D3_3',\n",
       " 'K10_F23_F12_1',\n",
       " 'A10_D11_B18_2',\n",
       " 'K10_F23_F12_2',\n",
       " 'A10_D11_B18_1',\n",
       " 'A10_D11_B18_3',\n",
       " 'O12_J10_D3_1',\n",
       " 'O12_J10_D3_2']"
      ]
     },
     "execution_count": 2,
     "metadata": {},
     "output_type": "execute_result"
    }
   ],
   "source": [
    "files = glob.glob('*txt')\n",
    "files = [i.replace(\".txt\", \"\") for i in files]\n",
    "files"
   ]
  },
  {
   "cell_type": "code",
   "execution_count": 3,
   "metadata": {},
   "outputs": [
    {
     "data": {
      "text/html": [
       "<div>\n",
       "<style scoped>\n",
       "    .dataframe tbody tr th:only-of-type {\n",
       "        vertical-align: middle;\n",
       "    }\n",
       "\n",
       "    .dataframe tbody tr th {\n",
       "        vertical-align: top;\n",
       "    }\n",
       "\n",
       "    .dataframe thead th {\n",
       "        text-align: right;\n",
       "    }\n",
       "</style>\n",
       "<table border=\"1\" class=\"dataframe\">\n",
       "  <thead>\n",
       "    <tr style=\"text-align: right;\">\n",
       "      <th></th>\n",
       "      <th>Image</th>\n",
       "      <th>CRE-CRE</th>\n",
       "      <th>CRE-Control</th>\n",
       "      <th>sample</th>\n",
       "      <th>replicate</th>\n",
       "    </tr>\n",
       "  </thead>\n",
       "  <tbody>\n",
       "    <tr>\n",
       "      <th>0</th>\n",
       "      <td>1</td>\n",
       "      <td>0,891</td>\n",
       "      <td>1,28</td>\n",
       "      <td>O12_J10_D3</td>\n",
       "      <td>Rep. 3</td>\n",
       "    </tr>\n",
       "    <tr>\n",
       "      <th>1</th>\n",
       "      <td>1</td>\n",
       "      <td>1,03</td>\n",
       "      <td>1,49</td>\n",
       "      <td>O12_J10_D3</td>\n",
       "      <td>Rep. 3</td>\n",
       "    </tr>\n",
       "    <tr>\n",
       "      <th>2</th>\n",
       "      <td>1</td>\n",
       "      <td>1,31</td>\n",
       "      <td>0,849</td>\n",
       "      <td>O12_J10_D3</td>\n",
       "      <td>Rep. 3</td>\n",
       "    </tr>\n",
       "    <tr>\n",
       "      <th>3</th>\n",
       "      <td>1</td>\n",
       "      <td>1,21</td>\n",
       "      <td>1,06</td>\n",
       "      <td>O12_J10_D3</td>\n",
       "      <td>Rep. 3</td>\n",
       "    </tr>\n",
       "    <tr>\n",
       "      <th>4</th>\n",
       "      <td>1</td>\n",
       "      <td>3,06</td>\n",
       "      <td>3,21</td>\n",
       "      <td>O12_J10_D3</td>\n",
       "      <td>Rep. 3</td>\n",
       "    </tr>\n",
       "    <tr>\n",
       "      <th>...</th>\n",
       "      <td>...</td>\n",
       "      <td>...</td>\n",
       "      <td>...</td>\n",
       "      <td>...</td>\n",
       "      <td>...</td>\n",
       "    </tr>\n",
       "    <tr>\n",
       "      <th>88</th>\n",
       "      <td>40007</td>\n",
       "      <td>2,06</td>\n",
       "      <td>2,21</td>\n",
       "      <td>O12_J10_D3</td>\n",
       "      <td>Rep. 2</td>\n",
       "    </tr>\n",
       "    <tr>\n",
       "      <th>89</th>\n",
       "      <td>40007</td>\n",
       "      <td>1,96</td>\n",
       "      <td>1,67</td>\n",
       "      <td>O12_J10_D3</td>\n",
       "      <td>Rep. 2</td>\n",
       "    </tr>\n",
       "    <tr>\n",
       "      <th>90</th>\n",
       "      <td>40008</td>\n",
       "      <td>0,447</td>\n",
       "      <td>0,346</td>\n",
       "      <td>O12_J10_D3</td>\n",
       "      <td>Rep. 2</td>\n",
       "    </tr>\n",
       "    <tr>\n",
       "      <th>91</th>\n",
       "      <td>40010</td>\n",
       "      <td>2,11</td>\n",
       "      <td>1,43</td>\n",
       "      <td>O12_J10_D3</td>\n",
       "      <td>Rep. 2</td>\n",
       "    </tr>\n",
       "    <tr>\n",
       "      <th>92</th>\n",
       "      <td>40010</td>\n",
       "      <td>1,11</td>\n",
       "      <td>1,74</td>\n",
       "      <td>O12_J10_D3</td>\n",
       "      <td>Rep. 2</td>\n",
       "    </tr>\n",
       "  </tbody>\n",
       "</table>\n",
       "<p>789 rows × 5 columns</p>\n",
       "</div>"
      ],
      "text/plain": [
       "    Image CRE-CRE CRE-Control      sample replicate\n",
       "0       1   0,891        1,28  O12_J10_D3    Rep. 3\n",
       "1       1    1,03        1,49  O12_J10_D3    Rep. 3\n",
       "2       1    1,31       0,849  O12_J10_D3    Rep. 3\n",
       "3       1    1,21        1,06  O12_J10_D3    Rep. 3\n",
       "4       1    3,06        3,21  O12_J10_D3    Rep. 3\n",
       "..    ...     ...         ...         ...       ...\n",
       "88  40007    2,06        2,21  O12_J10_D3    Rep. 2\n",
       "89  40007    1,96        1,67  O12_J10_D3    Rep. 2\n",
       "90  40008   0,447       0,346  O12_J10_D3    Rep. 2\n",
       "91  40010    2,11        1,43  O12_J10_D3    Rep. 2\n",
       "92  40010    1,11        1,74  O12_J10_D3    Rep. 2\n",
       "\n",
       "[789 rows x 5 columns]"
      ]
     },
     "execution_count": 3,
     "metadata": {},
     "output_type": "execute_result"
    }
   ],
   "source": [
    "data = pd.DataFrame()\n",
    "for sample in files:\n",
    "    df = pd.read_csv(f\"{sample}.txt\", sep=\"\\t\")\n",
    "    df.columns = [\"Image\", \"CRE-CRE\", \"CRE-Control\"]\n",
    "    df[\"sample\"] = \"_\".join(sample.split(\"_\")[0:3])\n",
    "    df[\"replicate\"] = \"Rep. \" + sample.split(\"_\")[3]\n",
    "    data = pd.concat([data, df])\n",
    "data"
   ]
  },
  {
   "cell_type": "code",
   "execution_count": 4,
   "metadata": {},
   "outputs": [
    {
     "data": {
      "text/plain": [
       "array(['Rep. 3', 'Rep. 1', 'Rep. 2'], dtype=object)"
      ]
     },
     "execution_count": 4,
     "metadata": {},
     "output_type": "execute_result"
    }
   ],
   "source": [
    "data[\"replicate\"].unique()"
   ]
  },
  {
   "cell_type": "code",
   "execution_count": 5,
   "metadata": {},
   "outputs": [],
   "source": [
    "data = data.apply(lambda x: x.str.replace(',','.'))\n",
    "data[[\"CRE-CRE\", \"CRE-Control\"]] = data[[\"CRE-CRE\", \"CRE-Control\"]].astype(float)"
   ]
  },
  {
   "cell_type": "code",
   "execution_count": 6,
   "metadata": {},
   "outputs": [],
   "source": [
    "data[\"chromosome\"] = np.where(data[\"sample\"] == \"O12_J10_D3\",\n",
    "                              \"chr9\",\n",
    "                              np.where(data[\"sample\"] == \"A10_D11_B18\",\n",
    "                                       \"chr1\",\n",
    "                                       np.where(data[\"sample\"] == \"A10_D11_B18\",\n",
    "                                       \"chr1\",\n",
    "                                       np.where(data[\"sample\"] == \"K10_F23_F12\",\n",
    "                                                \"chrX\", \"ERROR\"))))"
   ]
  },
  {
   "cell_type": "code",
   "execution_count": 7,
   "metadata": {},
   "outputs": [],
   "source": [
    "melt = pd.melt(data, id_vars=[\"Image\", \"sample\", \"chromosome\", \"replicate\"])"
   ]
  },
  {
   "cell_type": "code",
   "execution_count": 8,
   "metadata": {},
   "outputs": [],
   "source": [
    "melt[\"sample_rep\"] = melt[\"sample\"] + \"_\" + melt[\"replicate\"]"
   ]
  },
  {
   "cell_type": "code",
   "execution_count": 9,
   "metadata": {},
   "outputs": [],
   "source": [
    "melt = melt.sort_values(\"chromosome\").reset_index(drop=True)"
   ]
  },
  {
   "cell_type": "code",
   "execution_count": 10,
   "metadata": {},
   "outputs": [
    {
     "data": {
      "image/png": "[encoded data removed]",
      "text/plain": [
       "<Figure size 347.868x141.732 with 3 Axes>"
      ]
     },
     "metadata": {
      "needs_background": "light"
     },
     "output_type": "display_data"
    }
   ],
   "source": [
    "cm = 1/2.54\n",
    "sns.set(style=\"ticks\", font=\"Arial\")\n",
    "sns.set_context(\"notebook\", rc={\"font.size\":1,\n",
    "                                \"axes.labelsize\": 10,\n",
    "                                \"xtick.labelsize\": 10,\n",
    "                                \"ytick.labelsize\": 10})   \n",
    "melt['variable'] = pd.Categorical(melt['variable'], ['CRE-CRE', 'CRE-Control'])\n",
    "melt['replicate'] = pd.Categorical(melt['replicate'], ['Rep. 1', 'Rep. 2', 'Rep. 3'])\n",
    "props = {\n",
    "    'boxprops':{'edgecolor':'dimgrey'},\n",
    "    'medianprops':{'color':'black'},\n",
    "    'whiskerprops':{'color':'dimgrey'},\n",
    "    'capprops':{'color':'dimgrey'}\n",
    "}\n",
    "g = sns.catplot(data=melt, kind='box', \n",
    "                x='variable', y='value', col='chromosome',\n",
    "                dodge=False, showfliers=False, height=5*cm, aspect=0.6,\n",
    "                linewidth=2, hue=\"variable\", legend=False, **props,\n",
    "                palette=[\"#1f78b4\", \"#ff7f00\"])\n",
    "g.map_dataframe(sns.stripplot, x='variable', y='value', hue='replicate', \n",
    "                size=5, dodge=True, edgecolor=\"k\", linewidth=0.5,\n",
    "                palette=['whitesmoke','grey','black'], alpha=0.15)\n",
    "g.add_legend(title=\"\", fontsize=10)\n",
    "plt.setp(g._legend.get_title(), fontsize=10)\n",
    "g.set_titles(col_template = '{col_name}')\n",
    "\n",
    "for ax in g.axes.flat:\n",
    "    ax.set_xlabel(ax.get_title(), size=10)\n",
    "    ax.set_xticklabels(\"\")\n",
    "    ax.set_title('')\n",
    "    ax.tick_params(bottom=False)\n",
    "    if len(ax.get_ylabel()) == 0:\n",
    "        ax.spines['left'].set_visible(False)\n",
    "        ax.tick_params(axis='y', left=False)\n",
    "    else:\n",
    "        ax.set_ylabel(\"Interprobe distance [µm]\", size=10)\n",
    "        ax.set_yticks([0, 1, 2, 3, 4])\n",
    "xmin, xmax = ax.get_xlim()\n",
    "ax.set_xlim(xmin - 0.1, xmax + 0.1)\n",
    "ax.set_ylim(-0.5, 4.75)\n",
    "plt.subplots_adjust(wspace=0)\n",
    "sns.despine(trim=True)\n",
    "plt.savefig(\"DNA_FISH_distances.svg\", bbox_inches=\"tight\")"
   ]
  },
  {
   "cell_type": "code",
   "execution_count": 11,
   "metadata": {
    "scrolled": true
   },
   "outputs": [
    {
     "data": {
      "image/png": "[encoded data removed]",
      "text/plain": [
       "<Figure size 357.468x141.732 with 3 Axes>"
      ]
     },
     "metadata": {
      "needs_background": "light"
     },
     "output_type": "display_data"
    }
   ],
   "source": [
    "g = sns.displot(\n",
    "    melt,\n",
    "    x=\"value\", col=\"chromosome\", hue=\"variable\",\n",
    "    kind=\"ecdf\", aspect=0.6, linewidth=2, height=5*cm,\n",
    "    palette=[\"#1f78b4\", \"#ff7f00\"]\n",
    ")\n",
    "g.legend.set_title(None)\n",
    "g.set_titles(col_template = '{col_name}')\n",
    "g.set(xticks=np.linspace(0, 4, 9),\n",
    "      xticklabels=[0, \"\", 1, \"\", 2, \"\", 3, \"\", 4],\n",
    "      xlim=[-0.25, 4],\n",
    "      yticks=[0, 0.25, 0.5, 0.75, 1],\n",
    "      ylim=[-0.02, 1.2])\n",
    "sns.despine(trim=True)\n",
    "for ax in g.axes.flat:\n",
    "    if ax.get_title() == \"chr9\":\n",
    "        ax.set_xlabel(\"Interprobe distance [µm]\", size=10)\n",
    "    else:\n",
    "        ax.set_xlabel(\"\")\n",
    "    if len(ax.get_ylabel()) == 0:\n",
    "        ax.spines['left'].set_visible(False)\n",
    "        ax.tick_params(axis='y', left=False)\n",
    "    else:\n",
    "        ax.set_ylabel(\"Cumulative frequency\", size=10)\n",
    "plt.savefig(\"DNA_FISH_ecdf.svg\", bbox_inches=\"tight\")"
   ]
  },
  {
   "cell_type": "code",
   "execution_count": 12,
   "metadata": {},
   "outputs": [],
   "source": [
    "melt.to_csv(\"DNA_FISH_processed.tsv\", sep=\"\\t\", index=False)"
   ]
  },
  {
   "cell_type": "code",
   "execution_count": 13,
   "metadata": {},
   "outputs": [
    {
     "data": {
      "text/plain": [
       "chromosome  variable   \n",
       "chr1        CRE-CRE        289\n",
       "            CRE-Control    289\n",
       "chr9        CRE-CRE        292\n",
       "            CRE-Control    292\n",
       "chrX        CRE-CRE        208\n",
       "            CRE-Control    208\n",
       "dtype: int64"
      ]
     },
     "execution_count": 13,
     "metadata": {},
     "output_type": "execute_result"
    }
   ],
   "source": [
    "melt.groupby([\"chromosome\", \"variable\"]).size()"
   ]
  },
  {
   "cell_type": "code",
   "execution_count": 14,
   "metadata": {},
   "outputs": [
    {
     "data": {
      "text/html": [
       "<div>\n",
       "<style scoped>\n",
       "    .dataframe tbody tr th:only-of-type {\n",
       "        vertical-align: middle;\n",
       "    }\n",
       "\n",
       "    .dataframe tbody tr th {\n",
       "        vertical-align: top;\n",
       "    }\n",
       "\n",
       "    .dataframe thead th {\n",
       "        text-align: right;\n",
       "    }\n",
       "</style>\n",
       "<table border=\"1\" class=\"dataframe\">\n",
       "  <thead>\n",
       "    <tr style=\"text-align: right;\">\n",
       "      <th></th>\n",
       "      <th></th>\n",
       "      <th>value</th>\n",
       "    </tr>\n",
       "    <tr>\n",
       "      <th>chromosome</th>\n",
       "      <th>variable</th>\n",
       "      <th></th>\n",
       "    </tr>\n",
       "  </thead>\n",
       "  <tbody>\n",
       "    <tr>\n",
       "      <th rowspan=\"2\" valign=\"top\">chr1</th>\n",
       "      <th>CRE-CRE</th>\n",
       "      <td>1.380</td>\n",
       "    </tr>\n",
       "    <tr>\n",
       "      <th>CRE-Control</th>\n",
       "      <td>1.520</td>\n",
       "    </tr>\n",
       "    <tr>\n",
       "      <th rowspan=\"2\" valign=\"top\">chr9</th>\n",
       "      <th>CRE-CRE</th>\n",
       "      <td>1.230</td>\n",
       "    </tr>\n",
       "    <tr>\n",
       "      <th>CRE-Control</th>\n",
       "      <td>1.310</td>\n",
       "    </tr>\n",
       "    <tr>\n",
       "      <th rowspan=\"2\" valign=\"top\">chrX</th>\n",
       "      <th>CRE-CRE</th>\n",
       "      <td>1.040</td>\n",
       "    </tr>\n",
       "    <tr>\n",
       "      <th>CRE-Control</th>\n",
       "      <td>1.125</td>\n",
       "    </tr>\n",
       "  </tbody>\n",
       "</table>\n",
       "</div>"
      ],
      "text/plain": [
       "                        value\n",
       "chromosome variable          \n",
       "chr1       CRE-CRE      1.380\n",
       "           CRE-Control  1.520\n",
       "chr9       CRE-CRE      1.230\n",
       "           CRE-Control  1.310\n",
       "chrX       CRE-CRE      1.040\n",
       "           CRE-Control  1.125"
      ]
     },
     "execution_count": 14,
     "metadata": {},
     "output_type": "execute_result"
    }
   ],
   "source": [
    "melt.groupby([\"chromosome\", \"variable\"]).median(\"value\")"
   ]
  }
 ],
 "metadata": {
  "kernelspec": {
   "display_name": "Python 3 (ipykernel)",
   "language": "python",
   "name": "python3"
  },
  "language_info": {
   "codemirror_mode": {
    "name": "ipython",
    "version": 3
   },
   "file_extension": ".py",
   "mimetype": "text/x-python",
   "name": "python",
   "nbconvert_exporter": "python",
   "pygments_lexer": "ipython3",
   "version": "3.8.12"
  }
 },
 "nbformat": 4,
 "nbformat_minor": 4
}
