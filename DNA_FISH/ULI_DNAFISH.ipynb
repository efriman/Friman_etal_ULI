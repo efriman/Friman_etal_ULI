{
 "cells": [
  {
   "cell_type": "code",
   "execution_count": 1,
   "metadata": {},
   "outputs": [],
   "source": [
    "import numpy as np\n",
    "import pandas as pd\n",
    "import matplotlib.pyplot as plt\n",
    "import seaborn as sns\n",
    "from scipy import stats\n",
    "from statsmodels.stats.multitest import multipletests"
   ]
  },
  {
   "cell_type": "code",
   "execution_count": 2,
   "metadata": {},
   "outputs": [],
   "source": [
    "A10_D11_B18 = pd.read_table(\"A10_D11_B18.txt\")\n",
    "A10_D11_B18.columns = [\"Nucleus\", \"CRE-\\nCRE\", \"CRE-\\ncontrol\"]\n",
    "A10_D11_B18[\"Probe\"] = \"A10_D11_B18\"\n",
    "O12_J10_D3 = pd.read_table(\"O12_J10_D3.txt\")\n",
    "O12_J10_D3.columns = [\"Nucleus\", \"CRE-\\nCRE\", \"CRE-\\ncontrol\"]\n",
    "O12_J10_D3[\"Probe\"] = \"O12_J10_D3\""
   ]
  },
  {
   "cell_type": "code",
   "execution_count": 3,
   "metadata": {},
   "outputs": [],
   "source": [
    "combined = pd.concat([A10_D11_B18, O12_J10_D3])"
   ]
  },
  {
   "cell_type": "code",
   "execution_count": 4,
   "metadata": {},
   "outputs": [],
   "source": [
    "combined = combined.apply(lambda x: x.str.replace(',','.'))\n",
    "combined[[\"CRE-\\nCRE\", \"CRE-\\ncontrol\"]] = combined[[\"CRE-\\nCRE\", \"CRE-\\ncontrol\"]].astype(float)"
   ]
  },
  {
   "cell_type": "code",
   "execution_count": 5,
   "metadata": {},
   "outputs": [],
   "source": [
    "melt = pd.melt(combined, id_vars=[\"Nucleus\", \"Probe\"])"
   ]
  },
  {
   "cell_type": "code",
   "execution_count": 11,
   "metadata": {},
   "outputs": [
    {
     "data": {
      "image/png": "[encoded data removed]",
      "text/plain": [
       "<Figure size 127.559x113.386 with 1 Axes>"
      ]
     },
     "metadata": {},
     "output_type": "display_data"
    }
   ],
   "source": [
    "cm = 1/2.54\n",
    "sns.set(style=\"ticks\", font=\"Arial\")\n",
    "sns.set_context(\"notebook\", rc={\"font.size\":1,\"axes.titlesize\":16, \n",
    "                                \"axes.labelsize\": 12, \"xtick.labelsize\": 12,\n",
    "                                \"ytick.labelsize\": 12})   \n",
    "plt.figure(figsize=(4.5*cm, 4*cm))\n",
    "g = sns.boxplot(data=melt.loc[melt[\"Probe\"]==\"A10_D11_B18\"], \n",
    "                x=\"variable\", \n",
    "                y=\"value\",\n",
    "                color=\"whitesmoke\",\n",
    "                fliersize=0\n",
    "               )\n",
    "sns.swarmplot(data=melt.loc[melt[\"Probe\"]==\"A10_D11_B18\"], \n",
    "              x=\"variable\", \n",
    "              y=\"value\", \n",
    "              ax=g,\n",
    "              edgecolor=\"black\",\n",
    "              linewidth=0.5,\n",
    "              s=1\n",
    "             )\n",
    "g.set(xlabel=\"\",\n",
    "      title=\"\",\n",
    "      ylabel=\"Distance [μm]\",\n",
    "      ylim=[0,3.4])\n",
    "plt.yticks([0, 1, 2, 3])\n",
    "sns.despine(trim=True)\n",
    "plt.tight_layout()\n",
    "plt.savefig(\"Chr1_distances.svg\")"
   ]
  },
  {
   "cell_type": "code",
   "execution_count": 7,
   "metadata": {},
   "outputs": [
    {
     "data": {
      "image/png": "[encoded data removed]",
      "text/plain": [
       "<Figure size 127.559x113.386 with 1 Axes>"
      ]
     },
     "metadata": {},
     "output_type": "display_data"
    }
   ],
   "source": [
    "cm = 1/2.54\n",
    "sns.set(style=\"ticks\", font=\"Arial\")\n",
    "sns.set_context(\"notebook\", rc={\"font.size\":1,\"axes.titlesize\":16, \n",
    "                                \"axes.labelsize\": 12, \"xtick.labelsize\": 12,\n",
    "                                \"ytick.labelsize\": 12})   \n",
    "plt.figure(figsize=(4.5*cm, 4*cm))\n",
    "g = sns.boxplot(data=melt.loc[melt[\"Probe\"]==\"O12_J10_D3\"], \n",
    "                x=\"variable\", \n",
    "                y=\"value\",\n",
    "                color=\"whitesmoke\",\n",
    "                fliersize=0\n",
    "               )\n",
    "sns.swarmplot(data=melt.loc[melt[\"Probe\"]==\"O12_J10_D3\"], \n",
    "              x=\"variable\", \n",
    "              y=\"value\", \n",
    "              ax=g,\n",
    "              edgecolor=\"black\",\n",
    "              linewidth=0.5,\n",
    "              s=1\n",
    "             )\n",
    "g.set(xlabel=\"\",\n",
    "      title=\"\",\n",
    "      ylabel=\"Distance [μm]\",\n",
    "      ylim=[0,3.4])\n",
    "plt.yticks([0, 1, 2, 3])\n",
    "sns.despine(trim=True)\n",
    "plt.tight_layout()\n",
    "plt.savefig(\"Chr9_distances.svg\")"
   ]
  },
  {
   "cell_type": "code",
   "execution_count": 8,
   "metadata": {},
   "outputs": [],
   "source": [
    "Chr1_U = stats.wilcoxon(combined.loc[(combined[\"Probe\"] == \"A10_D11_B18\"), \"CRE-\\nCRE\"], \n",
    "                        combined.loc[(combined[\"Probe\"] == \"A10_D11_B18\"), \"CRE-\\ncontrol\"],\n",
    "                       )"
   ]
  },
  {
   "cell_type": "code",
   "execution_count": 9,
   "metadata": {},
   "outputs": [],
   "source": [
    "Chr9_U = stats.wilcoxon(combined.loc[(combined[\"Probe\"] == \"O12_J10_D3\"), \"CRE-\\nCRE\"], \n",
    "                        combined.loc[(combined[\"Probe\"] == \"O12_J10_D3\"), \"CRE-\\ncontrol\"],\n",
    "                       )"
   ]
  },
  {
   "cell_type": "code",
   "execution_count": 10,
   "metadata": {},
   "outputs": [
    {
     "data": {
      "text/plain": [
       "(array([False,  True]),\n",
       " array([0.95338805, 0.06275033]),\n",
       " 0.05131670194948623,\n",
       " 0.05)"
      ]
     },
     "execution_count": 10,
     "metadata": {},
     "output_type": "execute_result"
    }
   ],
   "source": [
    "multipletests([Chr1_U[1], Chr9_U[1]],\n",
    "              method=\"fdr_bh\", \n",
    "              alpha=0.1,\n",
    "              is_sorted=False)"
   ]
  },
  {
   "cell_type": "code",
   "execution_count": 26,
   "metadata": {},
   "outputs": [
    {
     "data": {
      "text/plain": [
       "Probe        variable     \n",
       "A10_D11_B18  CRE-\\nCRE        100\n",
       "             CRE-\\ncontrol    100\n",
       "O12_J10_D3   CRE-\\nCRE        112\n",
       "             CRE-\\ncontrol    112\n",
       "dtype: int64"
      ]
     },
     "execution_count": 26,
     "metadata": {},
     "output_type": "execute_result"
    }
   ],
   "source": [
    "melt.groupby([\"Probe\", \"variable\"]).size()"
   ]
  }
 ],
 "metadata": {
  "kernelspec": {
   "display_name": "Python 3 (ipykernel)",
   "language": "python",
   "name": "python3"
  },
  "language_info": {
   "codemirror_mode": {
    "name": "ipython",
    "version": 3
   },
   "file_extension": ".py",
   "mimetype": "text/x-python",
   "name": "python",
   "nbconvert_exporter": "python",
   "pygments_lexer": "ipython3",
   "version": "3.8.12"
  }
 },
 "nbformat": 4,
 "nbformat_minor": 4
}
