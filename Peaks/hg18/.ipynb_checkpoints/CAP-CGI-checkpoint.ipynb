{
 "cells": [
  {
   "cell_type": "code",
   "execution_count": 1,
   "id": "dfcf0f7a",
   "metadata": {},
   "outputs": [],
   "source": [
    "import pandas as pd\n",
    "import numpy as np"
   ]
  },
  {
   "cell_type": "code",
   "execution_count": 2,
   "id": "9351a62e",
   "metadata": {},
   "outputs": [],
   "source": [
    "!wget https://doi.org/10.1371/journal.pgen.1001134.s001 -q"
   ]
  },
  {
   "cell_type": "code",
   "execution_count": 3,
   "id": "421910c3",
   "metadata": {},
   "outputs": [],
   "source": [
    "CGI_hg18 = pd.read_excel(\"journal.pgen.1001134.s001\", skiprows=7)\n",
    "CGI_hg18 = CGI_hg18.rename(columns={\"CpG density (CpGs per 100bp)\": \"CpG_density\"})\n",
    "CGI_hg18 = CGI_hg18.rename(columns={\"Chromome\": \"Chromosome\"})"
   ]
  },
  {
   "cell_type": "code",
   "execution_count": 4,
   "id": "280cb74e",
   "metadata": {},
   "outputs": [
    {
     "data": {
      "text/html": [
       "<div>\n",
       "<style scoped>\n",
       "    .dataframe tbody tr th:only-of-type {\n",
       "        vertical-align: middle;\n",
       "    }\n",
       "\n",
       "    .dataframe tbody tr th {\n",
       "        vertical-align: top;\n",
       "    }\n",
       "\n",
       "    .dataframe thead th {\n",
       "        text-align: right;\n",
       "    }\n",
       "</style>\n",
       "<table border=\"1\" class=\"dataframe\">\n",
       "  <thead>\n",
       "    <tr style=\"text-align: right;\">\n",
       "      <th></th>\n",
       "      <th>Chromosome</th>\n",
       "      <th>Start</th>\n",
       "      <th>End</th>\n",
       "      <th>ID</th>\n",
       "      <th>Strand</th>\n",
       "      <th>CpG observed</th>\n",
       "      <th>CpG observed/expected</th>\n",
       "      <th>G+C Composition</th>\n",
       "      <th>Length</th>\n",
       "      <th>CpG_density</th>\n",
       "      <th>...</th>\n",
       "      <th>SpCo3</th>\n",
       "      <th>SpCo5</th>\n",
       "      <th>SpCo6</th>\n",
       "      <th>SpCo9</th>\n",
       "      <th>SpCo10</th>\n",
       "      <th>SpTu3</th>\n",
       "      <th>SpTu5</th>\n",
       "      <th>SpTu6</th>\n",
       "      <th>SpTu9</th>\n",
       "      <th>SpTu10</th>\n",
       "    </tr>\n",
       "  </thead>\n",
       "  <tbody>\n",
       "    <tr>\n",
       "      <th>0</th>\n",
       "      <td>chr1</td>\n",
       "      <td>368</td>\n",
       "      <td>732</td>\n",
       "      <td>CGI1</td>\n",
       "      <td>+</td>\n",
       "      <td>18</td>\n",
       "      <td>0.954712</td>\n",
       "      <td>0.682927</td>\n",
       "      <td>164</td>\n",
       "      <td>10.975610</td>\n",
       "      <td>...</td>\n",
       "      <td>1</td>\n",
       "      <td>1</td>\n",
       "      <td>1</td>\n",
       "      <td>1</td>\n",
       "      <td>0</td>\n",
       "      <td>1</td>\n",
       "      <td>0</td>\n",
       "      <td>1</td>\n",
       "      <td>0</td>\n",
       "      <td>1</td>\n",
       "    </tr>\n",
       "    <tr>\n",
       "      <th>1</th>\n",
       "      <td>chr1</td>\n",
       "      <td>554222</td>\n",
       "      <td>560270</td>\n",
       "      <td>CGI2</td>\n",
       "      <td>+</td>\n",
       "      <td>159</td>\n",
       "      <td>0.662625</td>\n",
       "      <td>0.442886</td>\n",
       "      <td>5848</td>\n",
       "      <td>2.718878</td>\n",
       "      <td>...</td>\n",
       "      <td>1</td>\n",
       "      <td>1</td>\n",
       "      <td>1</td>\n",
       "      <td>1</td>\n",
       "      <td>1</td>\n",
       "      <td>1</td>\n",
       "      <td>1</td>\n",
       "      <td>1</td>\n",
       "      <td>1</td>\n",
       "      <td>1</td>\n",
       "    </tr>\n",
       "    <tr>\n",
       "      <th>2</th>\n",
       "      <td>chr1</td>\n",
       "      <td>703737</td>\n",
       "      <td>704537</td>\n",
       "      <td>CGI3</td>\n",
       "      <td>+</td>\n",
       "      <td>61</td>\n",
       "      <td>0.872468</td>\n",
       "      <td>0.685000</td>\n",
       "      <td>600</td>\n",
       "      <td>10.166667</td>\n",
       "      <td>...</td>\n",
       "      <td>0</td>\n",
       "      <td>0</td>\n",
       "      <td>0</td>\n",
       "      <td>0</td>\n",
       "      <td>0</td>\n",
       "      <td>0</td>\n",
       "      <td>0</td>\n",
       "      <td>0</td>\n",
       "      <td>0</td>\n",
       "      <td>0</td>\n",
       "    </tr>\n",
       "    <tr>\n",
       "      <th>3</th>\n",
       "      <td>chr1</td>\n",
       "      <td>752216</td>\n",
       "      <td>752865</td>\n",
       "      <td>CGI4</td>\n",
       "      <td>+</td>\n",
       "      <td>40</td>\n",
       "      <td>0.829039</td>\n",
       "      <td>0.672606</td>\n",
       "      <td>449</td>\n",
       "      <td>8.908686</td>\n",
       "      <td>...</td>\n",
       "      <td>0</td>\n",
       "      <td>0</td>\n",
       "      <td>0</td>\n",
       "      <td>0</td>\n",
       "      <td>0</td>\n",
       "      <td>0</td>\n",
       "      <td>0</td>\n",
       "      <td>0</td>\n",
       "      <td>0</td>\n",
       "      <td>0</td>\n",
       "    </tr>\n",
       "    <tr>\n",
       "      <th>4</th>\n",
       "      <td>chr1</td>\n",
       "      <td>794954</td>\n",
       "      <td>795526</td>\n",
       "      <td>CGI5</td>\n",
       "      <td>+</td>\n",
       "      <td>45</td>\n",
       "      <td>0.818347</td>\n",
       "      <td>0.774194</td>\n",
       "      <td>372</td>\n",
       "      <td>12.096774</td>\n",
       "      <td>...</td>\n",
       "      <td>0</td>\n",
       "      <td>0</td>\n",
       "      <td>0</td>\n",
       "      <td>0</td>\n",
       "      <td>0</td>\n",
       "      <td>0</td>\n",
       "      <td>0</td>\n",
       "      <td>0</td>\n",
       "      <td>0</td>\n",
       "      <td>0</td>\n",
       "    </tr>\n",
       "  </tbody>\n",
       "</table>\n",
       "<p>5 rows × 34 columns</p>\n",
       "</div>"
      ],
      "text/plain": [
       "  Chromosome   Start     End    ID Strand  CpG observed  \\\n",
       "0       chr1     368     732  CGI1      +            18   \n",
       "1       chr1  554222  560270  CGI2      +           159   \n",
       "2       chr1  703737  704537  CGI3      +            61   \n",
       "3       chr1  752216  752865  CGI4      +            40   \n",
       "4       chr1  794954  795526  CGI5      +            45   \n",
       "\n",
       "   CpG observed/expected  G+C Composition  Length  CpG_density  ...  SpCo3  \\\n",
       "0               0.954712         0.682927     164    10.975610  ...      1   \n",
       "1               0.662625         0.442886    5848     2.718878  ...      1   \n",
       "2               0.872468         0.685000     600    10.166667  ...      0   \n",
       "3               0.829039         0.672606     449     8.908686  ...      0   \n",
       "4               0.818347         0.774194     372    12.096774  ...      0   \n",
       "\n",
       "   SpCo5  SpCo6  SpCo9  SpCo10  SpTu3  SpTu5  SpTu6  SpTu9  SpTu10  \n",
       "0      1      1      1       0      1      0      1      0       1  \n",
       "1      1      1      1       1      1      1      1      1       1  \n",
       "2      0      0      0       0      0      0      0      0       0  \n",
       "3      0      0      0       0      0      0      0      0       0  \n",
       "4      0      0      0       0      0      0      0      0       0  \n",
       "\n",
       "[5 rows x 34 columns]"
      ]
     },
     "execution_count": 4,
     "metadata": {},
     "output_type": "execute_result"
    }
   ],
   "source": [
    "CGI_hg18.head()"
   ]
  },
  {
   "cell_type": "code",
   "execution_count": 5,
   "id": "9b2647f0",
   "metadata": {},
   "outputs": [],
   "source": [
    "CGI_hg18[[\"Chromosome\", \"Start\", \"End\"]].to_csv(\"CAP-CGI_hg18.bed\", sep=\"\\t\", header=None, index=False)"
   ]
  },
  {
   "cell_type": "code",
   "execution_count": 6,
   "id": "40ab90f2",
   "metadata": {},
   "outputs": [
    {
     "name": "stdout",
     "output_type": "stream",
     "text": [
      "Reading liftover chains\n",
      "Mapping coordinates\n",
      "Reading liftover chains\n",
      "Mapping coordinates\n"
     ]
    }
   ],
   "source": [
    "!$elias/seqtools/./liftOver CAP-CGI_hg18.bed $elias/seqtools/hg18ToHg38.over.chain ../hg38/CAP-CGI_hg38.bed unmapped\n",
    "!$elias/seqtools/./liftOver CAP-CGI_hg18.bed $elias/seqtools/hg18ToHg19.over.chain ../hg19/CAP-CGI_hg19.bed unmapped"
   ]
  },
  {
   "cell_type": "code",
   "execution_count": 7,
   "id": "703e69c9",
   "metadata": {},
   "outputs": [],
   "source": [
    "CGI_hg18.loc[CGI_hg18[\"CpG_density\"] <= np.quantile(CGI_hg18[\"CpG_density\"], 0.25), \"quartile_CpGdensity\"] = 1\n",
    "CGI_hg18.loc[CGI_hg18[\"CpG_density\"] > np.quantile(CGI_hg18[\"CpG_density\"], 0.25), \"quartile_CpGdensity\"] = 2\n",
    "CGI_hg18.loc[CGI_hg18[\"CpG_density\"] > np.quantile(CGI_hg18[\"CpG_density\"], 0.5), \"quartile_CpGdensity\"] = 3\n",
    "CGI_hg18.loc[CGI_hg18[\"CpG_density\"] > np.quantile(CGI_hg18[\"CpG_density\"], 0.75), \"quartile_CpGdensity\"] = 4"
   ]
  },
  {
   "cell_type": "code",
   "execution_count": 8,
   "id": "d9f11ce2",
   "metadata": {},
   "outputs": [],
   "source": [
    "for i in range(4):\n",
    "    CGI_hg18.loc[CGI_hg18[\"quartile_CpGdensity\"] == i+1, \n",
    "                 [\"Chromosome\", \"Start\", \"End\"]].to_csv(f\"CAP-CGI_CpG_density_quartile_{i+1}_hg18.bed\", sep=\"\\t\", header=None, index=False)"
   ]
  },
  {
   "cell_type": "code",
   "execution_count": 9,
   "id": "84bbe153",
   "metadata": {},
   "outputs": [
    {
     "name": "stdout",
     "output_type": "stream",
     "text": [
      "Reading liftover chains\n",
      "Mapping coordinates\n",
      "Reading liftover chains\n",
      "Mapping coordinates\n",
      "Reading liftover chains\n",
      "Mapping coordinates\n",
      "Reading liftover chains\n",
      "Mapping coordinates\n"
     ]
    }
   ],
   "source": [
    "!for f in CAP-CGI_CpG_density_quartile_?_hg18.bed; do $elias/seqtools/./liftOver CAP-CGI_hg18.bed $elias/seqtools/hg18ToHg38.over.chain \"${f/hg18/hg38}\" unmapped; done"
   ]
  },
  {
   "cell_type": "code",
   "execution_count": 10,
   "id": "8b019904",
   "metadata": {},
   "outputs": [
    {
     "name": "stdout",
     "output_type": "stream",
     "text": [
      "Reading liftover chains\n",
      "Mapping coordinates\n",
      "Reading liftover chains\n",
      "Mapping coordinates\n",
      "Reading liftover chains\n",
      "Mapping coordinates\n",
      "Reading liftover chains\n",
      "Mapping coordinates\n",
      "mv: target '../hg3' is not a directory\n"
     ]
    }
   ],
   "source": [
    "!for f in CAP-CGI_CpG_density_quartile_?_hg18.bed; do $elias/seqtools/./liftOver CAP-CGI_hg18.bed $elias/seqtools/hg18ToHg19.over.chain \"${f/hg18/hg19}\" unmapped; done"
   ]
  }
 ],
 "metadata": {
  "kernelspec": {
   "display_name": "Python 3 (ipykernel)",
   "language": "python",
   "name": "python3"
  },
  "language_info": {
   "codemirror_mode": {
    "name": "ipython",
    "version": 3
   },
   "file_extension": ".py",
   "mimetype": "text/x-python",
   "name": "python",
   "nbconvert_exporter": "python",
   "pygments_lexer": "ipython3",
   "version": "3.8.12"
  }
 },
 "nbformat": 4,
 "nbformat_minor": 5
}
