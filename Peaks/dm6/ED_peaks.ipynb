{
 "cells": [
  {
   "cell_type": "code",
   "execution_count": 1,
   "id": "2cef835e",
   "metadata": {},
   "outputs": [],
   "source": [
    "import numpy as np\n",
    "import pandas as pd"
   ]
  },
  {
   "cell_type": "code",
   "execution_count": 2,
   "id": "d0a9e6f6",
   "metadata": {},
   "outputs": [],
   "source": [
    "!wget https://ftp.ncbi.nlm.nih.gov/geo/samples/GSM3937nnn/GSM3937266/suppl/GSM3937266_FC_phRNAi.txt.gz -q\n",
    "!gunzip GSM3937266_FC_phRNAi.txt.gz -f\n",
    "!wget ftp://ftp.flybase.net/genomes//Drosophila_melanogaster/dmel_r6.48_FB2022_05/gtf/dmel-all-r6.48.gtf.gz -q\n",
    "!gunzip dmel-all-r6.48.gtf.gz -f"
   ]
  },
  {
   "cell_type": "code",
   "execution_count": 3,
   "id": "f72d7055",
   "metadata": {},
   "outputs": [],
   "source": [
    "rna = pd.read_csv(\"GSM3937266_FC_phRNAi.txt\", sep=\"\\t\")"
   ]
  },
  {
   "cell_type": "code",
   "execution_count": 4,
   "id": "72f415dd",
   "metadata": {},
   "outputs": [],
   "source": [
    "rna[\"quartiles\"] = 0"
   ]
  },
  {
   "cell_type": "code",
   "execution_count": 5,
   "id": "1ab09811",
   "metadata": {},
   "outputs": [],
   "source": [
    "rna.loc[rna[\"baseMean\"] <= np.quantile(rna[\"baseMean\"], 0.25), \"quartile\"] = 1\n",
    "rna.loc[rna[\"baseMean\"] > np.quantile(rna[\"baseMean\"], 0.25), \"quartile\"] = 2\n",
    "rna.loc[rna[\"baseMean\"] > np.quantile(rna[\"baseMean\"], 0.5), \"quartile\"] = 3\n",
    "rna.loc[rna[\"baseMean\"] > np.quantile(rna[\"baseMean\"], 0.75), \"quartile\"] = 4"
   ]
  },
  {
   "cell_type": "code",
   "execution_count": 6,
   "id": "95045872",
   "metadata": {},
   "outputs": [],
   "source": [
    "!awk '{print $1,$4,$5,$7,$10,$3}' dmel-all-r6.48.gtf | \\\n",
    "awk '{gsub(\";\",\"\"); print}' | awk '{gsub(/\"/, \"\"); print}' | \\\n",
    "awk -v OFS=\"\\t\" '{if($6==\"gene\") {print $1,$2,$3,$4,$5}}' \\\n",
    "> dm6_genes.txt"
   ]
  },
  {
   "cell_type": "code",
   "execution_count": 7,
   "id": "8bff7e06",
   "metadata": {},
   "outputs": [],
   "source": [
    "genes = pd.read_csv(\"dm6_genes.txt\", sep=\"\\t\", header=None)\n",
    "genes.columns = [\"chrom\", \"start\", \"end\", \"strand\", \"FBgn\"]"
   ]
  },
  {
   "cell_type": "code",
   "execution_count": 8,
   "id": "887ce191",
   "metadata": {},
   "outputs": [],
   "source": [
    "merge = pd.merge(rna, genes, on=\"FBgn\", how=\"left\")"
   ]
  },
  {
   "cell_type": "code",
   "execution_count": 9,
   "id": "22bee38f",
   "metadata": {},
   "outputs": [],
   "source": [
    "merge[\"start1\"] = 0\n",
    "merge.loc[merge[\"strand\"] == \"+\", \"start1\"] = merge.loc[merge[\"strand\"] == \"+\", \"start\"]\n",
    "merge.loc[merge[\"strand\"] == \"-\", \"start1\"] = merge.loc[merge[\"strand\"] == \"-\", \"end\"]\n",
    "merge[\"end1\"] = merge[\"start1\"]+1\n",
    "merge[\"chrom\"] = \"chr\" + merge[\"chrom\"]"
   ]
  },
  {
   "cell_type": "code",
   "execution_count": 10,
   "id": "0faf7869",
   "metadata": {},
   "outputs": [],
   "source": [
    "for i in range(1,5):\n",
    "    merge.loc[merge[\"quartile\"] == i, \n",
    "              [\"chrom\", \"start1\", \"end1\"]].to_csv(\"Loubiere_RNAseq_quartile_\"+str(i)+\"_dm6.bed\",\n",
    "                                                  sep=\"\\t\", header=None, index=False)"
   ]
  },
  {
   "cell_type": "code",
   "execution_count": 11,
   "id": "094bc601",
   "metadata": {},
   "outputs": [],
   "source": [
    "!wget ftp://ftp.ncbi.nlm.nih.gov/geo/samples/GSM1910nnn/GSM1910622/suppl/GSM1910622_EyeDisc_K27Ac_Enriched.bed.gz -q\n",
    "!gunzip GSM1910622_EyeDisc_K27Ac_Enriched.bed.gz -f\n",
    "!wget https://ftp.ncbi.nlm.nih.gov/geo/samples/GSM3619nnn/GSM3619410/suppl/GSM3619410_ChIP_PSC_ED_merge_peaks.narrowPeak.gz -q\n",
    "!gunzip GSM3619410_ChIP_PSC_ED_merge_peaks.narrowPeak.gz -f\n",
    "!wget https://ftp.ncbi.nlm.nih.gov/geo/samples/GSM3619nnn/GSM3619412/suppl/GSM3619412_ChIP_SUZ12_ED_merge_peaks.narrowPeak.gz -q\n",
    "!gunzip GSM3619412_ChIP_SUZ12_ED_merge_peaks.narrowPeak.gz -f"
   ]
  },
  {
   "cell_type": "code",
   "execution_count": 12,
   "id": "bd887e04",
   "metadata": {},
   "outputs": [],
   "source": [
    "!awk -v OFS=\"\\t\" '{print \"chr\"$1,$2,$3}' GSM1910622_EyeDisc_K27Ac_Enriched.bed \\\n",
    "> GSM1910622_EyeDisc_K27Ac_Enriched_chr.bed"
   ]
  },
  {
   "cell_type": "code",
   "execution_count": 13,
   "id": "17625f24",
   "metadata": {},
   "outputs": [
    {
     "name": "stdout",
     "output_type": "stream",
     "text": [
      "Reading liftover chains\n",
      "Mapping coordinates\n"
     ]
    }
   ],
   "source": [
    "!$elias/seqtools/./liftOver GSM1910622_EyeDisc_K27Ac_Enriched_chr.bed $elias/seqtools/dm3ToDm6.over.chain.gz \\\n",
    "ED_H3K27ac_dm6.bed unmapped"
   ]
  },
  {
   "cell_type": "code",
   "execution_count": 14,
   "id": "ab3663e9",
   "metadata": {},
   "outputs": [],
   "source": [
    "!cat GSM3619410_ChIP_PSC_ED_merge_peaks.narrowPeak GSM3619412_ChIP_SUZ12_ED_merge_peaks.narrowPeak \\\n",
    "| bedtools sort -i | bedtools merge > ED_PRC1_dm6.bed"
   ]
  },
  {
   "cell_type": "code",
   "execution_count": 15,
   "id": "96774cb7",
   "metadata": {},
   "outputs": [],
   "source": [
    "!bedtools intersect -v -a ED_H3K27ac_dm6.bed -b ED_PRC1_dm6.bed \\\n",
    "> ED_H3K27ac_noPRC1_dm6.bed"
   ]
  },
  {
   "cell_type": "code",
   "execution_count": 16,
   "id": "e79aba39",
   "metadata": {},
   "outputs": [],
   "source": [
    "!bedtools intersect -a ED_H3K27ac_dm6.bed -b ED_PRC1_dm6.bed -wa \\\n",
    "> ED_H3K27ac_PRC1_dm6.bed"
   ]
  },
  {
   "cell_type": "code",
   "execution_count": 1,
   "id": "e835fd49",
   "metadata": {},
   "outputs": [],
   "source": [
    "!bedtools intersect -v -b ED_H3K27ac_dm6.bed -a ED_PRC1_dm6.bed -wa \\\n",
    "> ED_PRC1_noH3K27ac_dm6.bed"
   ]
  },
  {
   "cell_type": "code",
   "execution_count": 18,
   "id": "5bfe4b09",
   "metadata": {},
   "outputs": [],
   "source": [
    "import cooler"
   ]
  },
  {
   "cell_type": "code",
   "execution_count": 19,
   "id": "3207838b",
   "metadata": {},
   "outputs": [],
   "source": [
    "clr = cooler.Cooler(\"ED.allValidPairs.mcool::/resolutions/5000\")"
   ]
  },
  {
   "cell_type": "code",
   "execution_count": 20,
   "id": "cd084bf6",
   "metadata": {},
   "outputs": [],
   "source": [
    "dic={chr: \"chr\"+str(chr) for chr in clr.chromnames}"
   ]
  },
  {
   "cell_type": "code",
   "execution_count": 21,
   "id": "5462c2bd",
   "metadata": {},
   "outputs": [
    {
     "name": "stderr",
     "output_type": "stream",
     "text": [
      "/exports/igmm/eddie/chr11/elias/anaconda/envs/coolpuppy_trans/lib/python3.8/site-packages/cooler/create/_create.py:353: FutureWarning: is_categorical is deprecated and will be removed in a future version. Use is_categorical_dtype instead.\n",
      "  if is_categorical(bins[\"chrom\"]) or is_integer(bins[\"chrom\"]):\n"
     ]
    }
   ],
   "source": [
    "cooler.rename_chroms(clr, dic)"
   ]
  }
 ],
 "metadata": {
  "kernelspec": {
   "display_name": "Python 3 (ipykernel)",
   "language": "python",
   "name": "python3"
  },
  "language_info": {
   "codemirror_mode": {
    "name": "ipython",
    "version": 3
   },
   "file_extension": ".py",
   "mimetype": "text/x-python",
   "name": "python",
   "nbconvert_exporter": "python",
   "pygments_lexer": "ipython3",
   "version": "3.8.12"
  }
 },
 "nbformat": 4,
 "nbformat_minor": 5
}
