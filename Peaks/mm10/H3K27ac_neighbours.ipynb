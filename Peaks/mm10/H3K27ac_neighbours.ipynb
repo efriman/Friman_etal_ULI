{
 "cells": [
  {
   "cell_type": "code",
   "execution_count": 1,
   "id": "cd705af3",
   "metadata": {},
   "outputs": [],
   "source": [
    "import pandas as pd\n",
    "import numpy as np\n",
    "import bioframe\n",
    "import seaborn as sns\n",
    "import matplotlib.pyplot as plt"
   ]
  },
  {
   "cell_type": "code",
   "execution_count": 2,
   "id": "b9005528",
   "metadata": {},
   "outputs": [],
   "source": [
    "!bedtools sort -i ENCFF519QMV.bed > ENCFF519QMV_sorted.bed"
   ]
  },
  {
   "cell_type": "code",
   "execution_count": 3,
   "id": "0c90b94a",
   "metadata": {},
   "outputs": [
    {
     "name": "stdout",
     "output_type": "stream",
     "text": [
      "Warning: Fewer hits (13) found on chrY than requested (50). It is likely that there are fewer total records on that chromosome than requested.\r\n",
      "Warning: Fewer hits (13) found on chrY than requested (50). It is likely that there are fewer total records on that chromosome than requested.\r\n",
      "Warning: Fewer hits (13) found on chrY than requested (50). It is likely that there are fewer total records on that chromosome than requested.\r\n",
      "Warning: Fewer hits (13) found on chrY than requested (50). It is likely that there are fewer total records on that chromosome than requested.\r\n",
      "Warning: Fewer hits (13) found on chrY than requested (50). It is likely that there are fewer total records on that chromosome than requested.\r\n",
      "Warning: Fewer hits (13) found on chrY than requested (50). It is likely that there are fewer total records on that chromosome than requested.\r\n",
      "Warning: Fewer hits (13) found on chrY than requested (50). It is likely that there are fewer total records on that chromosome than requested.\r\n",
      "Warning: Fewer hits (13) found on chrY than requested (50). It is likely that there are fewer total records on that chromosome than requested.\r\n",
      "Warning: Fewer hits (13) found on chrY than requested (50). It is likely that there are fewer total records on that chromosome than requested.\r\n",
      "Warning: Fewer hits (13) found on chrY than requested (50). It is likely that there are fewer total records on that chromosome than requested.\r\n",
      "Warning: Fewer hits (13) found on chrY than requested (50). It is likely that there are fewer total records on that chromosome than requested.\r\n",
      "Warning: Fewer hits (13) found on chrY than requested (50). It is likely that there are fewer total records on that chromosome than requested.\r\n",
      "Warning: Fewer hits (13) found on chrY than requested (50). It is likely that there are fewer total records on that chromosome than requested.\r\n"
     ]
    }
   ],
   "source": [
    "!bedtools closest -a ENCFF519QMV_sorted.bed -b ENCFF519QMV_sorted.bed -d -k 50 > ENCFF519QMV_closest50.bed"
   ]
  },
  {
   "cell_type": "code",
   "execution_count": 4,
   "id": "e3513d2b",
   "metadata": {},
   "outputs": [],
   "source": [
    "H3K27ac = pd.read_table(\"ENCFF519QMV_closest50.bed\", sep=\"\\t\", header=None, usecols=[0,1,2,7,20])"
   ]
  },
  {
   "cell_type": "code",
   "execution_count": 5,
   "id": "5b6f479d",
   "metadata": {},
   "outputs": [
    {
     "data": {
      "text/html": [
       "<div>\n",
       "<style scoped>\n",
       "    .dataframe tbody tr th:only-of-type {\n",
       "        vertical-align: middle;\n",
       "    }\n",
       "\n",
       "    .dataframe tbody tr th {\n",
       "        vertical-align: top;\n",
       "    }\n",
       "\n",
       "    .dataframe thead th {\n",
       "        text-align: right;\n",
       "    }\n",
       "</style>\n",
       "<table border=\"1\" class=\"dataframe\">\n",
       "  <thead>\n",
       "    <tr style=\"text-align: right;\">\n",
       "      <th></th>\n",
       "      <th>chrom</th>\n",
       "      <th>start</th>\n",
       "      <th>end</th>\n",
       "      <th>signal</th>\n",
       "      <th>distance</th>\n",
       "      <th>H3K27ac</th>\n",
       "    </tr>\n",
       "  </thead>\n",
       "  <tbody>\n",
       "    <tr>\n",
       "      <th>0</th>\n",
       "      <td>chr1</td>\n",
       "      <td>3343819</td>\n",
       "      <td>3343972</td>\n",
       "      <td>5.33433</td>\n",
       "      <td>0</td>\n",
       "      <td>chr1_3343819_3343972</td>\n",
       "    </tr>\n",
       "    <tr>\n",
       "      <th>1</th>\n",
       "      <td>chr1</td>\n",
       "      <td>3343819</td>\n",
       "      <td>3343972</td>\n",
       "      <td>5.33433</td>\n",
       "      <td>638794</td>\n",
       "      <td>chr1_3343819_3343972</td>\n",
       "    </tr>\n",
       "    <tr>\n",
       "      <th>2</th>\n",
       "      <td>chr1</td>\n",
       "      <td>3343819</td>\n",
       "      <td>3343972</td>\n",
       "      <td>5.33433</td>\n",
       "      <td>806646</td>\n",
       "      <td>chr1_3343819_3343972</td>\n",
       "    </tr>\n",
       "    <tr>\n",
       "      <th>3</th>\n",
       "      <td>chr1</td>\n",
       "      <td>3343819</td>\n",
       "      <td>3343972</td>\n",
       "      <td>5.33433</td>\n",
       "      <td>1310177</td>\n",
       "      <td>chr1_3343819_3343972</td>\n",
       "    </tr>\n",
       "    <tr>\n",
       "      <th>4</th>\n",
       "      <td>chr1</td>\n",
       "      <td>3343819</td>\n",
       "      <td>3343972</td>\n",
       "      <td>5.33433</td>\n",
       "      <td>1440362</td>\n",
       "      <td>chr1_3343819_3343972</td>\n",
       "    </tr>\n",
       "  </tbody>\n",
       "</table>\n",
       "</div>"
      ],
      "text/plain": [
       "  chrom    start      end   signal  distance               H3K27ac\n",
       "0  chr1  3343819  3343972  5.33433         0  chr1_3343819_3343972\n",
       "1  chr1  3343819  3343972  5.33433    638794  chr1_3343819_3343972\n",
       "2  chr1  3343819  3343972  5.33433    806646  chr1_3343819_3343972\n",
       "3  chr1  3343819  3343972  5.33433   1310177  chr1_3343819_3343972\n",
       "4  chr1  3343819  3343972  5.33433   1440362  chr1_3343819_3343972"
      ]
     },
     "execution_count": 5,
     "metadata": {},
     "output_type": "execute_result"
    }
   ],
   "source": [
    "H3K27ac.columns = [\"chrom\", \"start\", \"end\", \"signal\", \"distance\"]\n",
    "H3K27ac[\"H3K27ac\"] = H3K27ac[\"chrom\"] + \"_\" + H3K27ac[\"start\"].astype(str) + \"_\" + H3K27ac[\"end\"].astype(str)\n",
    "H3K27ac.head()"
   ]
  },
  {
   "cell_type": "code",
   "execution_count": 6,
   "id": "97a436f4",
   "metadata": {},
   "outputs": [],
   "source": [
    "H3K27ac_discard_5kb = H3K27ac.loc[(H3K27ac[\"distance\"] > 0) & (H3K27ac[\"distance\"] <= 2500),\"H3K27ac\"].unique()"
   ]
  },
  {
   "cell_type": "code",
   "execution_count": 7,
   "id": "8e02942c",
   "metadata": {},
   "outputs": [
    {
     "data": {
      "text/html": [
       "<div>\n",
       "<style scoped>\n",
       "    .dataframe tbody tr th:only-of-type {\n",
       "        vertical-align: middle;\n",
       "    }\n",
       "\n",
       "    .dataframe tbody tr th {\n",
       "        vertical-align: top;\n",
       "    }\n",
       "\n",
       "    .dataframe thead th {\n",
       "        text-align: right;\n",
       "    }\n",
       "</style>\n",
       "<table border=\"1\" class=\"dataframe\">\n",
       "  <thead>\n",
       "    <tr style=\"text-align: right;\">\n",
       "      <th></th>\n",
       "      <th>chrom</th>\n",
       "      <th>start</th>\n",
       "      <th>end</th>\n",
       "      <th>signal</th>\n",
       "      <th>distance</th>\n",
       "      <th>H3K27ac</th>\n",
       "    </tr>\n",
       "  </thead>\n",
       "  <tbody>\n",
       "    <tr>\n",
       "      <th>0</th>\n",
       "      <td>chr1</td>\n",
       "      <td>3343819</td>\n",
       "      <td>3343972</td>\n",
       "      <td>5.33433</td>\n",
       "      <td>0</td>\n",
       "      <td>chr1_3343819_3343972</td>\n",
       "    </tr>\n",
       "    <tr>\n",
       "      <th>50</th>\n",
       "      <td>chr1</td>\n",
       "      <td>3982765</td>\n",
       "      <td>3983074</td>\n",
       "      <td>5.08152</td>\n",
       "      <td>0</td>\n",
       "      <td>chr1_3982765_3983074</td>\n",
       "    </tr>\n",
       "    <tr>\n",
       "      <th>100</th>\n",
       "      <td>chr1</td>\n",
       "      <td>4150617</td>\n",
       "      <td>4150854</td>\n",
       "      <td>12.80341</td>\n",
       "      <td>0</td>\n",
       "      <td>chr1_4150617_4150854</td>\n",
       "    </tr>\n",
       "    <tr>\n",
       "      <th>150</th>\n",
       "      <td>chr1</td>\n",
       "      <td>4654148</td>\n",
       "      <td>4654379</td>\n",
       "      <td>4.36797</td>\n",
       "      <td>0</td>\n",
       "      <td>chr1_4654148_4654379</td>\n",
       "    </tr>\n",
       "    <tr>\n",
       "      <th>350</th>\n",
       "      <td>chr1</td>\n",
       "      <td>4788439</td>\n",
       "      <td>4788695</td>\n",
       "      <td>7.10066</td>\n",
       "      <td>0</td>\n",
       "      <td>chr1_4788439_4788695</td>\n",
       "    </tr>\n",
       "  </tbody>\n",
       "</table>\n",
       "</div>"
      ],
      "text/plain": [
       "    chrom    start      end    signal  distance               H3K27ac\n",
       "0    chr1  3343819  3343972   5.33433         0  chr1_3343819_3343972\n",
       "50   chr1  3982765  3983074   5.08152         0  chr1_3982765_3983074\n",
       "100  chr1  4150617  4150854  12.80341         0  chr1_4150617_4150854\n",
       "150  chr1  4654148  4654379   4.36797         0  chr1_4654148_4654379\n",
       "350  chr1  4788439  4788695   7.10066         0  chr1_4788439_4788695"
      ]
     },
     "execution_count": 7,
     "metadata": {},
     "output_type": "execute_result"
    }
   ],
   "source": [
    "H3K27ac_100kb = H3K27ac[~H3K27ac[\"H3K27ac\"].isin(H3K27ac_discard_5kb)]\n",
    "H3K27ac_100kb = H3K27ac_100kb.loc[H3K27ac_100kb[\"distance\"] < 100_000,:]\n",
    "H3K27ac_100kb.head()"
   ]
  },
  {
   "cell_type": "code",
   "execution_count": 8,
   "id": "31d9afbf",
   "metadata": {},
   "outputs": [
    {
     "data": {
      "text/html": [
       "<div>\n",
       "<style scoped>\n",
       "    .dataframe tbody tr th:only-of-type {\n",
       "        vertical-align: middle;\n",
       "    }\n",
       "\n",
       "    .dataframe tbody tr th {\n",
       "        vertical-align: top;\n",
       "    }\n",
       "\n",
       "    .dataframe thead th {\n",
       "        text-align: right;\n",
       "    }\n",
       "</style>\n",
       "<table border=\"1\" class=\"dataframe\">\n",
       "  <thead>\n",
       "    <tr style=\"text-align: right;\">\n",
       "      <th></th>\n",
       "      <th>H3K27ac</th>\n",
       "      <th>neighbours</th>\n",
       "    </tr>\n",
       "  </thead>\n",
       "  <tbody>\n",
       "    <tr>\n",
       "      <th>0</th>\n",
       "      <td>chr10_100066526_100066740</td>\n",
       "      <td>1</td>\n",
       "    </tr>\n",
       "    <tr>\n",
       "      <th>1</th>\n",
       "      <td>chr10_100164090_100164390</td>\n",
       "      <td>1</td>\n",
       "    </tr>\n",
       "    <tr>\n",
       "      <th>2</th>\n",
       "      <td>chr10_100487075_100487255</td>\n",
       "      <td>0</td>\n",
       "    </tr>\n",
       "    <tr>\n",
       "      <th>3</th>\n",
       "      <td>chr10_10183188_10183403</td>\n",
       "      <td>0</td>\n",
       "    </tr>\n",
       "    <tr>\n",
       "      <th>4</th>\n",
       "      <td>chr10_102512039_102512548</td>\n",
       "      <td>0</td>\n",
       "    </tr>\n",
       "  </tbody>\n",
       "</table>\n",
       "</div>"
      ],
      "text/plain": [
       "                     H3K27ac  neighbours\n",
       "0  chr10_100066526_100066740           1\n",
       "1  chr10_100164090_100164390           1\n",
       "2  chr10_100487075_100487255           0\n",
       "3    chr10_10183188_10183403           0\n",
       "4  chr10_102512039_102512548           0"
      ]
     },
     "execution_count": 8,
     "metadata": {},
     "output_type": "execute_result"
    }
   ],
   "source": [
    "count_100kb_neighbours = H3K27ac_100kb.groupby([\"H3K27ac\"]).size().reset_index()\n",
    "count_100kb_neighbours.columns = [\"H3K27ac\", \"neighbours\"]\n",
    "count_100kb_neighbours[\"neighbours\"] = count_100kb_neighbours[\"neighbours\"] - 1\n",
    "count_100kb_neighbours.head()"
   ]
  },
  {
   "cell_type": "code",
   "execution_count": 9,
   "id": "df70d2bb",
   "metadata": {},
   "outputs": [],
   "source": [
    "H3K27ac_merge = pd.merge(H3K27ac, count_100kb_neighbours, how=\"inner\")\n",
    "H3K27ac_merge = H3K27ac_merge[[\"chrom\", \"start\", \"end\", \"signal\", \"neighbours\"]].drop_duplicates()"
   ]
  },
  {
   "cell_type": "code",
   "execution_count": 10,
   "id": "8d33cdc9",
   "metadata": {},
   "outputs": [
    {
     "data": {
      "text/plain": [
       "<seaborn.axisgrid.FacetGrid at 0x7f99904f7c40>"
      ]
     },
     "execution_count": 10,
     "metadata": {},
     "output_type": "execute_result"
    },
    {
     "data": {
      "image/png": "[encoded data removed]",
      "text/plain": [
       "<Figure size 360x360 with 1 Axes>"
      ]
     },
     "metadata": {
      "needs_background": "light"
     },
     "output_type": "display_data"
    }
   ],
   "source": [
    "sns.displot(data=H3K27ac_merge, x=\"neighbours\")"
   ]
  },
  {
   "cell_type": "code",
   "execution_count": 11,
   "id": "7f54350b",
   "metadata": {},
   "outputs": [],
   "source": [
    "H3K27ac_merge.loc[H3K27ac_merge[\"neighbours\"] <= np.quantile(H3K27ac_merge[\"neighbours\"], 0.25), \"quartile\"] = 1\n",
    "H3K27ac_merge.loc[H3K27ac_merge[\"neighbours\"] > np.quantile(H3K27ac_merge[\"neighbours\"], 0.25), \"quartile\"] = 2\n",
    "H3K27ac_merge.loc[H3K27ac_merge[\"neighbours\"] > np.quantile(H3K27ac_merge[\"neighbours\"], 0.5), \"quartile\"] = 3\n",
    "H3K27ac_merge.loc[H3K27ac_merge[\"neighbours\"] > np.quantile(H3K27ac_merge[\"neighbours\"], 0.75), \"quartile\"] = 4"
   ]
  },
  {
   "cell_type": "code",
   "execution_count": 12,
   "id": "9a41c29a",
   "metadata": {},
   "outputs": [
    {
     "data": {
      "text/html": [
       "<div>\n",
       "<style scoped>\n",
       "    .dataframe tbody tr th:only-of-type {\n",
       "        vertical-align: middle;\n",
       "    }\n",
       "\n",
       "    .dataframe tbody tr th {\n",
       "        vertical-align: top;\n",
       "    }\n",
       "\n",
       "    .dataframe thead th {\n",
       "        text-align: right;\n",
       "    }\n",
       "</style>\n",
       "<table border=\"1\" class=\"dataframe\">\n",
       "  <thead>\n",
       "    <tr style=\"text-align: right;\">\n",
       "      <th></th>\n",
       "      <th>chrom</th>\n",
       "      <th>start</th>\n",
       "      <th>end</th>\n",
       "      <th>signal</th>\n",
       "      <th>neighbours</th>\n",
       "      <th>quartile</th>\n",
       "      <th>neighbour_bin</th>\n",
       "    </tr>\n",
       "  </thead>\n",
       "  <tbody>\n",
       "    <tr>\n",
       "      <th>0</th>\n",
       "      <td>chr1</td>\n",
       "      <td>3343819</td>\n",
       "      <td>3343972</td>\n",
       "      <td>5.33433</td>\n",
       "      <td>0</td>\n",
       "      <td>1.0</td>\n",
       "      <td>0</td>\n",
       "    </tr>\n",
       "    <tr>\n",
       "      <th>50</th>\n",
       "      <td>chr1</td>\n",
       "      <td>3982765</td>\n",
       "      <td>3983074</td>\n",
       "      <td>5.08152</td>\n",
       "      <td>0</td>\n",
       "      <td>1.0</td>\n",
       "      <td>0</td>\n",
       "    </tr>\n",
       "    <tr>\n",
       "      <th>100</th>\n",
       "      <td>chr1</td>\n",
       "      <td>4150617</td>\n",
       "      <td>4150854</td>\n",
       "      <td>12.80341</td>\n",
       "      <td>0</td>\n",
       "      <td>1.0</td>\n",
       "      <td>0</td>\n",
       "    </tr>\n",
       "    <tr>\n",
       "      <th>150</th>\n",
       "      <td>chr1</td>\n",
       "      <td>4654148</td>\n",
       "      <td>4654379</td>\n",
       "      <td>4.36797</td>\n",
       "      <td>0</td>\n",
       "      <td>1.0</td>\n",
       "      <td>0</td>\n",
       "    </tr>\n",
       "    <tr>\n",
       "      <th>200</th>\n",
       "      <td>chr1</td>\n",
       "      <td>4788439</td>\n",
       "      <td>4788695</td>\n",
       "      <td>7.10066</td>\n",
       "      <td>14</td>\n",
       "      <td>4.0</td>\n",
       "      <td>&gt;=10</td>\n",
       "    </tr>\n",
       "  </tbody>\n",
       "</table>\n",
       "</div>"
      ],
      "text/plain": [
       "    chrom    start      end    signal  neighbours  quartile neighbour_bin\n",
       "0    chr1  3343819  3343972   5.33433           0       1.0             0\n",
       "50   chr1  3982765  3983074   5.08152           0       1.0             0\n",
       "100  chr1  4150617  4150854  12.80341           0       1.0             0\n",
       "150  chr1  4654148  4654379   4.36797           0       1.0             0\n",
       "200  chr1  4788439  4788695   7.10066          14       4.0          >=10"
      ]
     },
     "execution_count": 12,
     "metadata": {},
     "output_type": "execute_result"
    }
   ],
   "source": [
    "H3K27ac_merge.loc[H3K27ac_merge[\"neighbours\"] == 0, \"neighbour_bin\"] = \"0\"\n",
    "H3K27ac_merge.loc[H3K27ac_merge[\"neighbours\"] >= 1, \"neighbour_bin\"] = \"1-4\"\n",
    "H3K27ac_merge.loc[H3K27ac_merge[\"neighbours\"] >= 5, \"neighbour_bin\"] = \"5-10\"\n",
    "H3K27ac_merge.loc[H3K27ac_merge[\"neighbours\"] >= 10, \"neighbour_bin\"] = \">=10\"\n",
    "H3K27ac_merge.head()"
   ]
  },
  {
   "cell_type": "code",
   "execution_count": 13,
   "id": "01127c86",
   "metadata": {},
   "outputs": [],
   "source": [
    "H3K27ac_merge[\"quartile\"] = H3K27ac_merge[\"quartile\"].astype(int)"
   ]
  },
  {
   "cell_type": "code",
   "execution_count": 14,
   "id": "a7468aed",
   "metadata": {},
   "outputs": [],
   "source": [
    "H3K27ac_merge.to_csv(\"ENCFF519QMV_100kb_neighbours_binned.bed\", sep=\"\\t\", index=False)"
   ]
  },
  {
   "cell_type": "code",
   "execution_count": 15,
   "id": "b4e90c1e",
   "metadata": {},
   "outputs": [
    {
     "data": {
      "text/plain": [
       "<seaborn.axisgrid.FacetGrid at 0x7f99795dbc70>"
      ]
     },
     "execution_count": 15,
     "metadata": {},
     "output_type": "execute_result"
    },
    {
     "data": {
      "image/png": "[encoded data removed]",
      "text/plain": [
       "<Figure size 439.375x360 with 1 Axes>"
      ]
     },
     "metadata": {
      "needs_background": "light"
     },
     "output_type": "display_data"
    }
   ],
   "source": [
    "sns.displot(data=H3K27ac_merge, x=\"signal\", hue=\"neighbour_bin\")"
   ]
  },
  {
   "cell_type": "code",
   "execution_count": null,
   "id": "22cbf0b3",
   "metadata": {},
   "outputs": [],
   "source": []
  },
  {
   "cell_type": "code",
   "execution_count": null,
   "id": "143fd8d0",
   "metadata": {},
   "outputs": [],
   "source": []
  },
  {
   "cell_type": "markdown",
   "id": "edb74759",
   "metadata": {},
   "source": [
    "Run script neighbours_nullRanges.R before the next step to select peaks which give similar distribution of H3K27ac signal"
   ]
  },
  {
   "cell_type": "code",
   "execution_count": null,
   "id": "d0db04d3",
   "metadata": {},
   "outputs": [],
   "source": []
  },
  {
   "cell_type": "code",
   "execution_count": null,
   "id": "0d9ddb17",
   "metadata": {},
   "outputs": [],
   "source": []
  },
  {
   "cell_type": "code",
   "execution_count": 16,
   "id": "a0e1d03d",
   "metadata": {},
   "outputs": [
    {
     "data": {
      "text/html": [
       "<div>\n",
       "<style scoped>\n",
       "    .dataframe tbody tr th:only-of-type {\n",
       "        vertical-align: middle;\n",
       "    }\n",
       "\n",
       "    .dataframe tbody tr th {\n",
       "        vertical-align: top;\n",
       "    }\n",
       "\n",
       "    .dataframe thead th {\n",
       "        text-align: right;\n",
       "    }\n",
       "</style>\n",
       "<table border=\"1\" class=\"dataframe\">\n",
       "  <thead>\n",
       "    <tr style=\"text-align: right;\">\n",
       "      <th></th>\n",
       "      <th>chrom</th>\n",
       "      <th>start</th>\n",
       "      <th>end</th>\n",
       "      <th>signal</th>\n",
       "      <th>neighbours</th>\n",
       "      <th>neighbour_bin</th>\n",
       "      <th>quartile</th>\n",
       "    </tr>\n",
       "  </thead>\n",
       "  <tbody>\n",
       "    <tr>\n",
       "      <th>0</th>\n",
       "      <td>chr1</td>\n",
       "      <td>3343819</td>\n",
       "      <td>3343972</td>\n",
       "      <td>5.33433</td>\n",
       "      <td>0</td>\n",
       "      <td>0</td>\n",
       "      <td>1</td>\n",
       "    </tr>\n",
       "    <tr>\n",
       "      <th>50</th>\n",
       "      <td>chr1</td>\n",
       "      <td>3982765</td>\n",
       "      <td>3983074</td>\n",
       "      <td>5.08152</td>\n",
       "      <td>0</td>\n",
       "      <td>0</td>\n",
       "      <td>1</td>\n",
       "    </tr>\n",
       "    <tr>\n",
       "      <th>100</th>\n",
       "      <td>chr1</td>\n",
       "      <td>4150617</td>\n",
       "      <td>4150854</td>\n",
       "      <td>12.80341</td>\n",
       "      <td>0</td>\n",
       "      <td>0</td>\n",
       "      <td>1</td>\n",
       "    </tr>\n",
       "    <tr>\n",
       "      <th>150</th>\n",
       "      <td>chr1</td>\n",
       "      <td>4654148</td>\n",
       "      <td>4654379</td>\n",
       "      <td>4.36797</td>\n",
       "      <td>0</td>\n",
       "      <td>0</td>\n",
       "      <td>1</td>\n",
       "    </tr>\n",
       "    <tr>\n",
       "      <th>4724</th>\n",
       "      <td>chr1</td>\n",
       "      <td>4788438</td>\n",
       "      <td>4788695</td>\n",
       "      <td>7.10066</td>\n",
       "      <td>14</td>\n",
       "      <td>&gt;=10</td>\n",
       "      <td>4</td>\n",
       "    </tr>\n",
       "  </tbody>\n",
       "</table>\n",
       "</div>"
      ],
      "text/plain": [
       "     chrom    start      end    signal  neighbours neighbour_bin  quartile\n",
       "0     chr1  3343819  3343972   5.33433           0             0         1\n",
       "50    chr1  3982765  3983074   5.08152           0             0         1\n",
       "100   chr1  4150617  4150854  12.80341           0             0         1\n",
       "150   chr1  4654148  4654379   4.36797           0             0         1\n",
       "4724  chr1  4788438  4788695   7.10066          14          >=10         4"
      ]
     },
     "execution_count": 16,
     "metadata": {},
     "output_type": "execute_result"
    }
   ],
   "source": [
    "H3K27ac_matched = pd.read_table(\"ENCFF519QMV_100kb_neighbours_binned_nullRanges_matched.bed\")\n",
    "H3K27ac_matched = pd.concat([H3K27ac_matched, H3K27ac_merge[H3K27ac_merge[\"neighbours\"] == 0]])\n",
    "H3K27ac_matched = H3K27ac_matched.sort_values([\"chrom\", \"start\"])\n",
    "H3K27ac_matched.head()"
   ]
  },
  {
   "cell_type": "code",
   "execution_count": 17,
   "id": "af9c81c7",
   "metadata": {},
   "outputs": [
    {
     "data": {
      "text/plain": [
       "<seaborn.axisgrid.FacetGrid at 0x7f99788fea00>"
      ]
     },
     "execution_count": 17,
     "metadata": {},
     "output_type": "execute_result"
    },
    {
     "data": {
      "image/png": "[encoded data removed]",
      "text/plain": [
       "<Figure size 439.375x360 with 1 Axes>"
      ]
     },
     "metadata": {
      "needs_background": "light"
     },
     "output_type": "display_data"
    }
   ],
   "source": [
    "sns.displot(data=H3K27ac_matched, x=\"signal\", hue=\"neighbour_bin\")"
   ]
  },
  {
   "cell_type": "code",
   "execution_count": 18,
   "id": "2a42a7d1",
   "metadata": {},
   "outputs": [
    {
     "data": {
      "text/plain": [
       "neighbour_bin\n",
       "0       1741\n",
       "1-4     1741\n",
       "5-10    1741\n",
       ">=10    1741\n",
       "dtype: int64"
      ]
     },
     "execution_count": 18,
     "metadata": {},
     "output_type": "execute_result"
    }
   ],
   "source": [
    "H3K27ac_matched.groupby(\"neighbour_bin\").size()"
   ]
  },
  {
   "cell_type": "code",
   "execution_count": 19,
   "id": "a3b34f1f",
   "metadata": {},
   "outputs": [],
   "source": [
    "H3K27ac_matched.to_csv(\"ENCFF519QMV_100kb_neighbours_binned_matched.bed\", sep=\"\\t\", index=False)"
   ]
  }
 ],
 "metadata": {
  "kernelspec": {
   "display_name": "Python 3 (ipykernel)",
   "language": "python",
   "name": "python3"
  },
  "language_info": {
   "codemirror_mode": {
    "name": "ipython",
    "version": 3
   },
   "file_extension": ".py",
   "mimetype": "text/x-python",
   "name": "python",
   "nbconvert_exporter": "python",
   "pygments_lexer": "ipython3",
   "version": "3.8.12"
  }
 },
 "nbformat": 4,
 "nbformat_minor": 5
}
