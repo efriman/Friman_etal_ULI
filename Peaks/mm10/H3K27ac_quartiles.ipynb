{
 "cells": [
  {
   "cell_type": "code",
   "execution_count": 1,
   "id": "0176463c",
   "metadata": {},
   "outputs": [],
   "source": [
    "!wget https://www.encodeproject.org/files/ENCFF519QMV/@@download/ENCFF519QMV.bed.gz -q -O ENCFF519QMV.bed.gz"
   ]
  },
  {
   "cell_type": "code",
   "execution_count": 2,
   "id": "ce61947a",
   "metadata": {},
   "outputs": [],
   "source": [
    "!gunzip ENCFF519QMV.bed.gz --force"
   ]
  },
  {
   "cell_type": "code",
   "execution_count": 3,
   "id": "19ca8f58",
   "metadata": {},
   "outputs": [],
   "source": [
    "import numpy as np\n",
    "import pandas as pd\n",
    "import matplotlib.pyplot as plt\n",
    "import coolpuppy\n",
    "import seaborn as sns"
   ]
  },
  {
   "cell_type": "code",
   "execution_count": 4,
   "id": "cfa6d891",
   "metadata": {},
   "outputs": [],
   "source": [
    "H3K27ac = pd.read_csv(\"ENCFF519QMV.bed\", sep=\"\\t\", header=None)\n",
    "H3K27ac.columns = [\"chrom\", \"start\", \"end\", \"name\",  \"score\", \"strand\", \"signalValue\", \"pValue\", \"qValue\", \"peak\"]"
   ]
  },
  {
   "cell_type": "code",
   "execution_count": 5,
   "id": "dd632faa",
   "metadata": {},
   "outputs": [],
   "source": [
    "H3K27ac.loc[H3K27ac[\"signalValue\"] <= np.quantile(H3K27ac[\"signalValue\"], 0.25), \"quartile\"] = 1\n",
    "H3K27ac.loc[H3K27ac[\"signalValue\"] > np.quantile(H3K27ac[\"signalValue\"], 0.25), \"quartile\"] = 2\n",
    "H3K27ac.loc[H3K27ac[\"signalValue\"] > np.quantile(H3K27ac[\"signalValue\"], 0.5), \"quartile\"] = 3\n",
    "H3K27ac.loc[H3K27ac[\"signalValue\"] > np.quantile(H3K27ac[\"signalValue\"], 0.75), \"quartile\"] = 4"
   ]
  },
  {
   "cell_type": "code",
   "execution_count": 6,
   "id": "f428bfd1",
   "metadata": {},
   "outputs": [],
   "source": [
    "for i in range(1,5):\n",
    "    H3K27ac.loc[H3K27ac[\"quartile\"] == i, \n",
    "                    [\"chrom\", \"start\", \"end\"]].to_csv(\"ENCFF519QMV_H3K27ac_quartile_\"+str(i)+\"_mm10.bed\", \n",
    "                                                      sep=\"\\t\", \n",
    "                                                      header=None, \n",
    "                                                      index=False)"
   ]
  },
  {
   "cell_type": "code",
   "execution_count": 7,
   "id": "6eb54e8d",
   "metadata": {},
   "outputs": [
    {
     "name": "stdout",
     "output_type": "stream",
     "text": [
      "7519\n",
      "7047\n",
      "5996\n",
      "4751\n"
     ]
    }
   ],
   "source": [
    "!for f in ENCFF519QMV_H3K27ac_quartile_?_mm10.bed; do \\\n",
    "bedtools intersect -v -a $f -b CAP-CGI_mm10.bed | \\\n",
    "bedtools intersect -v -a stdin -b GSE96107_ES_Ring1B.IDR0.05.filt_merged.bed | wc -l; done"
   ]
  },
  {
   "cell_type": "code",
   "execution_count": 8,
   "id": "3cbf8a4e",
   "metadata": {},
   "outputs": [],
   "source": [
    "!for f in ENCFF519QMV_H3K27ac_quartile_?_mm10.bed; do \\\n",
    "bedtools intersect -v -a $f -b CAP-CGI_mm10.bed | \\\n",
    "bedtools intersect -v -a stdin -b GSE96107_ES_Ring1B.IDR0.05.filt_merged.bed | \\\n",
    "shuf -n 4751 > \"${f/.bed/_noCGI_noRING1B_shuf4751.bed}\"; done"
   ]
  },
  {
   "cell_type": "code",
   "execution_count": 10,
   "id": "0d46bff4",
   "metadata": {},
   "outputs": [],
   "source": [
    "!for f in ENCFF519QMV_H3K27ac_quartile_?_mm10.bed; do \\\n",
    "bedtools intersect -v -a $f -b CAP-CGI_mm10.bed | \\\n",
    "bedtools intersect -v -a stdin -b GSE96107_ES_Ring1B.IDR0.05.filt_merged.bed \\\n",
    "> \"${f/.bed/_noCGI_noRING1B.bed}\"; done"
   ]
  },
  {
   "cell_type": "code",
   "execution_count": 13,
   "id": "133e1c58",
   "metadata": {},
   "outputs": [],
   "source": [
    "!awk -v OFS=\"\\t\" '{print $0,\"\\t.\\t.\\t-\"}' ENCFF519QMV_H3K27ac_quartile_4_mm10.bed > ENCFF519QMV_H3K27ac_quartile_4_mm10_minus.bed"
   ]
  },
  {
   "cell_type": "code",
   "execution_count": 14,
   "id": "131a3194",
   "metadata": {},
   "outputs": [],
   "source": [
    "!bedtools intersect -v -a CAP-CGI_mm10.bed -b GSE96107_ES_Ring1B.IDR0.05.filt_merged.bed | \\\n",
    "bedtools sort -i | awk -v OFS=\"\\t\" '{print $0,\"\\t.\\t.\\t+\"}' \\\n",
    "> CAP-CGI_noRING1B_plus_mm10.bed"
   ]
  },
  {
   "cell_type": "code",
   "execution_count": 20,
   "id": "25e3be8f",
   "metadata": {},
   "outputs": [],
   "source": [
    "!cat ENCFF519QMV_H3K27ac_quartile_4_mm10_minus.bed CAP-CGI_noRING1B_plus_mm10.bed | \\\n",
    "awk -v OFS=\"\\t\" '{print $1,$2,$3\"\\t.\\t.\\t\"$6}' | \\\n",
    "bedtools sort -i > ENCFF519QMV_H3K27ac_quartile_4_minus_CAP-CGI_noRING1B_plus_mm10.bed"
   ]
  },
  {
   "cell_type": "code",
   "execution_count": 18,
   "id": "c9e57fda",
   "metadata": {},
   "outputs": [],
   "source": [
    "!cat ENCFF519QMV_H3K27ac_quartile_4_mm10_minus.bed ESC_4SU_refGene_exon1_quartile_4_TSS_mm10_noRING1B_plus.bed \\\n",
    "| awk -v OFS=\"\\t\" '{print $1,$2,$3\"\\t.\\t.\\t\"$6}' | bedtools sort -i > \\\n",
    "ENCFF519QMV_H3K27ac_quartile_4_minus_ESC_4SU_refGene_exon1_quartile_4_TSS_mm10_noRING1B_plus.bed"
   ]
  },
  {
   "cell_type": "code",
   "execution_count": 21,
   "id": "a755b9be",
   "metadata": {},
   "outputs": [],
   "source": [
    "!wget https://www.encodeproject.org/files/ENCFF583WVZ/@@download/ENCFF583WVZ.bigWig -O /exports/igmm/eddie/wendy-lab/elias/Friman2022/heatmaps/ENCFF583WVZ_ESC_H3K27ac.bigWig -q"
   ]
  },
  {
   "cell_type": "code",
   "execution_count": 25,
   "id": "af7a2e70",
   "metadata": {},
   "outputs": [],
   "source": [
    "!wget https://ftp.ncbi.nlm.nih.gov/geo/series/GSE96nnn/GSE96107/suppl/GSE96107_NPC_H3K27ac.bw -O /exports/igmm/eddie/wendy-lab/elias/Friman2022/heatmaps/GSE96107_NPC_H3K27ac.bw -q"
   ]
  },
  {
   "cell_type": "code",
   "execution_count": 27,
   "id": "73e8c6b7",
   "metadata": {},
   "outputs": [],
   "source": [
    "!wget ftp://ftp.ncbi.nlm.nih.gov/geo/samples/GSM5007nnn/GSM5007850/suppl/GSM5007850_asynda.bw -O /exports/igmm/eddie/wendy-lab/elias/Friman2022/heatmaps/GSM5007850_asynda.bw -q\n",
    "!wget https://ftp.ncbi.nlm.nih.gov/geo/samples/GSM5007nnn/GSM5007852/suppl/GSM5007852_asynpa.bw -O /exports/igmm/eddie/wendy-lab/elias/Friman2022/heatmaps/GSM5007852_asynpa.bw -q"
   ]
  }
 ],
 "metadata": {
  "kernelspec": {
   "display_name": "Python 3 (ipykernel)",
   "language": "python",
   "name": "python3"
  },
  "language_info": {
   "codemirror_mode": {
    "name": "ipython",
    "version": 3
   },
   "file_extension": ".py",
   "mimetype": "text/x-python",
   "name": "python",
   "nbconvert_exporter": "python",
   "pygments_lexer": "ipython3",
   "version": "3.8.12"
  }
 },
 "nbformat": 4,
 "nbformat_minor": 5
}
