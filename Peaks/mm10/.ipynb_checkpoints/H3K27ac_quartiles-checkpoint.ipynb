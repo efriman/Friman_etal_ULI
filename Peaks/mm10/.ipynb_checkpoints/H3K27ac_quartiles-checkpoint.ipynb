{
 "cells": [
  {
   "cell_type": "markdown",
   "id": "9e5bfbba",
   "metadata": {},
   "source": [
    "wget https://www.encodeproject.org/files/ENCFF519QMV/@@download/ENCFF519QMV.bed.gz -q -O ENCFF519QMV.bed.gz"
   ]
  },
  {
   "cell_type": "markdown",
   "id": "2e4fb794",
   "metadata": {},
   "source": [
    "gunzip ENCFF519QMV.bed.gz --force"
   ]
  },
  {
   "cell_type": "markdown",
   "id": "9f711db0",
   "metadata": {},
   "source": [
    "bedtools intersect -v -a ENCFF519QMV.bed -b CAP-CGI_mm10.bed | \\\n",
    "bedtools intersect -v -a stdin -b mm10.refGene_exon1_TSS.bed | \\\n",
    "bedtools intersect -v -a stdin -b GSE96107_ES_Ring1B.IDR0.05.filt_merged.bed | \\\n",
    "bedtools sort -i > ENCFF519QMV_ESC_no_CGI_TSS_RING1B_mm10.bed"
   ]
  },
  {
   "cell_type": "code",
   "execution_count": 7,
   "id": "19ca8f58",
   "metadata": {},
   "outputs": [],
   "source": [
    "import numpy as np\n",
    "import pandas as pd"
   ]
  },
  {
   "cell_type": "code",
   "execution_count": 8,
   "id": "cfa6d891",
   "metadata": {},
   "outputs": [],
   "source": [
    "H3K27ac = pd.read_csv(\"ENCFF519QMV_ESC_no_CGI_TSS_RING1B_mm10.bed\", sep=\"\\t\", header=None)\n",
    "H3K27ac.columns = [\"chrom\", \"start\", \"end\", \"name\",  \"score\", \"strand\", \"signalValue\", \"pValue\", \"qValue\", \"peak\"]"
   ]
  },
  {
   "cell_type": "code",
   "execution_count": 9,
   "id": "dd632faa",
   "metadata": {},
   "outputs": [],
   "source": [
    "H3K27ac.loc[H3K27ac[\"signalValue\"] <= np.quantile(H3K27ac[\"signalValue\"], 0.25), \"quartile\"] = 1\n",
    "H3K27ac.loc[H3K27ac[\"signalValue\"] > np.quantile(H3K27ac[\"signalValue\"], 0.25), \"quartile\"] = 2\n",
    "H3K27ac.loc[H3K27ac[\"signalValue\"] > np.quantile(H3K27ac[\"signalValue\"], 0.5), \"quartile\"] = 3\n",
    "H3K27ac.loc[H3K27ac[\"signalValue\"] > np.quantile(H3K27ac[\"signalValue\"], 0.75), \"quartile\"] = 4"
   ]
  },
  {
   "cell_type": "code",
   "execution_count": 10,
   "id": "f428bfd1",
   "metadata": {},
   "outputs": [],
   "source": [
    "for i in range(1,5):\n",
    "    H3K27ac.loc[H3K27ac[\"quartile\"] == i, \n",
    "                    [\"chrom\", \"start\", \"end\"]].to_csv(\"ENCFF519QMV_H3K27ac_no_CGI_TSS_RING1B_quartile_\"+str(i)+\"_mm10.bed\", \n",
    "                                                      sep=\"\\t\", \n",
    "                                                      header=None, \n",
    "                                                      index=False)"
   ]
  },
  {
   "cell_type": "markdown",
   "id": "02cb72af",
   "metadata": {},
   "source": [
    "awk -v OFS=\"\\t\" '{print $0,\"\\t.\\t.\\t-\"}' ENCFF519QMV_H3K27ac_no_CGI_TSS_RING1B_quartile_4_mm10.bed > ENCFF519QMV_H3K27ac_no_CGI_TSS_RING1B_quartile_4_minus_mm10.bed"
   ]
  },
  {
   "cell_type": "markdown",
   "id": "0b5979b0",
   "metadata": {},
   "source": [
    "bedtools intersect -v -a CAP-CGI_mm10.bed -b GSE96107_ES_Ring1B.IDR0.05.filt_merged.bed | \\\n",
    "bedtools sort -i | awk -v OFS=\"\\t\" '{print $0,\"\\t.\\t.\\t+\"}' \\\n",
    "> CAP-CGI_noRING1B_plus_mm10.bed"
   ]
  },
  {
   "cell_type": "markdown",
   "id": "81ffa15c",
   "metadata": {},
   "source": [
    "cat ENCFF519QMV_H3K27ac_no_CGI_TSS_RING1B_quartile_4_minus_mm10.bed CAP-CGI_noRING1B_plus_mm10.bed | \\\n",
    "awk -v OFS=\"\\t\" '{print $1,$2,$3\"\\t.\\t.\\t\"$6}' | \\\n",
    "bedtools sort -i > ENCFF519QMV_H3K27ac_no_CGI_TSS_RING1B_quartile_4_minus_CAP-CGI_noRING1B_plus_mm10.bed"
   ]
  },
  {
   "cell_type": "markdown",
   "id": "6990161b",
   "metadata": {},
   "source": [
    "awk -v OFS=\"\\t\" '{print $1,$2,$3\"\\t.\\t.\\t+\"}' CAP-CGI_CpG_density_quartile_4_mm10_merged5kb_noRING1B.bed \\\n",
    "> CAP-CGI_CpG_density_quartile_4_mm10_merged5kb_noRING1B_plus.bed"
   ]
  },
  {
   "cell_type": "markdown",
   "id": "5316728a",
   "metadata": {},
   "source": [
    "cat ENCFF519QMV_H3K27ac_no_CGI_TSS_RING1B_quartile_4_minus_mm10.bed CAP-CGI_CpG_density_quartile_4_mm10_merged5kb_noRING1B_plus.bed | \\\n",
    "awk -v OFS=\"\\t\" '{print $1,$2,$3\"\\t.\\t.\\t\"$6}' | bedtools sort -i \\\n",
    "> ENCFF519QMV_H3K27ac_no_CGI_TSS_RING1B_quartile_4_minus_CAP-CGI_CpG_density_quartile_4_merged5kb_noRING1B_plus_mm10.bed"
   ]
  },
  {
   "cell_type": "markdown",
   "id": "ac4b0440",
   "metadata": {},
   "source": [
    "wget https://ftp.ncbi.nlm.nih.gov/geo/series/GSE96nnn/GSE96107/suppl/GSE96107_NPC_H3K27ac.IDR0.05.filt.narrowPeak.gz -q\n",
    "gunzip GSE96107_NPC_H3K27ac.IDR0.05.filt.narrowPeak.gz -f"
   ]
  },
  {
   "cell_type": "markdown",
   "id": "3e56997e",
   "metadata": {},
   "source": [
    "cat ENCFF519QMV_ESC_no_CGI_TSS_RING1B_mm10.bed GSE96107_NPC_H3K27ac.IDR0.05.filt.narrowPeak | \\\n",
    "bedtools sort -i | bedtools merge -d 5000 \\\n",
    "> H3K27ac_ESC_NPC_merged5kb_mm10.bed"
   ]
  }
 ],
 "metadata": {
  "kernelspec": {
   "display_name": "Python 3 (ipykernel)",
   "language": "python",
   "name": "python3"
  },
  "language_info": {
   "codemirror_mode": {
    "name": "ipython",
    "version": 3
   },
   "file_extension": ".py",
   "mimetype": "text/x-python",
   "name": "python",
   "nbconvert_exporter": "python",
   "pygments_lexer": "ipython3",
   "version": "3.8.12"
  }
 },
 "nbformat": 4,
 "nbformat_minor": 5
}
