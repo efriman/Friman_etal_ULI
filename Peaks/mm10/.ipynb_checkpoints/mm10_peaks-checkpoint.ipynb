{
 "cells": [
  {
   "cell_type": "markdown",
   "id": "d9f807c4",
   "metadata": {},
   "source": [
    "wget https://ftp.ncbi.nlm.nih.gov/geo/series/GSE96nnn/GSE96107/suppl/GSE96107_ES_Ring1B.IDR0.05.filt.narrowPeak.gz -q"
   ]
  },
  {
   "cell_type": "markdown",
   "id": "4882a383",
   "metadata": {},
   "source": [
    "gunzip GSE96107_ES_Ring1B.IDR0.05.filt.narrowPeak.gz"
   ]
  },
  {
   "cell_type": "markdown",
   "id": "f98f88e1",
   "metadata": {},
   "source": [
    "bedtools sort -i GSE96107_ES_Ring1B.IDR0.05.filt.narrowPeak | bedtools merge \\\n",
    "> GSE96107_ES_Ring1B.IDR0.05.filt_merged.bed"
   ]
  },
  {
   "cell_type": "markdown",
   "id": "d962df5f",
   "metadata": {},
   "source": [
    "for f in CAP-CGI_CpG_density_quartile_?_mm10_merged5kb.bed; do bedtools intersect \\\n",
    "-a $f -b GSE96107_ES_Ring1B.IDR0.05.filt_merged.bed -wa > \\\n",
    "\"${f/.bed/_RING1B_overlap.bed}\"; done"
   ]
  },
  {
   "cell_type": "markdown",
   "id": "f524e795",
   "metadata": {},
   "source": [
    "for f in CAP-CGI_CpG_density_quartile_?_mm10_merged5kb.bed; do bedtools intersect -v \\\n",
    "-a $f -b GSE96107_ES_Ring1B.IDR0.05.filt_merged.bed > \\\n",
    "\"${f/.bed/_noRING1B.bed}\"; done"
   ]
  },
  {
   "cell_type": "markdown",
   "id": "a23e8f89",
   "metadata": {},
   "source": [
    "wget https://hgdownload.soe.ucsc.edu/goldenPath/mm10/bigZips/genes/mm10.refGene.gtf.gz -q\n",
    "gunzip mm10.refGene.gtf.gz"
   ]
  },
  {
   "cell_type": "markdown",
   "id": "509f5123",
   "metadata": {},
   "source": [
    "awk '{if($1!~\"random\") {print $1,$4,$5,$7,$10,$14,$3}}' mm10.refGene.gtf | \\\n",
    "awk '{gsub(\";\",\"\"); print}' | awk '{gsub(/\"/, \"\"); print}' | \\\n",
    "awk '{if($7==\"exon\") {print $1\"\\t\"$2\"\\t\"$3\"\\t\"$5\"\\t\"$6\"\\t\"$4}}' > refGene_exons_mm10.bed"
   ]
  },
  {
   "cell_type": "code",
   "execution_count": null,
   "id": "da0b68dd",
   "metadata": {},
   "outputs": [],
   "source": [
    "import pandas as pd\n",
    "exons = pd.read_csv(\"refGene_exons_mm10.bed\", sep=\"\\t\", header=None)\n",
    "exons.columns = [\"chrom\", \"start\", \"end\", \"gene\", \"exon\", \"strand\"]\n",
    "exons[\"max_exon\"] = exons.groupby([\"gene\", \"strand\"])[\"exon\"].transform('max')"
   ]
  },
  {
   "cell_type": "code",
   "execution_count": null,
   "id": "de930c82",
   "metadata": {},
   "outputs": [],
   "source": [
    "first_exon = exons.loc[((exons[\"strand\"] == \"+\") & (exons[\"exon\"] == 1)) |\n",
    "                       ((exons[\"strand\"] == \"-\") & (exons[\"exon\"] == exons[\"max_exon\"])),\n",
    "                       [\"chrom\", \"start\", \"end\", \"gene\", \"exon\", \"strand\"]].drop_duplicates()\n",
    "first_exon = first_exon.sort_values([\"chrom\", \"start\", \"end\"]).drop_duplicates(subset=\"gene\")"
   ]
  },
  {
   "cell_type": "code",
   "execution_count": null,
   "id": "443e6814",
   "metadata": {},
   "outputs": [],
   "source": [
    "first_exon.to_csv(\"mm10.refGene_exon1.bed\", sep=\"\\t\", header=None, index=False)"
   ]
  },
  {
   "cell_type": "markdown",
   "id": "fc18f1d1",
   "metadata": {},
   "source": [
    "for f in ESC_4SU_refGene_exon1_quartile_?_TSS_mm10.bed; do bedtools intersect -v \\\n",
    "-a $f -b GSE96107_ES_Ring1B.IDR0.05.filt_merged.bed > \\\n",
    "\"${f/.bed/_noRING1B.bed}\"; done"
   ]
  },
  {
   "cell_type": "markdown",
   "id": "f228e101",
   "metadata": {},
   "source": [
    "for f in ESC_4SU_refGene_exon1_quartile_?_TSS_mm10_noRING1B.bed; \\\n",
    "do bedtools intersect -v -a $f -b CAP-CGI_mm10.bed -wa | wc -l; done"
   ]
  },
  {
   "cell_type": "markdown",
   "id": "efbda9e3",
   "metadata": {},
   "source": [
    "for f in ESC_4SU_refGene_exon1_quartile_?_TSS_mm10_noRING1B.bed; \\\n",
    "do bedtools intersect -v -a $f -b CAP-CGI_mm10.bed -wa | \\\n",
    "shuf -n 732 > \"${f/.bed/_noCGI_shuf732.bed}\"; done"
   ]
  },
  {
   "cell_type": "markdown",
   "id": "e1a6b9b6",
   "metadata": {},
   "source": [
    "for f in ESC_4SU_refGene_exon1_quartile_?_TSS_mm10_noRING1B.bed; \\\n",
    "do bedtools intersect -a $f -b CAP-CGI_mm10.bed -wa | \\\n",
    "shuf -n 732 > \"${f/.bed/_CGI_shuf732.bed}\"; done"
   ]
  },
  {
   "cell_type": "markdown",
   "id": "b1321aff",
   "metadata": {},
   "source": [
    "awk -v OFS=\"\\t\" '{print $1,$2,$3,$4,$5,\"-\"}' \\\n",
    "ESC_4SU_refGene_exon1_quartile_1_TSS_mm10_noRING1B.bed > \\\n",
    "ESC_4SU_refGene_exon1_quartile_1_TSS_mm10_noRING1B_minus.bed"
   ]
  },
  {
   "cell_type": "markdown",
   "id": "fe114321",
   "metadata": {},
   "source": [
    "awk -v OFS=\"\\t\" '{print $1,$2,$3,$4,$5,\"-\"}' \\\n",
    "ESC_4SU_refGene_exon1_quartile_2_TSS_mm10_noRING1B.bed > \\\n",
    "ESC_4SU_refGene_exon1_quartile_2_TSS_mm10_noRING1B_minus.bed"
   ]
  },
  {
   "cell_type": "markdown",
   "id": "222cb23c",
   "metadata": {},
   "source": [
    "awk -v OFS=\"\\t\" '{print $1,$2,$3,$4,$5,\"-\"}' \\\n",
    "ESC_4SU_refGene_exon1_quartile_3_TSS_mm10_noRING1B.bed > \\\n",
    "ESC_4SU_refGene_exon1_quartile_3_TSS_mm10_noRING1B_minus.bed"
   ]
  },
  {
   "cell_type": "markdown",
   "id": "a5e7291d",
   "metadata": {},
   "source": [
    "awk -v OFS=\"\\t\" '{print $1,$2,$3,$4,$5,\"+\"}' \\\n",
    "ESC_4SU_refGene_exon1_quartile_4_TSS_mm10_noRING1B.bed > \\\n",
    "ESC_4SU_refGene_exon1_quartile_4_TSS_mm10_noRING1B_plus.bed"
   ]
  },
  {
   "cell_type": "markdown",
   "id": "5a9f0465",
   "metadata": {},
   "source": [
    "for f in ESC_4SU_refGene_exon1_quartile_?_TSS_mm10_noRING1B_minus.bed; \\\n",
    "do cat $f ESC_4SU_refGene_exon1_quartile_4_TSS_mm10_noRING1B_plus.bed \\\n",
    "| bedtools sort -i > \"${f/.bed/_quartile_4_plus.bed}\";done"
   ]
  },
  {
   "cell_type": "markdown",
   "id": "cc581ed1",
   "metadata": {},
   "source": [
    "grep GSE102517.KLF4.mESC \\\n",
    "remap2022_all_macs2_mm10_v1_0.bed \\\n",
    "| bedtools sort -i | bedtools merge > GSE102517_KLF4_mESC_remap.bed"
   ]
  },
  {
   "cell_type": "markdown",
   "id": "c93eb10c",
   "metadata": {},
   "source": [
    "grep GSE24029.RAD21.mESC \\\n",
    "remap2022_all_macs2_mm10_v1_0.bed \\\n",
    "| bedtools sort -i | bedtools merge > GSE24029_RAD21_mESC_remap.bed"
   ]
  },
  {
   "cell_type": "markdown",
   "id": "bdd77be9",
   "metadata": {},
   "source": [
    "grep GSE41314.RNF2.mESC \\\n",
    "remap2022_all_macs2_mm10_v1_0.bed \\\n",
    "| bedtools sort -i | bedtools merge > GSE41314_RNF2_mESC_remap.bed"
   ]
  },
  {
   "cell_type": "markdown",
   "id": "4f267d7b",
   "metadata": {},
   "source": [
    "bedtools sort -i 82185_sort_peaks.narrowPeak.bed \\\n",
    "| bedtools merge > GSE93536_CXXC1_mESCS_cistromeDB.bed"
   ]
  },
  {
   "cell_type": "markdown",
   "id": "18398921",
   "metadata": {},
   "source": [
    "bedtools intersect -v -a GSE102517_KLF4_mESC_remap.bed -b GSE96107_ES_Ring1B.IDR0.05.filt_merged.bed \\\n",
    "> GSE102517_KLF4_mESC_remap_noRING1B.bed"
   ]
  },
  {
   "cell_type": "markdown",
   "id": "6323f743",
   "metadata": {},
   "source": [
    "bedtools intersect -v -a GSE93536_CXXC1_mESCS_cistromeDB.bed -b GSE96107_ES_Ring1B.IDR0.05.filt_merged.bed \\\n",
    "> GSE93536_CXXC1_mESCS_cistromeDB_noRING1B.bed"
   ]
  }
 ],
 "metadata": {
  "kernelspec": {
   "display_name": "Python 3 (ipykernel)",
   "language": "python",
   "name": "python3"
  },
  "language_info": {
   "codemirror_mode": {
    "name": "ipython",
    "version": 3
   },
   "file_extension": ".py",
   "mimetype": "text/x-python",
   "name": "python",
   "nbconvert_exporter": "python",
   "pygments_lexer": "ipython3",
   "version": "3.8.12"
  }
 },
 "nbformat": 4,
 "nbformat_minor": 5
}
