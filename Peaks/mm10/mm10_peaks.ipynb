{
 "cells": [
  {
   "cell_type": "code",
   "execution_count": 1,
   "id": "d042c3bc",
   "metadata": {},
   "outputs": [],
   "source": [
    "!wget https://ftp.ncbi.nlm.nih.gov/geo/series/GSE96nnn/GSE96107/suppl/GSE96107_ES_Ring1B.IDR0.05.filt.narrowPeak.gz -q"
   ]
  },
  {
   "cell_type": "code",
   "execution_count": 2,
   "id": "f45863a8",
   "metadata": {},
   "outputs": [],
   "source": [
    "!gunzip GSE96107_ES_Ring1B.IDR0.05.filt.narrowPeak.gz"
   ]
  },
  {
   "cell_type": "code",
   "execution_count": 5,
   "id": "c8b71fa7",
   "metadata": {},
   "outputs": [],
   "source": [
    "!bedtools sort -i GSE96107_ES_Ring1B.IDR0.05.filt.narrowPeak | bedtools merge \\\n",
    "> GSE96107_ES_Ring1B.IDR0.05.filt_merged.bed"
   ]
  },
  {
   "cell_type": "code",
   "execution_count": 19,
   "id": "8b9906d0",
   "metadata": {},
   "outputs": [],
   "source": [
    "!for f in CAP-CGI_CpG_density_quartile_?_mm10_merged5kb.bed; do bedtools intersect \\\n",
    "-a $f -b GSE96107_ES_Ring1B.IDR0.05.filt_merged.bed -wa > \\\n",
    "\"${f/.bed/_RING1B_overlap.bed}\"; done"
   ]
  },
  {
   "cell_type": "code",
   "execution_count": 20,
   "id": "b191c6d7",
   "metadata": {},
   "outputs": [],
   "source": [
    "!for f in CAP-CGI_CpG_density_quartile_?_mm10_merged5kb.bed; do bedtools intersect -v \\\n",
    "-a $f -b GSE96107_ES_Ring1B.IDR0.05.filt_merged.bed > \\\n",
    "\"${f/.bed/_noRING1B.bed}\"; done"
   ]
  },
  {
   "cell_type": "code",
   "execution_count": 9,
   "id": "d65a3163",
   "metadata": {},
   "outputs": [],
   "source": [
    "!wget https://hgdownload.soe.ucsc.edu/goldenPath/mm10/bigZips/genes/mm10.refGene.gtf.gz -q\n",
    "!gunzip mm10.refGene.gtf.gz"
   ]
  },
  {
   "cell_type": "code",
   "execution_count": 35,
   "id": "021cd5ed",
   "metadata": {},
   "outputs": [],
   "source": [
    "!awk '{if($1!~\"random\") {print $1,$4,$5,$7,$10,$14,$3}}' mm10.refGene.gtf | \\\n",
    "awk '{gsub(\";\",\"\"); print}' | awk '{gsub(/\"/, \"\"); print}' | \\\n",
    "awk '{if($7==\"exon\") {print $1\"\\t\"$2\"\\t\"$3\"\\t\"$5\"\\t\"$6\"\\t\"$4}}' > refGene_exons_mm10.bed"
   ]
  },
  {
   "cell_type": "code",
   "execution_count": 40,
   "id": "32a61581",
   "metadata": {},
   "outputs": [],
   "source": [
    "import pandas as pd\n",
    "exons = pd.read_csv(\"refGene_exons_mm10.bed\", sep=\"\\t\", header=None)\n",
    "exons.columns = [\"chrom\", \"start\", \"end\", \"gene\", \"exon\", \"strand\"]\n",
    "exons[\"max_exon\"] = exons.groupby([\"gene\", \"strand\"])[\"exon\"].transform('max')"
   ]
  },
  {
   "cell_type": "code",
   "execution_count": 61,
   "id": "857b8080",
   "metadata": {},
   "outputs": [],
   "source": [
    "first_exon = exons.loc[((exons[\"strand\"] == \"+\") & (exons[\"exon\"] == 1)) |\n",
    "                       ((exons[\"strand\"] == \"-\") & (exons[\"exon\"] == exons[\"max_exon\"])),\n",
    "                       [\"chrom\", \"start\", \"end\", \"gene\", \"exon\", \"strand\"]].drop_duplicates()\n",
    "first_exon = first_exon.sort_values([\"chrom\", \"start\", \"end\"]).drop_duplicates(subset=\"gene\")"
   ]
  },
  {
   "cell_type": "code",
   "execution_count": 69,
   "id": "66ad6a67",
   "metadata": {},
   "outputs": [],
   "source": [
    "first_exon.to_csv(\"mm10.refGene_exon1.bed\", sep=\"\\t\", header=None, index=False)"
   ]
  },
  {
   "cell_type": "code",
   "execution_count": 70,
   "id": "253fe799",
   "metadata": {},
   "outputs": [],
   "source": [
    "!for f in ESC_4SU_refGene_exon1_quartile_?_TSS_mm10.bed; do bedtools intersect -v \\\n",
    "-a $f -b GSE96107_ES_Ring1B.IDR0.05.filt_merged.bed > \\\n",
    "\"${f/.bed/_noRING1B.bed}\"; done"
   ]
  },
  {
   "cell_type": "code",
   "execution_count": 76,
   "id": "c8d48ea6",
   "metadata": {},
   "outputs": [
    {
     "name": "stdout",
     "output_type": "stream",
     "text": [
      "4640\n",
      "3884\n",
      "1959\n",
      "732\n"
     ]
    }
   ],
   "source": [
    "!for f in ESC_4SU_refGene_exon1_quartile_?_TSS_mm10_noRING1B.bed; \\\n",
    "do bedtools intersect -v -a $f -b CAP-CGI_mm10.bed -wa | wc -l; done"
   ]
  },
  {
   "cell_type": "code",
   "execution_count": 78,
   "id": "4918b26c",
   "metadata": {},
   "outputs": [],
   "source": [
    "!for f in ESC_4SU_refGene_exon1_quartile_?_TSS_mm10_noRING1B.bed; \\\n",
    "do bedtools intersect -v -a $f -b CAP-CGI_mm10.bed -wa | \\\n",
    "shuf -n 732 > \"${f/.bed/_noCGI_shuf732.bed}\"; done"
   ]
  },
  {
   "cell_type": "code",
   "execution_count": 79,
   "id": "43f4dd53",
   "metadata": {},
   "outputs": [],
   "source": [
    "!for f in ESC_4SU_refGene_exon1_quartile_?_TSS_mm10_noRING1B.bed; \\\n",
    "do bedtools intersect -a $f -b CAP-CGI_mm10.bed -wa | \\\n",
    "shuf -n 732 > \"${f/.bed/_CGI_shuf732.bed}\"; done"
   ]
  },
  {
   "cell_type": "code",
   "execution_count": 80,
   "id": "04495027",
   "metadata": {},
   "outputs": [],
   "source": [
    "!awk -v OFS=\"\\t\" '{print $1,$2,$3,$4,$5,\"-\"}' \\\n",
    "ESC_4SU_refGene_exon1_quartile_1_TSS_mm10_noRING1B.bed > \\\n",
    "ESC_4SU_refGene_exon1_quartile_1_TSS_mm10_noRING1B_minus.bed\n",
    "!awk -v OFS=\"\\t\" '{print $1,$2,$3,$4,$5,\"-\"}' \\\n",
    "ESC_4SU_refGene_exon1_quartile_2_TSS_mm10_noRING1B.bed > \\\n",
    "ESC_4SU_refGene_exon1_quartile_2_TSS_mm10_noRING1B_minus.bed\n",
    "!awk -v OFS=\"\\t\" '{print $1,$2,$3,$4,$5,\"-\"}' \\\n",
    "ESC_4SU_refGene_exon1_quartile_3_TSS_mm10_noRING1B.bed > \\\n",
    "ESC_4SU_refGene_exon1_quartile_3_TSS_mm10_noRING1B_minus.bed\n",
    "!awk -v OFS=\"\\t\" '{print $1,$2,$3,$4,$5,\"+\"}' \\\n",
    "ESC_4SU_refGene_exon1_quartile_4_TSS_mm10_noRING1B.bed > \\\n",
    "ESC_4SU_refGene_exon1_quartile_4_TSS_mm10_noRING1B_plus.bed"
   ]
  },
  {
   "cell_type": "code",
   "execution_count": 82,
   "id": "8bbc3a8c",
   "metadata": {},
   "outputs": [],
   "source": [
    "!for f in ESC_4SU_refGene_exon1_quartile_?_TSS_mm10_noRING1B_minus.bed; \\\n",
    "do cat $f ESC_4SU_refGene_exon1_quartile_4_TSS_mm10_noRING1B_plus.bed \\\n",
    "| bedtools sort -i > \"${f/.bed/_quartile_4_plus.bed}\";done"
   ]
  },
  {
   "cell_type": "code",
   "execution_count": 85,
   "id": "cff963b0",
   "metadata": {},
   "outputs": [],
   "source": [
    "!grep GSE102517.KLF4.mESC \\\n",
    "/exports/igmm/eddie/wendy-lab/elias/Friman2022/Peaks/mm10/CRE/remap2022_all_macs2_mm10_v1_0.bed \\\n",
    "| bedtools sort -i | bedtools merge > GSE102517_KLF4_mESC_remap.bed"
   ]
  },
  {
   "cell_type": "code",
   "execution_count": 86,
   "id": "735ffac6",
   "metadata": {},
   "outputs": [],
   "source": [
    "!grep GSE24029.RAD21.mESC \\\n",
    "/exports/igmm/eddie/wendy-lab/elias/Friman2022/Peaks/mm10/CRE/remap2022_all_macs2_mm10_v1_0.bed \\\n",
    "| bedtools sort -i | bedtools merge > GSE24029_RAD21_mESC_remap.bed"
   ]
  },
  {
   "cell_type": "code",
   "execution_count": 87,
   "id": "c1dad298",
   "metadata": {},
   "outputs": [],
   "source": [
    "!grep GSE41314.RNF2.mESC \\\n",
    "/exports/igmm/eddie/wendy-lab/elias/Friman2022/Peaks/mm10/CRE/remap2022_all_macs2_mm10_v1_0.bed \\\n",
    "| bedtools sort -i | bedtools merge > GSE41314_RNF2_mESC_remap.bed"
   ]
  },
  {
   "cell_type": "code",
   "execution_count": 89,
   "id": "dab3c312",
   "metadata": {},
   "outputs": [],
   "source": [
    "!bedtools sort -i /exports/igmm/eddie/wendy-lab/ilia/mouse_factor/82185_sort_peaks.narrowPeak.bed \\\n",
    "| bedtools merge > GSE93536_CXXC1_mESCS_cistromeDB.bed"
   ]
  },
  {
   "cell_type": "code",
   "execution_count": 90,
   "id": "2ec0bb91",
   "metadata": {},
   "outputs": [],
   "source": [
    "!bedtools intersect -v -a GSE102517_KLF4_mESC_remap.bed -b GSE96107_ES_Ring1B.IDR0.05.filt_merged.bed \\\n",
    "> GSE102517_KLF4_mESC_remap_noRING1B.bed"
   ]
  },
  {
   "cell_type": "code",
   "execution_count": 91,
   "id": "ccefd6b5",
   "metadata": {},
   "outputs": [],
   "source": [
    "!bedtools intersect -v -a GSE93536_CXXC1_mESCS_cistromeDB.bed -b GSE96107_ES_Ring1B.IDR0.05.filt_merged.bed \\\n",
    "> GSE93536_CXXC1_mESCS_cistromeDB_noRING1B.bed"
   ]
  },
  {
   "cell_type": "code",
   "execution_count": 93,
   "id": "0454504a",
   "metadata": {},
   "outputs": [],
   "source": [
    "!cat ESC_4SU_refGene_exon1_quartile_?_TSS_mm10.bed | bedtools sort -i > mm10.refGene_exon1_TSS.bed"
   ]
  },
  {
   "cell_type": "code",
   "execution_count": 95,
   "id": "da5c9771",
   "metadata": {},
   "outputs": [],
   "source": [
    "!bedtools intersect -v -a mm10.refGene_exon1_TSS.bed -b GSE96107_ES_Ring1B.IDR0.05.filt_merged.bed \\\n",
    "| bedtools sort -i > mm10.refGene_exon1_TSS_noRING1B.bed "
   ]
  }
 ],
 "metadata": {
  "kernelspec": {
   "display_name": "Python 3 (ipykernel)",
   "language": "python",
   "name": "python3"
  },
  "language_info": {
   "codemirror_mode": {
    "name": "ipython",
    "version": 3
   },
   "file_extension": ".py",
   "mimetype": "text/x-python",
   "name": "python",
   "nbconvert_exporter": "python",
   "pygments_lexer": "ipython3",
   "version": "3.8.12"
  }
 },
 "nbformat": 4,
 "nbformat_minor": 5
}
