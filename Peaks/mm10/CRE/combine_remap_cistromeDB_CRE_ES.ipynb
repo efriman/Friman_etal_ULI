{
 "cells": [
  {
   "cell_type": "code",
   "execution_count": 1,
   "id": "f4f848b7",
   "metadata": {
    "execution": {
     "iopub.execute_input": "2022-10-24T14:19:59.836616Z",
     "iopub.status.busy": "2022-10-24T14:19:59.836263Z",
     "iopub.status.idle": "2022-10-24T14:20:03.353355Z",
     "shell.execute_reply": "2022-10-24T14:20:03.352731Z"
    },
    "papermill": {
     "duration": 3.555696,
     "end_time": "2022-10-24T14:20:03.355891",
     "exception": false,
     "start_time": "2022-10-24T14:19:59.800195",
     "status": "completed"
    },
    "tags": []
   },
   "outputs": [],
   "source": [
    "import pandas as pd\n",
    "import bioframe\n",
    "import os\n",
    "import dask.dataframe as dd\n",
    "import numpy as np"
   ]
  },
  {
   "cell_type": "markdown",
   "id": "e2d41d09",
   "metadata": {
    "papermill": {
     "duration": 0.0168,
     "end_time": "2022-10-24T14:20:03.393237",
     "exception": false,
     "start_time": "2022-10-24T14:20:03.376437",
     "status": "completed"
    },
    "tags": []
   },
   "source": [
    "mm10-cCREs_ESC_DNase_merged5kb_mm10.bed generated in mm10_CREs_ESC.ipynb"
   ]
  },
  {
   "cell_type": "code",
   "execution_count": 2,
   "id": "e7a8ddaa",
   "metadata": {
    "execution": {
     "iopub.execute_input": "2022-10-24T14:20:03.424274Z",
     "iopub.status.busy": "2022-10-24T14:20:03.424081Z",
     "iopub.status.idle": "2022-10-24T14:20:03.453749Z",
     "shell.execute_reply": "2022-10-24T14:20:03.453339Z"
    },
    "papermill": {
     "duration": 0.046574,
     "end_time": "2022-10-24T14:20:03.455243",
     "exception": false,
     "start_time": "2022-10-24T14:20:03.408669",
     "status": "completed"
    },
    "tags": []
   },
   "outputs": [],
   "source": [
    "cres = pd.read_csv('mm10-cCREs_ESC_DNase_merged5kb_mm10.bed', \n",
    "                   names=['chrom', 'start', 'end'], sep=\"\\t\", \n",
    "                   dtype={'chrom': str, 'start': int, \"end\": int},\n",
    "                   usecols = [i for i in range(3)])"
   ]
  },
  {
   "cell_type": "markdown",
   "id": "773c1a84",
   "metadata": {
    "papermill": {
     "duration": 0.012932,
     "end_time": "2022-10-24T14:20:03.481618",
     "exception": false,
     "start_time": "2022-10-24T14:20:03.468686",
     "status": "completed"
    },
    "tags": []
   },
   "source": [
    "remap2022_all_macs2_mm10_v1_0.bed downloaded from https://remap.univ-amu.fr/storage/remap2022/mm10/MACS2/remap2022_all_macs2_mm10_v1_0.bed.gz"
   ]
  },
  {
   "cell_type": "code",
   "execution_count": 3,
   "id": "5499275c",
   "metadata": {
    "execution": {
     "iopub.execute_input": "2022-10-24T14:20:03.505998Z",
     "iopub.status.busy": "2022-10-24T14:20:03.505848Z",
     "iopub.status.idle": "2022-10-24T14:20:03.508360Z",
     "shell.execute_reply": "2022-10-24T14:20:03.507988Z"
    },
    "papermill": {
     "duration": 0.01628,
     "end_time": "2022-10-24T14:20:03.510036",
     "exception": false,
     "start_time": "2022-10-24T14:20:03.493756",
     "status": "completed"
    },
    "tags": []
   },
   "outputs": [],
   "source": [
    "ESC_names = [\"G4\", \"ZHBTc4\", \"CCE\", \"mesc\", \"ES-Bruce4\", \"EpiSC\", \"ES-E14\", \"mESC-E14\", \n",
    "             \"EpiLC\", \"E14TG2a-4\", \"E14\", \"mESC\"]"
   ]
  },
  {
   "cell_type": "code",
   "execution_count": 4,
   "id": "b8294b31",
   "metadata": {
    "execution": {
     "iopub.execute_input": "2022-10-24T14:20:03.532966Z",
     "iopub.status.busy": "2022-10-24T14:20:03.532834Z",
     "iopub.status.idle": "2022-10-24T14:42:16.495853Z",
     "shell.execute_reply": "2022-10-24T14:42:16.495349Z"
    },
    "papermill": {
     "duration": 1332.976624,
     "end_time": "2022-10-24T14:42:16.498028",
     "exception": false,
     "start_time": "2022-10-24T14:20:03.521404",
     "status": "completed"
    },
    "tags": []
   },
   "outputs": [],
   "source": [
    "#Load ReMap2022 data in chunks\n",
    "chunks = pd.read_csv('remap2022_all_macs2_mm10_v1_0.bed', \n",
    "                    sep=\"\\s+|\\.\", header=None, engine=\"python\", usecols = [i for i in range(6)],\n",
    "                    names=[\"chrom\", \"start\", \"end\", \"ID\", \"Factor\", \"Cell_type\"],\n",
    "                    dtype={'chrom': str, 'start': int, \"end\": int,\n",
    "                           \"ID\": str, \"Factor\": str, \"Cell_type\": str}, \n",
    "                    chunksize=10**6)\n",
    "remap = pd.DataFrame()\n",
    "for chunk in chunks:\n",
    "    chunk = chunk[chunk[\"Cell_type\"].isin(ESC_names)]\n",
    "    remap = pd.concat([remap, chunk])"
   ]
  },
  {
   "cell_type": "code",
   "execution_count": 5,
   "id": "691b108e",
   "metadata": {
    "execution": {
     "iopub.execute_input": "2022-10-24T14:42:16.532654Z",
     "iopub.status.busy": "2022-10-24T14:42:16.532431Z",
     "iopub.status.idle": "2022-10-24T14:42:28.747550Z",
     "shell.execute_reply": "2022-10-24T14:42:28.746929Z"
    },
    "papermill": {
     "duration": 12.231234,
     "end_time": "2022-10-24T14:42:28.749370",
     "exception": false,
     "start_time": "2022-10-24T14:42:16.518136",
     "status": "completed"
    },
    "tags": []
   },
   "outputs": [],
   "source": [
    "#Overlap with CREs\n",
    "remap = bioframe.overlap(cres, remap, how='left', suffixes=['_cres', '']).fillna(0)"
   ]
  },
  {
   "cell_type": "code",
   "execution_count": 6,
   "id": "b5d4f45b",
   "metadata": {
    "execution": {
     "iopub.execute_input": "2022-10-24T14:42:28.779112Z",
     "iopub.status.busy": "2022-10-24T14:42:28.778888Z",
     "iopub.status.idle": "2022-10-24T14:42:29.271827Z",
     "shell.execute_reply": "2022-10-24T14:42:29.271363Z"
    },
    "papermill": {
     "duration": 0.509055,
     "end_time": "2022-10-24T14:42:29.273670",
     "exception": false,
     "start_time": "2022-10-24T14:42:28.764615",
     "status": "completed"
    },
    "tags": []
   },
   "outputs": [],
   "source": [
    "remap = remap.rename(columns = {\"ID\": \"GSEID\"})"
   ]
  },
  {
   "cell_type": "code",
   "execution_count": 7,
   "id": "6bbf9363",
   "metadata": {
    "execution": {
     "iopub.execute_input": "2022-10-24T14:42:29.301344Z",
     "iopub.status.busy": "2022-10-24T14:42:29.301142Z",
     "iopub.status.idle": "2022-10-24T14:42:30.441907Z",
     "shell.execute_reply": "2022-10-24T14:42:30.441452Z"
    },
    "papermill": {
     "duration": 1.156636,
     "end_time": "2022-10-24T14:42:30.443783",
     "exception": false,
     "start_time": "2022-10-24T14:42:29.287147",
     "status": "completed"
    },
    "tags": []
   },
   "outputs": [],
   "source": [
    "remap[\"ID_Factor\"] = remap[\"GSEID\"].astype(str) + \"_\" + remap[\"Factor\"].astype(str)"
   ]
  },
  {
   "cell_type": "code",
   "execution_count": 8,
   "id": "b3f96333",
   "metadata": {
    "execution": {
     "iopub.execute_input": "2022-10-24T14:42:30.473621Z",
     "iopub.status.busy": "2022-10-24T14:42:30.473409Z",
     "iopub.status.idle": "2022-10-24T14:42:33.623656Z",
     "shell.execute_reply": "2022-10-24T14:42:33.623153Z"
    },
    "papermill": {
     "duration": 3.166446,
     "end_time": "2022-10-24T14:42:33.625570",
     "exception": false,
     "start_time": "2022-10-24T14:42:30.459124",
     "status": "completed"
    },
    "tags": []
   },
   "outputs": [],
   "source": [
    "remap = remap[remap[\"ID_Factor\"] != \"0_0\"]\n",
    "remap = remap.dropna()"
   ]
  },
  {
   "cell_type": "code",
   "execution_count": 9,
   "id": "76bb12f9",
   "metadata": {
    "execution": {
     "iopub.execute_input": "2022-10-24T14:42:33.653757Z",
     "iopub.status.busy": "2022-10-24T14:42:33.653550Z",
     "iopub.status.idle": "2022-10-24T14:42:35.087646Z",
     "shell.execute_reply": "2022-10-24T14:42:35.087189Z"
    },
    "papermill": {
     "duration": 1.449734,
     "end_time": "2022-10-24T14:42:35.089443",
     "exception": false,
     "start_time": "2022-10-24T14:42:33.639709",
     "status": "completed"
    },
    "tags": []
   },
   "outputs": [],
   "source": [
    "#Renaming some datasets that are the same but have different names in ReMap2022 and cistromeDB\n",
    "remap[\"ID_Factor\"] = np.where(remap[\"ID_Factor\"] == \"ENCSR000ERX_HCFC1\", \"GSE36030_HCFC1\", remap[\"ID_Factor\"])\n",
    "remap[\"ID_Factor\"] = np.where(remap[\"ID_Factor\"] == \"ENCSR604XDL_MAFK\", \"GSE36030_MAFK\", remap[\"ID_Factor\"])\n",
    "remap[\"ID_Factor\"] = np.where(remap[\"ID_Factor\"] == \"ENCSR000ERW_ZC3H11A\", \"GSE36030_ZC3H11A\", remap[\"ID_Factor\"])"
   ]
  },
  {
   "cell_type": "markdown",
   "id": "8a9d55bc",
   "metadata": {
    "papermill": {
     "duration": 0.012905,
     "end_time": "2022-10-24T14:42:35.117132",
     "exception": false,
     "start_time": "2022-10-24T14:42:35.104227",
     "status": "completed"
    },
    "tags": []
   },
   "source": [
    "Manually annotated blacklist to remove datasets with perturbations in cistromeDB"
   ]
  },
  {
   "cell_type": "code",
   "execution_count": 10,
   "id": "e509e9f1",
   "metadata": {
    "execution": {
     "iopub.execute_input": "2022-10-24T14:42:35.144948Z",
     "iopub.status.busy": "2022-10-24T14:42:35.144733Z",
     "iopub.status.idle": "2022-10-24T14:42:35.154054Z",
     "shell.execute_reply": "2022-10-24T14:42:35.153566Z"
    },
    "papermill": {
     "duration": 0.02636,
     "end_time": "2022-10-24T14:42:35.156638",
     "exception": false,
     "start_time": "2022-10-24T14:42:35.130278",
     "status": "completed"
    },
    "tags": []
   },
   "outputs": [],
   "source": [
    "blacklist = [8980,       #MEN1 -> H3K4me3 @ MEN1 KO\n",
    "             72156, 52674, #c17orf96 -> H3K4me3 @ c17orf96 KD\n",
    "             68937, # ZFP57 -> KAP1 @ ZFP57 KO\n",
    "             59471, 59472, 59473, 59474, # ZFP57 -> H3K27ac @ ZFP57 WT/KO\n",
    "             49151, # Liver\n",
    "             # CTCF\n",
    "             51815, #D3 LIF withdrawal, not really ES cells\n",
    "             93023, 93024, 93030, 93033, 93032, 94651, 94662, # Deleted from GEO\n",
    "             85175, 85176, # AID, AUX treated\n",
    "             81237, #MLL3/4 KO\n",
    "             5935, 5936, #TKO\n",
    "             104077, #DKO\n",
    "             # RAD21\n",
    "             86507, 87703, 87434, 81689, 83522, 85629, 86510, 83519, #DKO or MLL3/4 KO, or catalytically dead\n",
    "             4501, #Embryoid bodies\n",
    "             55974, 55966, 55962, #SA1 - brain, pancreas, adult cortex\n",
    "             32902, 55976, 55968, 55964, 55978, # SMC1A - FLV treated, brain, pancreas, adult cortex, SA1 KO brain\n",
    "             34713, 37756, 41352, 41353, 41354, 41356, 41357, 41833, 47343, 47344, 47767, 47768, 47769, 67363, 81951, 83510, 67540, 67545, #Knockdown conditions\n",
    "             37751, 44006, 44007, 67571, 67572, #Histones\n",
    "             43845, 48363, 48364, 50202, 58925, 58926, 68336, 68340, 71071, 71075, #KO conditions\n",
    "             73463, 73465, 73469, 74264, 74266, 75371, 75372, 76746, 81310, 72437, 72441, 72445, 73263, 73264, 73285, #KO conditions\n",
    "             8539, 48513, 48514, 48515, 48516, 71177, 71181, 71183, #KO conditions\n",
    "             2866, 2867, 2868, 2869, 2879, 2880, 37689, 51388, 51389, 53553, 59476, 72455, 73003, 73005,  #shRNA\n",
    "             85174, #AID\n",
    "             33721, 33755, 33762, 33765, 33779, 33790, 33794, 36800, 36816, 36826, 36828, 36829, 36831, 71698, 72457, 54539, 56193, 71072, 71892, 71895, 71897, 71898, 73286, 73287, 73288, 75369, 75370, 86476, 83868, 83869, #Mutants\n",
    "             71172, 71174, 71178, 71179, 71180, 71891, 75197, 75219, 75220,  #flox\n",
    "             53113, 87245, 32907, 34083, 67353, 67354, 48940, 48938, 48943, 48945, 48948, 48949, 48950, 53944, 53947, 53950, 53951, 68444, 74265, #Treatments\n",
    "             4540, 59428, 2870, 2871, 55147, 34528, 34540, 34548, 44552, 44553,  75579, 75787, #Transgene\n",
    "             55144, 55145, 55146, 43996, 82629, 82626, 82624, #Differentiated\n",
    "             44554, 44556, 44557, 44533, 44534, 44535, 44536, 44560, #sgRNA\n",
    "             51971, 54581, 54582, 54583, 55872, #not ES\n",
    "             76350, 76353, 76347, #Mitotic\n",
    "             ]"
   ]
  },
  {
   "cell_type": "markdown",
   "id": "03a27575",
   "metadata": {
    "papermill": {
     "duration": 0.013297,
     "end_time": "2022-10-24T14:42:35.183171",
     "exception": false,
     "start_time": "2022-10-24T14:42:35.169874",
     "status": "completed"
    },
    "tags": []
   },
   "source": [
    "mouse_factor files downloaded as batch from cistromeDB. mouse_factor_ES.txt generated using GEO_query_ES.R"
   ]
  },
  {
   "cell_type": "code",
   "execution_count": 11,
   "id": "90284551",
   "metadata": {
    "execution": {
     "iopub.execute_input": "2022-10-24T14:42:35.210987Z",
     "iopub.status.busy": "2022-10-24T14:42:35.210785Z",
     "iopub.status.idle": "2022-10-24T14:42:35.225698Z",
     "shell.execute_reply": "2022-10-24T14:42:35.225246Z"
    },
    "papermill": {
     "duration": 0.03095,
     "end_time": "2022-10-24T14:42:35.227485",
     "exception": false,
     "start_time": "2022-10-24T14:42:35.196535",
     "status": "completed"
    },
    "tags": []
   },
   "outputs": [],
   "source": [
    "factors = pd.read_csv('mouse_factor_ES.txt', sep='\\t')\n",
    "#Quality filtering according to cistromeDB guidelines\n",
    "factors = factors[(factors['FastQC'] > 25) & (factors['UniquelyMappedRatio'] > 0.6) & (factors['PBC'] > 0.8) &\n",
    "                  (factors['PeaksFoldChangeAbove10'] > 500) & (factors['FRiP'] > 0.01) & (factors['PeaksUnionDHSRatio'] > 0.7)]\n",
    "#Remove blacklist files\n",
    "es = factors[(factors['Cell_type']=='Embryonic Stem Cell') & (~factors['DCid'].isin(blacklist))]"
   ]
  },
  {
   "cell_type": "code",
   "execution_count": 12,
   "id": "acde089d",
   "metadata": {
    "execution": {
     "iopub.execute_input": "2022-10-24T14:42:35.255756Z",
     "iopub.status.busy": "2022-10-24T14:42:35.255536Z",
     "iopub.status.idle": "2022-10-24T14:42:50.207776Z",
     "shell.execute_reply": "2022-10-24T14:42:50.207251Z"
    },
    "papermill": {
     "duration": 14.968669,
     "end_time": "2022-10-24T14:42:50.209666",
     "exception": false,
     "start_time": "2022-10-24T14:42:35.240997",
     "status": "completed"
    },
    "tags": []
   },
   "outputs": [],
   "source": [
    "namedict_es = dict(zip(es['DCid'], es['Factor']))\n",
    "es_factortable = pd.concat([bioframe.read_table(f'mouse_factor/{fid}_sort_peaks.narrowPeak.bed', \n",
    "                                                schema='narrowPeak').assign(id=fid, factor=factor).rename(\n",
    "    columns={'chrom':'peak_chrom', 'start':'peak_start', 'end':'peak_end'}) for fid, factor in namedict_es.items()])"
   ]
  },
  {
   "cell_type": "code",
   "execution_count": 13,
   "id": "b946ae19",
   "metadata": {
    "execution": {
     "iopub.execute_input": "2022-10-24T14:42:50.240108Z",
     "iopub.status.busy": "2022-10-24T14:42:50.239905Z",
     "iopub.status.idle": "2022-10-24T14:43:10.206016Z",
     "shell.execute_reply": "2022-10-24T14:43:10.205528Z"
    },
    "papermill": {
     "duration": 19.982453,
     "end_time": "2022-10-24T14:43:10.207799",
     "exception": false,
     "start_time": "2022-10-24T14:42:50.225346",
     "status": "completed"
    },
    "tags": []
   },
   "outputs": [],
   "source": [
    "es_factortable = bioframe.overlap(cres, es_factortable, how='left', suffixes=['_cres', ''], cols2=['peak_chrom', 'peak_start', 'peak_end']).fillna(0)\n",
    "es_factortable[['start_cres', 'end_cres', 'peak_start','peak_end']] = es_factortable[['start_cres', 'end_cres', 'peak_start','peak_end']].astype(int)"
   ]
  },
  {
   "cell_type": "code",
   "execution_count": 14,
   "id": "4a33a345",
   "metadata": {
    "execution": {
     "iopub.execute_input": "2022-10-24T14:43:10.238118Z",
     "iopub.status.busy": "2022-10-24T14:43:10.237904Z",
     "iopub.status.idle": "2022-10-24T14:43:13.235440Z",
     "shell.execute_reply": "2022-10-24T14:43:13.234988Z"
    },
    "papermill": {
     "duration": 3.0137,
     "end_time": "2022-10-24T14:43:13.237213",
     "exception": false,
     "start_time": "2022-10-24T14:43:10.223513",
     "status": "completed"
    },
    "tags": []
   },
   "outputs": [],
   "source": [
    "es_factortable = es_factortable.dropna()"
   ]
  },
  {
   "cell_type": "code",
   "execution_count": 15,
   "id": "bfcf06b1",
   "metadata": {
    "execution": {
     "iopub.execute_input": "2022-10-24T14:43:13.265198Z",
     "iopub.status.busy": "2022-10-24T14:43:13.264985Z",
     "iopub.status.idle": "2022-10-24T14:43:13.885327Z",
     "shell.execute_reply": "2022-10-24T14:43:13.884856Z"
    },
    "papermill": {
     "duration": 0.636347,
     "end_time": "2022-10-24T14:43:13.887185",
     "exception": false,
     "start_time": "2022-10-24T14:43:13.250838",
     "status": "completed"
    },
    "tags": []
   },
   "outputs": [],
   "source": [
    "es_factortable = es_factortable[[\"chrom_cres\", \"start_cres\", \"end_cres\", \"factor\", \"id\", \n",
    "                                 \"peak_chrom\", \"peak_start\", \"peak_end\"]]"
   ]
  },
  {
   "cell_type": "code",
   "execution_count": 16,
   "id": "ba38f0e8",
   "metadata": {
    "execution": {
     "iopub.execute_input": "2022-10-24T14:43:13.915517Z",
     "iopub.status.busy": "2022-10-24T14:43:13.915307Z",
     "iopub.status.idle": "2022-10-24T14:43:13.918648Z",
     "shell.execute_reply": "2022-10-24T14:43:13.918162Z"
    },
    "papermill": {
     "duration": 0.020026,
     "end_time": "2022-10-24T14:43:13.921105",
     "exception": false,
     "start_time": "2022-10-24T14:43:13.901079",
     "status": "completed"
    },
    "tags": []
   },
   "outputs": [],
   "source": [
    "es_factortable.columns = [\"chrom_cres\", \"start_cres\", \"end_cres\", \"Factor\", \"DCid\",\n",
    "                          \"chrom\", \"start\" , \"end\"]"
   ]
  },
  {
   "cell_type": "code",
   "execution_count": 17,
   "id": "22bab504",
   "metadata": {
    "execution": {
     "iopub.execute_input": "2022-10-24T14:43:13.949099Z",
     "iopub.status.busy": "2022-10-24T14:43:13.948885Z",
     "iopub.status.idle": "2022-10-24T14:43:13.979895Z",
     "shell.execute_reply": "2022-10-24T14:43:13.979440Z"
    },
    "papermill": {
     "duration": 0.047132,
     "end_time": "2022-10-24T14:43:13.981699",
     "exception": false,
     "start_time": "2022-10-24T14:43:13.934567",
     "status": "completed"
    },
    "tags": []
   },
   "outputs": [],
   "source": [
    "es_factortable[\"DCid\"] = es_factortable[\"DCid\"].astype(int)"
   ]
  },
  {
   "cell_type": "code",
   "execution_count": 18,
   "id": "10724978",
   "metadata": {
    "execution": {
     "iopub.execute_input": "2022-10-24T14:43:14.009741Z",
     "iopub.status.busy": "2022-10-24T14:43:14.009535Z",
     "iopub.status.idle": "2022-10-24T14:43:17.237199Z",
     "shell.execute_reply": "2022-10-24T14:43:17.236733Z"
    },
    "papermill": {
     "duration": 3.244127,
     "end_time": "2022-10-24T14:43:17.239079",
     "exception": false,
     "start_time": "2022-10-24T14:43:13.994952",
     "status": "completed"
    },
    "tags": []
   },
   "outputs": [],
   "source": [
    "es_factortable = pd.merge(es_factortable, factors[[\"DCid\", \"GSEID\"]], on=\"DCid\")"
   ]
  },
  {
   "cell_type": "code",
   "execution_count": 19,
   "id": "142d6366",
   "metadata": {
    "execution": {
     "iopub.execute_input": "2022-10-24T14:43:17.268594Z",
     "iopub.status.busy": "2022-10-24T14:43:17.268398Z",
     "iopub.status.idle": "2022-10-24T14:43:18.529792Z",
     "shell.execute_reply": "2022-10-24T14:43:18.529341Z"
    },
    "papermill": {
     "duration": 1.277112,
     "end_time": "2022-10-24T14:43:18.531573",
     "exception": false,
     "start_time": "2022-10-24T14:43:17.254461",
     "status": "completed"
    },
    "tags": []
   },
   "outputs": [],
   "source": [
    "es_factortable[\"ID_Factor\"] = es_factortable[\"GSEID\"].astype(str) + \"_\" + es_factortable[\"Factor\"].astype(str)"
   ]
  },
  {
   "cell_type": "code",
   "execution_count": 20,
   "id": "fa5d55fb",
   "metadata": {
    "execution": {
     "iopub.execute_input": "2022-10-24T14:43:18.560102Z",
     "iopub.status.busy": "2022-10-24T14:43:18.559885Z",
     "iopub.status.idle": "2022-10-24T14:43:20.235033Z",
     "shell.execute_reply": "2022-10-24T14:43:20.234592Z"
    },
    "papermill": {
     "duration": 1.691492,
     "end_time": "2022-10-24T14:43:20.236883",
     "exception": false,
     "start_time": "2022-10-24T14:43:18.545391",
     "status": "completed"
    },
    "tags": []
   },
   "outputs": [],
   "source": [
    "#Combine cistromeDB and ReMap2022\n",
    "cistrome_remap = pd.concat([remap[[\"chrom_cres\", \"start_cres\", \"end_cres\", \"ID_Factor\", \"Factor\"]], \n",
    "                            es_factortable[[\"chrom_cres\", \"start_cres\", \"end_cres\", \"ID_Factor\", \"Factor\"]]])"
   ]
  },
  {
   "cell_type": "code",
   "execution_count": 21,
   "id": "05e43a1d",
   "metadata": {
    "execution": {
     "iopub.execute_input": "2022-10-24T14:43:20.267105Z",
     "iopub.status.busy": "2022-10-24T14:43:20.266894Z",
     "iopub.status.idle": "2022-10-24T14:43:38.226591Z",
     "shell.execute_reply": "2022-10-24T14:43:38.225927Z"
    },
    "papermill": {
     "duration": 17.975823,
     "end_time": "2022-10-24T14:43:38.228468",
     "exception": false,
     "start_time": "2022-10-24T14:43:20.252645",
     "status": "completed"
    },
    "tags": []
   },
   "outputs": [],
   "source": [
    "cistrome_remap[\"coords_cre\"] = cistrome_remap[\"chrom_cres\"] + \"_\" + cistrome_remap[\"start_cres\"].astype(str) + \"_\" + cistrome_remap[\"end_cres\"].astype(str)"
   ]
  },
  {
   "cell_type": "code",
   "execution_count": 22,
   "id": "81e48825",
   "metadata": {
    "execution": {
     "iopub.execute_input": "2022-10-24T14:43:38.258752Z",
     "iopub.status.busy": "2022-10-24T14:43:38.258519Z",
     "iopub.status.idle": "2022-10-24T14:43:43.229921Z",
     "shell.execute_reply": "2022-10-24T14:43:43.229460Z"
    },
    "papermill": {
     "duration": 4.987744,
     "end_time": "2022-10-24T14:43:43.231718",
     "exception": false,
     "start_time": "2022-10-24T14:43:38.243974",
     "status": "completed"
    },
    "tags": []
   },
   "outputs": [],
   "source": [
    "cistrome_remap = cistrome_remap.drop_duplicates(subset=[\"coords_cre\", \"ID_Factor\"])"
   ]
  },
  {
   "cell_type": "code",
   "execution_count": 23,
   "id": "b38fb67e",
   "metadata": {
    "execution": {
     "iopub.execute_input": "2022-10-24T14:43:43.262701Z",
     "iopub.status.busy": "2022-10-24T14:43:43.262486Z",
     "iopub.status.idle": "2022-10-24T14:43:56.720112Z",
     "shell.execute_reply": "2022-10-24T14:43:56.719563Z"
    },
    "papermill": {
     "duration": 13.474004,
     "end_time": "2022-10-24T14:43:56.722176",
     "exception": false,
     "start_time": "2022-10-24T14:43:43.248172",
     "status": "completed"
    },
    "tags": []
   },
   "outputs": [],
   "source": [
    "cistrome_remap.to_csv(\"mm10-cCREs_ESC_DNase_merged5kb_mm10_cistromeDB_ReMap2020_filtered.bed\", sep=\"\\t\", index=False, header=True)"
   ]
  }
 ],
 "metadata": {
  "kernelspec": {
   "display_name": "Python 3 (ipykernel)",
   "language": "python",
   "name": "python3"
  },
  "language_info": {
   "codemirror_mode": {
    "name": "ipython",
    "version": 3
   },
   "file_extension": ".py",
   "mimetype": "text/x-python",
   "name": "python",
   "nbconvert_exporter": "python",
   "pygments_lexer": "ipython3",
   "version": "3.8.12"
  },
  "papermill": {
   "default_parameters": {},
   "duration": 1441.89306,
   "end_time": "2022-10-24T14:43:57.778413",
   "environment_variables": {},
   "exception": null,
   "input_path": "/exports/igmm/eddie/wendy-lab/elias/Friman2022/Peaks/mm10/CRE/combine_remap_cistromeDB_CRE_ES_input.ipynb",
   "output_path": "/exports/igmm/eddie/wendy-lab/elias/Friman2022/Peaks/mm10/CRE/combine_remap_cistromeDB_CRE_ES.ipynb",
   "parameters": {},
   "start_time": "2022-10-24T14:19:55.885353",
   "version": "2.4.0"
  }
 },
 "nbformat": 4,
 "nbformat_minor": 5
}
