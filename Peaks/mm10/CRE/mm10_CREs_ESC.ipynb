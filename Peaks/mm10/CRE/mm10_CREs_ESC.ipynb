{
 "cells": [
  {
   "cell_type": "code",
   "execution_count": 1,
   "id": "ee57648a",
   "metadata": {},
   "outputs": [],
   "source": [
    "!wget -q https://downloads.wenglab.org/V3/mm10-cCREs.bed\n",
    "!wget https://www.encodeproject.org/files/ENCFF048DWN/@@download/ENCFF048DWN.bed.gz -q\n",
    "!wget https://www.encodeproject.org/files/ENCFF228JUI/@@download/ENCFF228JUI.bed.gz -q\n",
    "!wget https://www.encodeproject.org/files/ENCFF365YJX/@@download/ENCFF365YJX.bed.gz -q\n",
    "!wget https://www.encodeproject.org/files/ENCFF417WYG/@@download/ENCFF417WYG.bed.gz -q\n",
    "!wget https://www.encodeproject.org/files/ENCFF468CBV/@@download/ENCFF468CBV.bed.gz -q\n",
    "!wget https://www.encodeproject.org/files/ENCFF565YPL/@@download/ENCFF565YPL.bed.gz -q\n",
    "!wget https://www.encodeproject.org/files/ENCFF639EBX/@@download/ENCFF639EBX.bed.gz -q\n",
    "!wget https://www.encodeproject.org/files/ENCFF765QCB/@@download/ENCFF765QCB.bed.gz -q\n",
    "!wget https://www.encodeproject.org/files/ENCFF950SQZ/@@download/ENCFF950SQZ.bed.gz -q"
   ]
  },
  {
   "cell_type": "code",
   "execution_count": 2,
   "id": "e5d890d2",
   "metadata": {},
   "outputs": [],
   "source": [
    "!gunzip ENCFF*bed.gz -f"
   ]
  },
  {
   "cell_type": "code",
   "execution_count": 3,
   "id": "2d99d31b",
   "metadata": {},
   "outputs": [],
   "source": [
    "!cat ENCFF048DWN.bed ENCFF228JUI.bed ENCFF365YJX.bed \\\n",
    "ENCFF417WYG.bed ENCFF468CBV.bed  ENCFF565YPL.bed \\\n",
    "ENCFF639EBX.bed ENCFF765QCB.bed ENCFF950SQZ.bed \\\n",
    "| bedtools sort -i | bedtools merge > ESC_DNase_mm10.bed"
   ]
  },
  {
   "cell_type": "code",
   "execution_count": 4,
   "id": "6576e150",
   "metadata": {},
   "outputs": [],
   "source": [
    "!bedtools sort -i mm10-cCREs.bed | \\\n",
    "bedtools merge -i stdin -d 5000 > \\\n",
    "mm10-cCREs_merged5kb.bed"
   ]
  },
  {
   "cell_type": "code",
   "execution_count": 5,
   "id": "85f79ebf",
   "metadata": {},
   "outputs": [],
   "source": [
    "!bedtools intersect -a mm10-cCREs_merged5kb.bed \\\n",
    "-b ESC_DNase_mm10.bed -wa | bedtools sort -i | \\\n",
    "bedtools merge > mm10-cCREs_ESC_DNase_merged5kb_mm10.bed"
   ]
  }
 ],
 "metadata": {
  "kernelspec": {
   "display_name": "Python 3 (ipykernel)",
   "language": "python",
   "name": "python3"
  },
  "language_info": {
   "codemirror_mode": {
    "name": "ipython",
    "version": 3
   },
   "file_extension": ".py",
   "mimetype": "text/x-python",
   "name": "python",
   "nbconvert_exporter": "python",
   "pygments_lexer": "ipython3",
   "version": "3.8.12"
  }
 },
 "nbformat": 4,
 "nbformat_minor": 5
}
