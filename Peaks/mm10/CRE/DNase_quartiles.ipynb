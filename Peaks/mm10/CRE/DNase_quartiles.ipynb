{
 "cells": [
  {
   "cell_type": "code",
   "execution_count": 1,
   "id": "19ca8f58",
   "metadata": {},
   "outputs": [],
   "source": [
    "import numpy as np\n",
    "import pandas as pd\n",
    "import matplotlib.pyplot as plt\n",
    "import coolpuppy\n",
    "import glob\n",
    "import os\n",
    "import seaborn as sns\n",
    "import bioframe as bf"
   ]
  },
  {
   "cell_type": "code",
   "execution_count": 2,
   "id": "0176463c",
   "metadata": {},
   "outputs": [],
   "source": [
    "ENCFF048WDN = pd.read_csv(\"ENCFF048DWN.bed\", sep=\"\\t\", header=None)\n",
    "ENCFF048WDN.columns = [\"chrom\", \"start\", \"end\", \"name\",  \"score\", \"strand\", \"signalValue\", \"pValue\", \"qValue\", \"peak\"]"
   ]
  },
  {
   "cell_type": "code",
   "execution_count": 3,
   "id": "dd632faa",
   "metadata": {},
   "outputs": [],
   "source": [
    "ENCFF048WDN.loc[ENCFF048WDN[\"signalValue\"] <= np.quantile(ENCFF048WDN[\"signalValue\"], 0.25), \"quartile\"] = 1\n",
    "ENCFF048WDN.loc[ENCFF048WDN[\"signalValue\"] > np.quantile(ENCFF048WDN[\"signalValue\"], 0.25), \"quartile\"] = 2\n",
    "ENCFF048WDN.loc[ENCFF048WDN[\"signalValue\"] > np.quantile(ENCFF048WDN[\"signalValue\"], 0.5), \"quartile\"] = 3\n",
    "ENCFF048WDN.loc[ENCFF048WDN[\"signalValue\"] > np.quantile(ENCFF048WDN[\"signalValue\"], 0.75), \"quartile\"] = 4"
   ]
  },
  {
   "cell_type": "code",
   "execution_count": 4,
   "id": "f428bfd1",
   "metadata": {},
   "outputs": [],
   "source": [
    "for i in range(1,5):\n",
    "    ENCFF048WDN.loc[ENCFF048WDN[\"quartile\"] == i, \n",
    "                    [\"chrom\", \"start\", \"end\"]].to_csv(\"ENCFF048WDN_DNase_quartile_\"+str(i)+\"_mm10.bed\", \n",
    "                                                      sep=\"\\t\", \n",
    "                                                      header=None, \n",
    "                                                      index=False)"
   ]
  },
  {
   "cell_type": "code",
   "execution_count": 5,
   "id": "d0b8537b",
   "metadata": {},
   "outputs": [
    {
     "name": "stdout",
     "output_type": "stream",
     "text": [
      "2778\n",
      "2705\n",
      "3511\n",
      "8522\n"
     ]
    }
   ],
   "source": [
    "!for f in ENCFF048WDN_DNase_quartile_?_mm10.bed; do \\\n",
    "bedtools closest -a $f -b ../mm10.refGene_exon1_TSS.bed -d | \\\n",
    "awk -v OFS=\"\\t\" '{if($10<=1000) {print $1,$2,$3}}' | \\\n",
    "wc -l ; done"
   ]
  },
  {
   "cell_type": "code",
   "execution_count": 6,
   "id": "1eac3ddc",
   "metadata": {},
   "outputs": [],
   "source": [
    "!for f in ENCFF048WDN_DNase_quartile_?_mm10.bed; do \\\n",
    "bedtools closest -a $f -b ../mm10.refGene_exon1_TSS.bed -d | \\\n",
    "awk -v OFS=\"\\t\" '{if($10<=1000) {print $1,$2,$3}}' | \\\n",
    "shuf -n 2705 > \"${f/.bed/_1kbwithinTSS_shuf2705.bed}\" ; done"
   ]
  },
  {
   "cell_type": "code",
   "execution_count": 7,
   "id": "7862c0b9",
   "metadata": {},
   "outputs": [],
   "source": [
    "!for f in ENCFF048WDN_DNase_quartile_?_mm10.bed; do \\\n",
    "bedtools closest -a $f -b ../mm10.refGene_exon1_TSS.bed -d | \\\n",
    "awk -v OFS=\"\\t\" '{if($10>5000) {print $1,$2,$3}}' | \\\n",
    "shuf -n 2705 > \"${f/.bed/_5kbfromTSS_shuf2705.bed}\" ; done"
   ]
  }
 ],
 "metadata": {
  "kernelspec": {
   "display_name": "Python 3 (ipykernel)",
   "language": "python",
   "name": "python3"
  },
  "language_info": {
   "codemirror_mode": {
    "name": "ipython",
    "version": 3
   },
   "file_extension": ".py",
   "mimetype": "text/x-python",
   "name": "python",
   "nbconvert_exporter": "python",
   "pygments_lexer": "ipython3",
   "version": "3.8.12"
  }
 },
 "nbformat": 4,
 "nbformat_minor": 5
}
