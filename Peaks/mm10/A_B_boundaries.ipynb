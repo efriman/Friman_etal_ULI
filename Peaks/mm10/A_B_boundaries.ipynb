{
 "cells": [
  {
   "cell_type": "code",
   "execution_count": 1,
   "id": "752ebab7",
   "metadata": {},
   "outputs": [],
   "source": [
    "import pandas as pd\n",
    "import bioframe"
   ]
  },
  {
   "cell_type": "code",
   "execution_count": 2,
   "id": "78de0beb",
   "metadata": {},
   "outputs": [],
   "source": [
    "eigenvector = pd.read_table(\"/exports/igmm/eddie/wendy-lab/ilia/interactions_screen_quaich/results/eigenvectors/Hsieh_microC_50000_eigenvectors.cis.vecs.tsv\",\n",
    "                            sep=\"\\t\")"
   ]
  },
  {
   "cell_type": "code",
   "execution_count": 3,
   "id": "d679a923",
   "metadata": {},
   "outputs": [],
   "source": [
    "eigenvector = eigenvector.dropna()"
   ]
  },
  {
   "cell_type": "code",
   "execution_count": 4,
   "id": "0972c6fb",
   "metadata": {},
   "outputs": [],
   "source": [
    "A_compartments = bioframe.merge(eigenvector.loc[eigenvector[\"E1\"]>0,:])\n",
    "A_compartments[\"start2\"] = A_compartments[\"end\"]\n",
    "A_compartments[\"end2\"] = A_compartments[\"end\"]+1\n",
    "A_compartments[\"strand\"] = \"+\""
   ]
  },
  {
   "cell_type": "code",
   "execution_count": 5,
   "id": "fa6ff3a0",
   "metadata": {},
   "outputs": [],
   "source": [
    "B_compartments = bioframe.merge(eigenvector.loc[eigenvector[\"E1\"]<0,:])\n",
    "B_compartments[\"start2\"] = B_compartments[\"end\"]\n",
    "B_compartments[\"end2\"] = B_compartments[\"end\"]+1\n",
    "B_compartments[\"strand\"] = \"-\""
   ]
  },
  {
   "cell_type": "code",
   "execution_count": 6,
   "id": "a4e089a7",
   "metadata": {},
   "outputs": [],
   "source": [
    "compartment_switches = pd.concat([A_compartments[A_compartments[\"end\"].isin(B_compartments[\"start\"])], \n",
    "                                  B_compartments[B_compartments[\"end\"].isin(A_compartments[\"start\"])]]).sort_values([\"chrom\", \"start2\"])\n",
    "compartment_switches[[\"chrom\", \n",
    "                      \"start2\",\n",
    "                      \"end2\",\n",
    "                      \"strand\", \n",
    "                      \"strand\", \n",
    "                      \"strand\"]].to_csv(\"Hsieh_microC_compartment_boundaries_A_plus_B_minus_mm10.bed\",\n",
    "                                        sep=\"\\t\", index=False, header=False)                                                              "
   ]
  },
  {
   "cell_type": "code",
   "execution_count": 8,
   "id": "2ba03d31",
   "metadata": {},
   "outputs": [],
   "source": [
    "#Discard A compartments smaller than 100kb\n",
    "A_compartments.loc[A_compartments[\"n_intervals\"] >=2,\n",
    "                  [\"chrom\", \"start\", \"end\"]].to_csv(\"Hsieh_microC_A_compartment_regions_100kb_mm10.bed\", \n",
    "                                                    index=False, header=False, sep=\"\\t\")"
   ]
  },
  {
   "cell_type": "code",
   "execution_count": 9,
   "id": "995ceea9",
   "metadata": {},
   "outputs": [],
   "source": [
    "!bedtools intersect -a mm10.refGene_exon1_TSS_noRING1B.bed \\\n",
    "-b Hsieh_microC_A_compartment_regions_100kb_mm10.bed \\\n",
    "-wa | bedtools sort -i | bedtools closest -a stdin \\\n",
    "-b <(bedtools sort -i Hsieh_microC_compartment_boundaries_A_plus_B_minus_mm10.bed) \\\n",
    "-d | awk -v OFS=\"\\t\" '{if($13<50000) {print $1,$2,$3,$4,$5,$10}}' \\\n",
    "> TSS_noRING1B_A_within_50kb_compartmentswitch_signAB_mm10.bed"
   ]
  },
  {
   "cell_type": "code",
   "execution_count": 10,
   "id": "f3a63953",
   "metadata": {},
   "outputs": [
    {
     "name": "stdout",
     "output_type": "stream",
     "text": [
      "1139 TSS_noRING1B_A_within_50kb_compartmentswitch_signAB_mm10.bed\r\n"
     ]
    }
   ],
   "source": [
    "!wc -l TSS_noRING1B_A_within_50kb_compartmentswitch_signAB_mm10.bed"
   ]
  },
  {
   "cell_type": "code",
   "execution_count": 16,
   "id": "e6bbfb77",
   "metadata": {},
   "outputs": [],
   "source": [
    "!bedtools intersect -a ESC_4SU_refGene_exon1_quartile_4_TSS_mm10_noRING1B.bed \\\n",
    "-b Hsieh_microC_A_compartment_regions_100kb_mm10.bed \\\n",
    "-wa | bedtools sort -i | bedtools closest -a stdin \\\n",
    "-b <(bedtools sort -i Hsieh_microC_compartment_boundaries_A_plus_B_minus_mm10.bed) \\\n",
    "-d | awk -v OFS=\"\\t\" '{if($13>100000) {print $1,$2,$3,$4,$5,$10}}' \\\n",
    "| shuf -n 1139 > TSS_Q4_noRING1B_A_atleast_100kb_from_compartmentswitch_signAB_mm10.bed"
   ]
  }
 ],
 "metadata": {
  "kernelspec": {
   "display_name": "Python 3 (ipykernel)",
   "language": "python",
   "name": "python3"
  },
  "language_info": {
   "codemirror_mode": {
    "name": "ipython",
    "version": 3
   },
   "file_extension": ".py",
   "mimetype": "text/x-python",
   "name": "python",
   "nbconvert_exporter": "python",
   "pygments_lexer": "ipython3",
   "version": "3.8.12"
  }
 },
 "nbformat": 4,
 "nbformat_minor": 5
}
