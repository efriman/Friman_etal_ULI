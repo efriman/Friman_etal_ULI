{
 "cells": [
  {
   "cell_type": "code",
   "execution_count": 1,
   "id": "9ef21b1d",
   "metadata": {},
   "outputs": [],
   "source": [
    "import numpy as np\n",
    "import pandas as pd"
   ]
  },
  {
   "cell_type": "code",
   "execution_count": 2,
   "id": "2d88504a",
   "metadata": {},
   "outputs": [],
   "source": [
    "!wget https://ftp.ncbi.nlm.nih.gov/geo/series/GSE201nnn/GSE201352/suppl/GSE201352_LIMA_H3K27ac_diffPeaks_overlap.tsv.gz -q\n",
    "!gunzip GSE201352_LIMA_H3K27ac_diffPeaks_overlap.tsv.gz -f"
   ]
  },
  {
   "cell_type": "code",
   "execution_count": 3,
   "id": "9fcfff74",
   "metadata": {},
   "outputs": [
    {
     "name": "stdout",
     "output_type": "stream",
     "text": [
      "GSM6061743_LIMA_ChIP_h3k27ac_THP1_WT_LPIF_S_0000_1.1.1.bw\n",
      "GSM6061743_LIMA_ChIP_h3k27ac_THP1_WT_LPIF_S_0000_1.1.1_peaks.narrowPeak.gz\n",
      "GSM6061744_LIMA_ChIP_h3k27ac_THP1_WT_LPIF_S_0000_2.1.1.bw\n",
      "GSM6061744_LIMA_ChIP_h3k27ac_THP1_WT_LPIF_S_0000_2.1.1_peaks.narrowPeak.gz\n",
      "GSM6061745_LIMA_ChIP_h3k27ac_THP1_WT_LPIF_S_0030_1.1.1.bw\n",
      "GSM6061745_LIMA_ChIP_h3k27ac_THP1_WT_LPIF_S_0030_1.1.1_peaks.narrowPeak.gz\n",
      "GSM6061746_LIMA_ChIP_h3k27ac_THP1_WT_LPIF_S_0030_2.1.1.bw\n",
      "GSM6061746_LIMA_ChIP_h3k27ac_THP1_WT_LPIF_S_0030_2.1.1_peaks.narrowPeak.gz\n",
      "GSM6061747_LIMA_ChIP_h3k27ac_THP1_WT_LPIF_S_0060_1.1.1.bw\n",
      "GSM6061747_LIMA_ChIP_h3k27ac_THP1_WT_LPIF_S_0060_1.1.1_peaks.narrowPeak.gz\n",
      "GSM6061748_LIMA_ChIP_h3k27ac_THP1_WT_LPIF_S_0060_2.1.1.bw\n",
      "GSM6061748_LIMA_ChIP_h3k27ac_THP1_WT_LPIF_S_0060_2.1.1_peaks.narrowPeak.gz\n",
      "GSM6061749_LIMA_ChIP_h3k27ac_THP1_WT_LPIF_S_0090_1.1.1.bw\n",
      "GSM6061749_LIMA_ChIP_h3k27ac_THP1_WT_LPIF_S_0090_1.1.1_peaks.narrowPeak.gz\n",
      "GSM6061750_LIMA_ChIP_h3k27ac_THP1_WT_LPIF_S_0090_2.1.1.bw\n",
      "GSM6061750_LIMA_ChIP_h3k27ac_THP1_WT_LPIF_S_0090_2.1.1_peaks.narrowPeak.gz\n",
      "GSM6061751_LIMA_ChIP_h3k27ac_THP1_WT_LPIF_S_0120_1.1.1.bw\n",
      "GSM6061751_LIMA_ChIP_h3k27ac_THP1_WT_LPIF_S_0120_1.1.1_peaks.narrowPeak.gz\n",
      "GSM6061752_LIMA_ChIP_h3k27ac_THP1_WT_LPIF_S_0120_2.1.1.bw\n",
      "GSM6061752_LIMA_ChIP_h3k27ac_THP1_WT_LPIF_S_0120_2.1.1_peaks.narrowPeak.gz\n",
      "GSM6061753_LIMA_ChIP_h3k27ac_THP1_WT_LPIF_S_0240_1.1.1.bw\n",
      "GSM6061753_LIMA_ChIP_h3k27ac_THP1_WT_LPIF_S_0240_1.1.1_peaks.narrowPeak.gz\n",
      "GSM6061754_LIMA_ChIP_h3k27ac_THP1_WT_LPIF_S_0240_2.1.1.bw\n",
      "GSM6061754_LIMA_ChIP_h3k27ac_THP1_WT_LPIF_S_0240_2.1.1_peaks.narrowPeak.gz\n",
      "GSM6061755_LIMA_ChIP_h3k27ac_THP1_WT_LPIF_S_0360_1.1.1.bw\n",
      "GSM6061755_LIMA_ChIP_h3k27ac_THP1_WT_LPIF_S_0360_1.1.1_peaks.narrowPeak.gz\n",
      "GSM6061756_LIMA_ChIP_h3k27ac_THP1_WT_LPIF_S_0360_2.1.1.bw\n",
      "GSM6061756_LIMA_ChIP_h3k27ac_THP1_WT_LPIF_S_0360_2.1.1_peaks.narrowPeak.gz\n",
      "GSM6061757_LIMA_ChIP_h3k27ac_THP1_WT_LPIF_S_1440_1.1.1.bw\n",
      "GSM6061757_LIMA_ChIP_h3k27ac_THP1_WT_LPIF_S_1440_1.1.1_peaks.narrowPeak.gz\n",
      "GSM6061758_LIMA_ChIP_h3k27ac_THP1_WT_LPIF_S_1440_2.1.1.bw\n",
      "GSM6061758_LIMA_ChIP_h3k27ac_THP1_WT_LPIF_S_1440_2.1.1_peaks.narrowPeak.gz\n"
     ]
    }
   ],
   "source": [
    "!wget https://ftp.ncbi.nlm.nih.gov/geo/series/GSE201nnn/GSE201352/suppl/GSE201352_RAW.tar -q\n",
    "!tar -xvf GSE201352_RAW.tar\n",
    "!rm GSE201352_RAW.tar"
   ]
  },
  {
   "cell_type": "code",
   "execution_count": 4,
   "id": "48a935bf",
   "metadata": {},
   "outputs": [],
   "source": [
    "h3k27ac = pd.read_csv(\"GSE201352_LIMA_H3K27ac_diffPeaks_overlap.tsv\", sep=\"\\t\")\n",
    "h3k27ac = h3k27ac.dropna()\n",
    "h3k27ac[\"chr\"] = h3k27ac[\"chr\"].str.replace(\"chr\",\"\") "
   ]
  },
  {
   "cell_type": "code",
   "execution_count": 5,
   "id": "f3cc8d75",
   "metadata": {},
   "outputs": [],
   "source": [
    "#Divide 0 hr and 24 hr timepoint H3K27ac values into quartiles\n",
    "h3k27ac.loc[h3k27ac[\"m0000_VST\"] <= np.quantile(h3k27ac[\"m0000_VST\"], 0.25), \"quartile_0h\"] = 1\n",
    "h3k27ac.loc[h3k27ac[\"m0000_VST\"] > np.quantile(h3k27ac[\"m0000_VST\"], 0.25), \"quartile_0h\"] = 2\n",
    "h3k27ac.loc[h3k27ac[\"m0000_VST\"] > np.quantile(h3k27ac[\"m0000_VST\"], 0.5), \"quartile_0h\"] = 3\n",
    "h3k27ac.loc[h3k27ac[\"m0000_VST\"] > np.quantile(h3k27ac[\"m0000_VST\"], 0.75), \"quartile_0h\"] = 4\n",
    "h3k27ac.loc[h3k27ac[\"m1440_VST\"] <= np.quantile(h3k27ac[\"m1440_VST\"], 0.25), \"quartile_24h\"] = 1\n",
    "h3k27ac.loc[h3k27ac[\"m1440_VST\"] > np.quantile(h3k27ac[\"m1440_VST\"], 0.25), \"quartile_24h\"] = 2\n",
    "h3k27ac.loc[h3k27ac[\"m1440_VST\"] > np.quantile(h3k27ac[\"m1440_VST\"], 0.5), \"quartile_24h\"] = 3\n",
    "h3k27ac.loc[h3k27ac[\"m1440_VST\"] > np.quantile(h3k27ac[\"m1440_VST\"], 0.75), \"quartile_24h\"] = 4"
   ]
  },
  {
   "cell_type": "code",
   "execution_count": 6,
   "id": "bfaa7ae8",
   "metadata": {},
   "outputs": [],
   "source": [
    "#Pick out most changes regions\n",
    "h3k27ac[\"changed\"] = False\n",
    "h3k27ac.loc[(h3k27ac[\"adjusted_pval\"] < 0.05) &\n",
    "            (h3k27ac[\"quartile_0h\"] < 3) &\n",
    "            (h3k27ac[\"quartile_24h\"] == 4), \n",
    "            \"changed\"] = \"up\"\n",
    "h3k27ac.loc[(h3k27ac[\"adjusted_pval\"] < 0.05) &\n",
    "            (h3k27ac[\"quartile_0h\"] == 4) &\n",
    "            (h3k27ac[\"quartile_24h\"] < 3), \n",
    "            \"changed\"] = \"down\""
   ]
  },
  {
   "cell_type": "code",
   "execution_count": 7,
   "id": "60e9cc9f",
   "metadata": {},
   "outputs": [],
   "source": [
    "h3k27ac.loc[(h3k27ac[\"changed\"] == \"up\"), \n",
    "            [\"chr\", \"start\", \"end\"]].to_csv(\"THP1_H3K27ac_up.bed\",\n",
    "                                            sep=\"\\t\", header=None,index=False)\n",
    "h3k27ac.loc[(h3k27ac[\"changed\"] == \"down\"), \n",
    "            [\"chr\", \"start\", \"end\"]].to_csv(\"THP1_H3K27ac_down.bed\",\n",
    "                                            sep=\"\\t\", header=None,index=False)"
   ]
  }
 ],
 "metadata": {
  "kernelspec": {
   "display_name": "Python 3 (ipykernel)",
   "language": "python",
   "name": "python3"
  },
  "language_info": {
   "codemirror_mode": {
    "name": "ipython",
    "version": 3
   },
   "file_extension": ".py",
   "mimetype": "text/x-python",
   "name": "python",
   "nbconvert_exporter": "python",
   "pygments_lexer": "ipython3",
   "version": "3.8.12"
  }
 },
 "nbformat": 4,
 "nbformat_minor": 5
}
