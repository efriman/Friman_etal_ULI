{
 "cells": [
  {
   "cell_type": "code",
   "execution_count": 12,
   "id": "3fe8628e",
   "metadata": {},
   "outputs": [],
   "source": [
    "!wget https://www.encodeproject.org/files/ENCFF391AYY/@@download/ENCFF391AYY.bed.gz -q\n",
    "!gunzip ENCFF391AYY.bed.gz -f\n",
    "!bedtools sort -i ENCFF391AYY.bed | awk -v OFS='\\t' '{print $1,$2,$3}' > ENCFF391AYY_H3K27me3_HAP1_hg38.bed"
   ]
  },
  {
   "cell_type": "code",
   "execution_count": 17,
   "id": "5e5b44c1",
   "metadata": {},
   "outputs": [
    {
     "name": "stdout",
     "output_type": "stream",
     "text": [
      "Reading liftover chains\n",
      "Mapping coordinates\n"
     ]
    }
   ],
   "source": [
    "!$elias/seqtools/./liftOver ENCFF391AYY_H3K27me3_HAP1_hg38.bed $elias/seqtools/hg38ToHg19.over.chain ../hg19/ENCFF391AYY_H3K27me3_HAP1_hg19.bed unmapped"
   ]
  }
 ],
 "metadata": {
  "kernelspec": {
   "display_name": "Python 3 (ipykernel)",
   "language": "python",
   "name": "python3"
  },
  "language_info": {
   "codemirror_mode": {
    "name": "ipython",
    "version": 3
   },
   "file_extension": ".py",
   "mimetype": "text/x-python",
   "name": "python",
   "nbconvert_exporter": "python",
   "pygments_lexer": "ipython3",
   "version": "3.8.12"
  }
 },
 "nbformat": 4,
 "nbformat_minor": 5
}
