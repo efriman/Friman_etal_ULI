{
 "cells": [
  {
   "cell_type": "raw",
   "id": "62f4672f",
   "metadata": {},
   "source": [
    "wget https://www.encodeproject.org/files/ENCFF391AYY/@@download/ENCFF391AYY.bed.gz -q\n",
    "gunzip ENCFF391AYY.bed.gz -f\n",
    "bedtools sort -i ENCFF391AYY.bed | awk -v OFS='\\t' '{print $1,$2,$3}' > ENCFF391AYY_H3K27me3_HAP1_hg38.bed"
   ]
  },
  {
   "cell_type": "raw",
   "id": "82d51bfd",
   "metadata": {},
   "source": [
    "wget https://www.encodeproject.org/files/ENCFF035PQG/@@download/ENCFF035PQG.bed.gz -q\n",
    "wget https://www.encodeproject.org/files/ENCFF367KIF/@@download/ENCFF367KIF.bed.gz -q\n",
    "gunzip ENCFF035PQG.bed.gz\n",
    "gunzip ENCFF367KIF.bed.gz"
   ]
  },
  {
   "cell_type": "raw",
   "id": "67d0860e",
   "metadata": {},
   "source": [
    "bedtools intersect -v -a ENCFF367KIF.bed -b ENCFF035PQG.bed | sort -V -k7 | \\\n",
    "tail -20000 > GM12878_H3K27ac_noH3K27me3_top20000_hg38.bed"
   ]
  },
  {
   "cell_type": "raw",
   "id": "b1a3755a",
   "metadata": {},
   "source": [
    "wget https://www.encodeproject.org/files/ENCFF214XPD/@@download/ENCFF214XPD.bed.gz -q\n",
    "gunzip ENCFF214XPD.bed.gz"
   ]
  },
  {
   "cell_type": "raw",
   "id": "62afa93c",
   "metadata": {},
   "source": [
    "bedtools intersect -a GM12878_H3K27ac_noH3K27me3_top20000_hg38.bed -b ENCFF214XPD.bed -wa \\\n",
    "| bedtools sort -i | bedtools merge | \\\n",
    "awk -v OFS=\"\\t\" '{print $1,$2,$3\"\\t.\\t.\\t+\"}' > GM12878_H3K27ac_MYC_plus_hg38.bed"
   ]
  },
  {
   "cell_type": "raw",
   "id": "17e44d8a",
   "metadata": {},
   "source": [
    "bedtools intersect -v -a GM12878_H3K27ac_noH3K27me3_top20000_hg38.bed -b ENCFF214XPD.bed -wa \\\n",
    "| bedtools sort -i | bedtools merge | shuf -n 3301 | \\\n",
    "awk -v OFS=\"\\t\" '{print $1,$2,$3\"\\t.\\t.\\t-\"}' > GM12878_H3K27ac_noMYC_minus_hg38.bed"
   ]
  },
  {
   "cell_type": "raw",
   "id": "16ae16db",
   "metadata": {},
   "source": [
    "cat GM12878_H3K27ac_MYC_plus_hg38.bed GM12878_H3K27ac_noMYC_minus_hg38.bed \\\n",
    "> GM12878_H3K27ac_MYC_plus_noMYC_minus_hg38.bed"
   ]
  }
 ],
 "metadata": {
  "kernelspec": {
   "display_name": "Python 3 (ipykernel)",
   "language": "python",
   "name": "python3"
  },
  "language_info": {
   "codemirror_mode": {
    "name": "ipython",
    "version": 3
   },
   "file_extension": ".py",
   "mimetype": "text/x-python",
   "name": "python",
   "nbconvert_exporter": "python",
   "pygments_lexer": "ipython3",
   "version": "3.8.12"
  }
 },
 "nbformat": 4,
 "nbformat_minor": 5
}
