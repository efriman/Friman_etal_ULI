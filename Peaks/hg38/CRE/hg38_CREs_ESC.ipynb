{
 "cells": [
  {
   "cell_type": "code",
   "execution_count": 1,
   "id": "ee57648a",
   "metadata": {},
   "outputs": [],
   "source": [
    "!wget -q https://downloads.wenglab.org/V3/GRCh38-cCREs.bed\n",
    "!wget https://www.encodeproject.org/files/ENCFF759OLD/@@download/ENCFF759OLD.bed.gz -q\n",
    "!wget https://www.encodeproject.org/files/ENCFF338SAU/@@download/ENCFF338SAU.bed.gz -q\n",
    "!wget https://www.encodeproject.org/files/ENCFF470YYO/@@download/ENCFF470YYO.bed.gz -q\n",
    "!wget https://www.encodeproject.org/files/ENCFF748UZH/@@download/ENCFF748UZH.bed.gz -q"
   ]
  },
  {
   "cell_type": "code",
   "execution_count": 2,
   "id": "e5d890d2",
   "metadata": {},
   "outputs": [],
   "source": [
    "!gunzip ENCFF*bed.gz -f"
   ]
  },
  {
   "cell_type": "code",
   "execution_count": 3,
   "id": "2d99d31b",
   "metadata": {},
   "outputs": [],
   "source": [
    "!cat ENCFF759OLD.bed ENCFF338SAU.bed \\\n",
    "ENCFF470YYO.bed ENCFF748UZH.bed \\\n",
    "| bedtools sort -i | bedtools merge > GM127878_DNase_ATAC_hg38.bed"
   ]
  },
  {
   "cell_type": "code",
   "execution_count": 4,
   "id": "6576e150",
   "metadata": {},
   "outputs": [],
   "source": [
    "!bedtools sort -i GRCh38-cCREs.bed | \\\n",
    "bedtools merge -i stdin -d 5000 > \\\n",
    "hg38-cCREs_merged5kb.bed"
   ]
  },
  {
   "cell_type": "code",
   "execution_count": 5,
   "id": "85f79ebf",
   "metadata": {},
   "outputs": [],
   "source": [
    "!bedtools intersect -a hg38-cCREs_merged5kb.bed \\\n",
    "-b GM127878_DNase_ATAC_hg38.bed -wa | bedtools sort -i | \\\n",
    "bedtools merge > hg38-cCREs_GM12878_DNase_merged5kb.bed"
   ]
  }
 ],
 "metadata": {
  "kernelspec": {
   "display_name": "Python 3 (ipykernel)",
   "language": "python",
   "name": "python3"
  },
  "language_info": {
   "codemirror_mode": {
    "name": "ipython",
    "version": 3
   },
   "file_extension": ".py",
   "mimetype": "text/x-python",
   "name": "python",
   "nbconvert_exporter": "python",
   "pygments_lexer": "ipython3",
   "version": "3.8.12"
  }
 },
 "nbformat": 4,
 "nbformat_minor": 5
}
