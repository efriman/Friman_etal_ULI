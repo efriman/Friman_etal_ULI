{
 "cells": [
  {
   "cell_type": "code",
   "execution_count": 1,
   "id": "dfcf0f7a",
   "metadata": {},
   "outputs": [],
   "source": [
    "import pandas as pd\n",
    "import numpy as np"
   ]
  },
  {
   "cell_type": "code",
   "execution_count": 2,
   "id": "9351a62e",
   "metadata": {},
   "outputs": [],
   "source": [
    "!wget https://doi.org/10.1371/journal.pgen.1001134.s002 -q"
   ]
  },
  {
   "cell_type": "code",
   "execution_count": 3,
   "id": "421910c3",
   "metadata": {},
   "outputs": [],
   "source": [
    "CGI_mm9 = pd.read_excel(\"journal.pgen.1001134.s002\", skiprows=6)\n",
    "CGI_mm9 = CGI_mm9.rename(columns={\"CpG density\": \"CpG_density\"})"
   ]
  },
  {
   "cell_type": "code",
   "execution_count": 4,
   "id": "280cb74e",
   "metadata": {},
   "outputs": [
    {
     "data": {
      "text/html": [
       "<div>\n",
       "<style scoped>\n",
       "    .dataframe tbody tr th:only-of-type {\n",
       "        vertical-align: middle;\n",
       "    }\n",
       "\n",
       "    .dataframe tbody tr th {\n",
       "        vertical-align: top;\n",
       "    }\n",
       "\n",
       "    .dataframe thead th {\n",
       "        text-align: right;\n",
       "    }\n",
       "</style>\n",
       "<table border=\"1\" class=\"dataframe\">\n",
       "  <thead>\n",
       "    <tr style=\"text-align: right;\">\n",
       "      <th></th>\n",
       "      <th>Chromosome</th>\n",
       "      <th>Start</th>\n",
       "      <th>End</th>\n",
       "      <th>ID</th>\n",
       "      <th>Strand</th>\n",
       "      <th>CpG observed</th>\n",
       "      <th>CpG observed/expected</th>\n",
       "      <th>G+C composition</th>\n",
       "      <th>Length</th>\n",
       "      <th>CpG_density</th>\n",
       "      <th>...</th>\n",
       "      <th>Ensembl</th>\n",
       "      <th>Ensembl TSS</th>\n",
       "      <th>ES_H3K4me3relaxed</th>\n",
       "      <th>Brain_H3K4me3relaxed</th>\n",
       "      <th>ES_RNAPII</th>\n",
       "      <th>Brain_RNAPII</th>\n",
       "      <th>SpBlM_MAP</th>\n",
       "      <th>SpBlF_MAP</th>\n",
       "      <th>SpCeM_MAP</th>\n",
       "      <th>SpCeF_MAP</th>\n",
       "    </tr>\n",
       "  </thead>\n",
       "  <tbody>\n",
       "    <tr>\n",
       "      <th>0</th>\n",
       "      <td>chr1</td>\n",
       "      <td>3521604</td>\n",
       "      <td>3522101</td>\n",
       "      <td>CGI1</td>\n",
       "      <td>+</td>\n",
       "      <td>29</td>\n",
       "      <td>0.816525</td>\n",
       "      <td>0.693603</td>\n",
       "      <td>297</td>\n",
       "      <td>9.764310</td>\n",
       "      <td>...</td>\n",
       "      <td>1</td>\n",
       "      <td>0</td>\n",
       "      <td>0</td>\n",
       "      <td>0</td>\n",
       "      <td>0</td>\n",
       "      <td>0</td>\n",
       "      <td>1</td>\n",
       "      <td>1</td>\n",
       "      <td>1</td>\n",
       "      <td>1</td>\n",
       "    </tr>\n",
       "    <tr>\n",
       "      <th>1</th>\n",
       "      <td>chr1</td>\n",
       "      <td>3660434</td>\n",
       "      <td>3662858</td>\n",
       "      <td>CGI2</td>\n",
       "      <td>+</td>\n",
       "      <td>178</td>\n",
       "      <td>0.728255</td>\n",
       "      <td>0.663219</td>\n",
       "      <td>2224</td>\n",
       "      <td>8.003597</td>\n",
       "      <td>...</td>\n",
       "      <td>1</td>\n",
       "      <td>1</td>\n",
       "      <td>1</td>\n",
       "      <td>1</td>\n",
       "      <td>1</td>\n",
       "      <td>1</td>\n",
       "      <td>0</td>\n",
       "      <td>0</td>\n",
       "      <td>0</td>\n",
       "      <td>0</td>\n",
       "    </tr>\n",
       "    <tr>\n",
       "      <th>2</th>\n",
       "      <td>chr1</td>\n",
       "      <td>4342301</td>\n",
       "      <td>4342747</td>\n",
       "      <td>CGI3</td>\n",
       "      <td>+</td>\n",
       "      <td>11</td>\n",
       "      <td>0.503156</td>\n",
       "      <td>0.597561</td>\n",
       "      <td>246</td>\n",
       "      <td>4.471545</td>\n",
       "      <td>...</td>\n",
       "      <td>1</td>\n",
       "      <td>0</td>\n",
       "      <td>0</td>\n",
       "      <td>0</td>\n",
       "      <td>0</td>\n",
       "      <td>0</td>\n",
       "      <td>1</td>\n",
       "      <td>1</td>\n",
       "      <td>0</td>\n",
       "      <td>1</td>\n",
       "    </tr>\n",
       "    <tr>\n",
       "      <th>3</th>\n",
       "      <td>chr1</td>\n",
       "      <td>4481601</td>\n",
       "      <td>4483972</td>\n",
       "      <td>CGI4</td>\n",
       "      <td>+</td>\n",
       "      <td>171</td>\n",
       "      <td>0.756949</td>\n",
       "      <td>0.645325</td>\n",
       "      <td>2171</td>\n",
       "      <td>7.876555</td>\n",
       "      <td>...</td>\n",
       "      <td>1</td>\n",
       "      <td>0</td>\n",
       "      <td>1</td>\n",
       "      <td>0</td>\n",
       "      <td>1</td>\n",
       "      <td>1</td>\n",
       "      <td>0</td>\n",
       "      <td>0</td>\n",
       "      <td>0</td>\n",
       "      <td>0</td>\n",
       "    </tr>\n",
       "    <tr>\n",
       "      <th>4</th>\n",
       "      <td>chr1</td>\n",
       "      <td>4486744</td>\n",
       "      <td>4487898</td>\n",
       "      <td>CGI5</td>\n",
       "      <td>+</td>\n",
       "      <td>53</td>\n",
       "      <td>0.697292</td>\n",
       "      <td>0.564990</td>\n",
       "      <td>954</td>\n",
       "      <td>5.555556</td>\n",
       "      <td>...</td>\n",
       "      <td>1</td>\n",
       "      <td>1</td>\n",
       "      <td>0</td>\n",
       "      <td>0</td>\n",
       "      <td>0</td>\n",
       "      <td>0</td>\n",
       "      <td>0</td>\n",
       "      <td>0</td>\n",
       "      <td>0</td>\n",
       "      <td>0</td>\n",
       "    </tr>\n",
       "  </tbody>\n",
       "</table>\n",
       "<p>5 rows × 25 columns</p>\n",
       "</div>"
      ],
      "text/plain": [
       "  Chromosome    Start      End    ID Strand  CpG observed  \\\n",
       "0       chr1  3521604  3522101  CGI1      +            29   \n",
       "1       chr1  3660434  3662858  CGI2      +           178   \n",
       "2       chr1  4342301  4342747  CGI3      +            11   \n",
       "3       chr1  4481601  4483972  CGI4      +           171   \n",
       "4       chr1  4486744  4487898  CGI5      +            53   \n",
       "\n",
       "   CpG observed/expected  G+C composition  Length  CpG_density  ...  Ensembl  \\\n",
       "0               0.816525         0.693603     297     9.764310  ...        1   \n",
       "1               0.728255         0.663219    2224     8.003597  ...        1   \n",
       "2               0.503156         0.597561     246     4.471545  ...        1   \n",
       "3               0.756949         0.645325    2171     7.876555  ...        1   \n",
       "4               0.697292         0.564990     954     5.555556  ...        1   \n",
       "\n",
       "   Ensembl TSS  ES_H3K4me3relaxed  Brain_H3K4me3relaxed  ES_RNAPII  \\\n",
       "0            0                  0                     0          0   \n",
       "1            1                  1                     1          1   \n",
       "2            0                  0                     0          0   \n",
       "3            0                  1                     0          1   \n",
       "4            1                  0                     0          0   \n",
       "\n",
       "   Brain_RNAPII  SpBlM_MAP  SpBlF_MAP  SpCeM_MAP  SpCeF_MAP  \n",
       "0             0          1          1          1          1  \n",
       "1             1          0          0          0          0  \n",
       "2             0          1          1          0          1  \n",
       "3             1          0          0          0          0  \n",
       "4             0          0          0          0          0  \n",
       "\n",
       "[5 rows x 25 columns]"
      ]
     },
     "execution_count": 4,
     "metadata": {},
     "output_type": "execute_result"
    }
   ],
   "source": [
    "CGI_mm9.head()"
   ]
  },
  {
   "cell_type": "code",
   "execution_count": 5,
   "id": "9b2647f0",
   "metadata": {},
   "outputs": [],
   "source": [
    "CGI_mm9[[\"Chromosome\", \"Start\", \"End\"]].to_csv(\"CAP-CGI_mm9.bed\", sep=\"\\t\", header=None, index=False)"
   ]
  },
  {
   "cell_type": "code",
   "execution_count": 6,
   "id": "40ab90f2",
   "metadata": {},
   "outputs": [
    {
     "name": "stdout",
     "output_type": "stream",
     "text": [
      "Reading liftover chains\r\n",
      "Mapping coordinates\r\n"
     ]
    }
   ],
   "source": [
    "!$elias/seqtools/./liftOver CAP-CGI_mm9.bed $elias/seqtools/mm9ToMm10.over.chain ../mm10/CAP-CGI_mm10.bed unmapped"
   ]
  },
  {
   "cell_type": "code",
   "execution_count": 7,
   "id": "703e69c9",
   "metadata": {},
   "outputs": [],
   "source": [
    "CGI_mm9.loc[CGI_mm9[\"CpG_density\"] <= np.quantile(CGI_mm9[\"CpG_density\"], 0.25), \"quartile_CpGdensity\"] = 1\n",
    "CGI_mm9.loc[CGI_mm9[\"CpG_density\"] > np.quantile(CGI_mm9[\"CpG_density\"], 0.25), \"quartile_CpGdensity\"] = 2\n",
    "CGI_mm9.loc[CGI_mm9[\"CpG_density\"] > np.quantile(CGI_mm9[\"CpG_density\"], 0.5), \"quartile_CpGdensity\"] = 3\n",
    "CGI_mm9.loc[CGI_mm9[\"CpG_density\"] > np.quantile(CGI_mm9[\"CpG_density\"], 0.75), \"quartile_CpGdensity\"] = 4"
   ]
  },
  {
   "cell_type": "code",
   "execution_count": 8,
   "id": "d9f11ce2",
   "metadata": {},
   "outputs": [],
   "source": [
    "for i in range(4):\n",
    "    CGI_mm9.loc[CGI_mm9[\"quartile_CpGdensity\"] == i+1, \n",
    "                 [\"Chromosome\", \"Start\", \"End\"]].to_csv(f\"CAP-CGI_CpG_density_quartile_{i+1}_mm9.bed\", sep=\"\\t\", header=None, index=False)"
   ]
  },
  {
   "cell_type": "code",
   "execution_count": 9,
   "id": "84bbe153",
   "metadata": {},
   "outputs": [
    {
     "name": "stdout",
     "output_type": "stream",
     "text": [
      "Reading liftover chains\n",
      "Mapping coordinates\n",
      "Reading liftover chains\n",
      "Mapping coordinates\n",
      "Reading liftover chains\n",
      "Mapping coordinates\n",
      "Reading liftover chains\n",
      "Mapping coordinates\n"
     ]
    }
   ],
   "source": [
    "!for f in CAP-CGI_CpG_density_quartile_?_mm9.bed; do $elias/seqtools/./liftOver CAP-CGI_mm9.bed $elias/seqtools/mm9ToMm10.over.chain \"${f/mm9/mm10}\" unmapped; done\n",
    "!mv CAP-CGI_CpG_density_quartile_?_mm10.bed ../mm10"
   ]
  }
 ],
 "metadata": {
  "kernelspec": {
   "display_name": "Python 3 (ipykernel)",
   "language": "python",
   "name": "python3"
  },
  "language_info": {
   "codemirror_mode": {
    "name": "ipython",
    "version": 3
   },
   "file_extension": ".py",
   "mimetype": "text/x-python",
   "name": "python",
   "nbconvert_exporter": "python",
   "pygments_lexer": "ipython3",
   "version": "3.8.12"
  }
 },
 "nbformat": 4,
 "nbformat_minor": 5
}
