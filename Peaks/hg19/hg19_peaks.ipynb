{
 "cells": [
  {
   "cell_type": "raw",
   "id": "776fa80c",
   "metadata": {},
   "source": [
    "for f in CAP-CGI_CpG_density_quartile_?_hg19.bed; do \\\n",
    "bedtools intersect -v -a $f -b ENCFF391AYY_H3K27me3_HAP1_hg19.bed \\\n",
    "> \"${f/.bed/_noH3K27me3_HAP1.bed}\"; done"
   ]
  }
 ],
 "metadata": {
  "kernelspec": {
   "display_name": "Python 3 (ipykernel)",
   "language": "python",
   "name": "python3"
  },
  "language_info": {
   "codemirror_mode": {
    "name": "ipython",
    "version": 3
   },
   "file_extension": ".py",
   "mimetype": "text/x-python",
   "name": "python",
   "nbconvert_exporter": "python",
   "pygments_lexer": "ipython3",
   "version": "3.8.12"
  }
 },
 "nbformat": 4,
 "nbformat_minor": 5
}
