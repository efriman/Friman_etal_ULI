{
 "cells": [
  {
   "cell_type": "code",
   "execution_count": 1,
   "id": "70513e2d",
   "metadata": {},
   "outputs": [],
   "source": [
    "!bedtools intersect -v -a CAP-CGI_hg19.bed -b ENCFF391AYY_H3K27me3_HAP1_hg19.bed \\\n",
    "| bedtools sort -i | bedtools merge \\\n",
    "> CAP-CGI_noH3K27me3_HAP1_hg19.bed"
   ]
  },
  {
   "cell_type": "code",
   "execution_count": 2,
   "id": "d992f7c5",
   "metadata": {},
   "outputs": [],
   "source": [
    "!wget https://raw.githubusercontent.com/ggirelli/GPSeq-source-data/master/figures/fig-02/fig-02-e.tsv -q -O GPseq_fig2e.tsv"
   ]
  },
  {
   "cell_type": "code",
   "execution_count": 3,
   "id": "97d1d839",
   "metadata": {},
   "outputs": [],
   "source": [
    "import numpy as np\n",
    "import pandas as pd\n",
    "import seaborn as sns\n",
    "import matplotlib.pyplot as plt\n",
    "import bioframe as bf"
   ]
  },
  {
   "cell_type": "code",
   "execution_count": 4,
   "id": "82179e52",
   "metadata": {},
   "outputs": [],
   "source": [
    "GPseq = pd.read_table(\"GPseq_fig2e.tsv\", sep=\"\\t\")"
   ]
  },
  {
   "cell_type": "code",
   "execution_count": 5,
   "id": "2fb303b9",
   "metadata": {},
   "outputs": [
    {
     "data": {
      "text/html": [
       "<div>\n",
       "<style scoped>\n",
       "    .dataframe tbody tr th:only-of-type {\n",
       "        vertical-align: middle;\n",
       "    }\n",
       "\n",
       "    .dataframe tbody tr th {\n",
       "        vertical-align: top;\n",
       "    }\n",
       "\n",
       "    .dataframe thead th {\n",
       "        text-align: right;\n",
       "    }\n",
       "</style>\n",
       "<table border=\"1\" class=\"dataframe\">\n",
       "  <thead>\n",
       "    <tr style=\"text-align: right;\">\n",
       "      <th></th>\n",
       "      <th>resolution</th>\n",
       "      <th>chrom</th>\n",
       "      <th>start</th>\n",
       "      <th>end</th>\n",
       "      <th>exp1</th>\n",
       "      <th>exp2</th>\n",
       "    </tr>\n",
       "  </thead>\n",
       "  <tbody>\n",
       "    <tr>\n",
       "      <th>0</th>\n",
       "      <td>100kb</td>\n",
       "      <td>chr1</td>\n",
       "      <td>700000</td>\n",
       "      <td>800000</td>\n",
       "      <td>0.880398</td>\n",
       "      <td>NaN</td>\n",
       "    </tr>\n",
       "    <tr>\n",
       "      <th>1</th>\n",
       "      <td>100kb</td>\n",
       "      <td>chr1</td>\n",
       "      <td>800000</td>\n",
       "      <td>900000</td>\n",
       "      <td>0.328710</td>\n",
       "      <td>0.439071</td>\n",
       "    </tr>\n",
       "    <tr>\n",
       "      <th>2</th>\n",
       "      <td>100kb</td>\n",
       "      <td>chr1</td>\n",
       "      <td>900000</td>\n",
       "      <td>1000000</td>\n",
       "      <td>0.897176</td>\n",
       "      <td>0.779219</td>\n",
       "    </tr>\n",
       "    <tr>\n",
       "      <th>3</th>\n",
       "      <td>100kb</td>\n",
       "      <td>chr1</td>\n",
       "      <td>1000000</td>\n",
       "      <td>1100000</td>\n",
       "      <td>0.958774</td>\n",
       "      <td>0.939078</td>\n",
       "    </tr>\n",
       "    <tr>\n",
       "      <th>4</th>\n",
       "      <td>100kb</td>\n",
       "      <td>chr1</td>\n",
       "      <td>1300000</td>\n",
       "      <td>1400000</td>\n",
       "      <td>0.830566</td>\n",
       "      <td>0.916534</td>\n",
       "    </tr>\n",
       "  </tbody>\n",
       "</table>\n",
       "</div>"
      ],
      "text/plain": [
       "  resolution chrom    start      end      exp1      exp2\n",
       "0      100kb  chr1   700000   800000  0.880398       NaN\n",
       "1      100kb  chr1   800000   900000  0.328710  0.439071\n",
       "2      100kb  chr1   900000  1000000  0.897176  0.779219\n",
       "3      100kb  chr1  1000000  1100000  0.958774  0.939078\n",
       "4      100kb  chr1  1300000  1400000  0.830566  0.916534"
      ]
     },
     "execution_count": 5,
     "metadata": {},
     "output_type": "execute_result"
    }
   ],
   "source": [
    "GPseq.head()"
   ]
  },
  {
   "cell_type": "code",
   "execution_count": 6,
   "id": "d3660a30",
   "metadata": {},
   "outputs": [],
   "source": [
    "GPseq[\"avg\"] = np.nanmean([GPseq[\"exp1\"], GPseq[\"exp2\"]], axis=0)"
   ]
  },
  {
   "cell_type": "code",
   "execution_count": 7,
   "id": "a5d84407",
   "metadata": {},
   "outputs": [],
   "source": [
    "GPseq.loc[GPseq[\"avg\"] <= np.quantile(GPseq[\"avg\"], 0.33), \"third\"] = 1\n",
    "GPseq.loc[GPseq[\"avg\"] > np.quantile(GPseq[\"avg\"], 0.33), \"third\"] = 2\n",
    "GPseq.loc[GPseq[\"avg\"] > np.quantile(GPseq[\"avg\"], 0.66), \"third\"] = 3"
   ]
  },
  {
   "cell_type": "code",
   "execution_count": 8,
   "id": "fd438a5c",
   "metadata": {},
   "outputs": [],
   "source": [
    "CAP_CGI_noH3K27me3 = pd.read_csv(\"CAP-CGI_noH3K27me3_HAP1_hg19.bed\", sep=\"\\t\", header=None)\n",
    "CAP_CGI_noH3K27me3.columns = [\"chrom\", \"start\", \"end\"]"
   ]
  },
  {
   "cell_type": "code",
   "execution_count": 9,
   "id": "162a836c",
   "metadata": {},
   "outputs": [],
   "source": [
    "CAP_CGI_noH3K27me3 = bf.overlap(GPseq, CAP_CGI_noH3K27me3, suffixes=[\"\", \"_CGI\"])"
   ]
  },
  {
   "cell_type": "code",
   "execution_count": 10,
   "id": "f17596d7",
   "metadata": {},
   "outputs": [],
   "source": [
    "CAP_CGI_noH3K27me3 = CAP_CGI_noH3K27me3.dropna()"
   ]
  },
  {
   "cell_type": "code",
   "execution_count": 11,
   "id": "640178bc",
   "metadata": {},
   "outputs": [
    {
     "data": {
      "text/html": [
       "<div>\n",
       "<style scoped>\n",
       "    .dataframe tbody tr th:only-of-type {\n",
       "        vertical-align: middle;\n",
       "    }\n",
       "\n",
       "    .dataframe tbody tr th {\n",
       "        vertical-align: top;\n",
       "    }\n",
       "\n",
       "    .dataframe thead th {\n",
       "        text-align: right;\n",
       "    }\n",
       "</style>\n",
       "<table border=\"1\" class=\"dataframe\">\n",
       "  <thead>\n",
       "    <tr style=\"text-align: right;\">\n",
       "      <th></th>\n",
       "      <th>bin</th>\n",
       "      <th>count</th>\n",
       "    </tr>\n",
       "  </thead>\n",
       "  <tbody>\n",
       "    <tr>\n",
       "      <th>0</th>\n",
       "      <td>1</td>\n",
       "      <td>2670</td>\n",
       "    </tr>\n",
       "    <tr>\n",
       "      <th>1</th>\n",
       "      <td>2</td>\n",
       "      <td>4534</td>\n",
       "    </tr>\n",
       "    <tr>\n",
       "      <th>2</th>\n",
       "      <td>3</td>\n",
       "      <td>10009</td>\n",
       "    </tr>\n",
       "  </tbody>\n",
       "</table>\n",
       "</div>"
      ],
      "text/plain": [
       "   bin  count\n",
       "0    1   2670\n",
       "1    2   4534\n",
       "2    3  10009"
      ]
     },
     "execution_count": 11,
     "metadata": {},
     "output_type": "execute_result"
    }
   ],
   "source": [
    "GPseq_CGI_dist = pd.DataFrame(CAP_CGI_noH3K27me3.groupby(\"third\").size()).reset_index()\n",
    "GPseq_CGI_dist.columns = [\"bin\", \"count\"]\n",
    "GPseq_CGI_dist[\"bin\"] = GPseq_CGI_dist[\"bin\"].astype(int)\n",
    "GPseq_CGI_dist"
   ]
  },
  {
   "cell_type": "code",
   "execution_count": 12,
   "id": "435369b2",
   "metadata": {},
   "outputs": [
    {
     "data": {
      "image/png": "[encoded data removed]",
      "text/plain": [
       "<Figure size 144x180 with 1 Axes>"
      ]
     },
     "metadata": {
      "needs_background": "light"
     },
     "output_type": "display_data"
    }
   ],
   "source": [
    "plt.figure(figsize=(2, 2.5))\n",
    "sns.set(style=\"ticks\", font=\"Arial\")\n",
    "sns.set_context(\"notebook\", rc={\"font.size\":1,\"axes.titlesize\":16, \n",
    "                                \"axes.labelsize\": 12, \"xtick.labelsize\": 12,\n",
    "                                \"ytick.labelsize\": 12})   \n",
    "g = sns.barplot(data=GPseq_CGI_dist, x=\"bin\", y=\"count\", \n",
    "                edgecolor='black', color=\"whitesmoke\", linewidth=2)\n",
    "g.set(xlabel=\"GPseq bin\", title=\"\", ylabel=\"Number of CAP-CGI(-H3K27me3)\")\n",
    "plt.tight_layout()\n",
    "sns.despine(trim=True, bottom=True)\n",
    "plt.savefig(\"plots/CGI_GPseq.svg\")"
   ]
  },
  {
   "cell_type": "code",
   "execution_count": 13,
   "id": "0c1a253d",
   "metadata": {},
   "outputs": [],
   "source": [
    "for i in range(3):\n",
    "    CAP_CGI_noH3K27me3.loc[CAP_CGI_noH3K27me3[\"third\"] == i+1, \n",
    "                           [\"chrom_CGI\", \n",
    "                            \"start_CGI\", \n",
    "                            \"end_CGI\"]].sample(2670, \n",
    "                                               random_state=5).sort_values([\"chrom_CGI\", \n",
    "                                                                            \"start_CGI\"]).to_csv(f\"GPseq_third_{i+1}_hg19_CAP-CGI_noH3K27me3_HAP1.bed\",\n",
    "                                                                                                 sep=\"\\t\", \n",
    "                                                                                                 index=False, \n",
    "                                                                                                 header=None)"
   ]
  }
 ],
 "metadata": {
  "kernelspec": {
   "display_name": "Python 3 (ipykernel)",
   "language": "python",
   "name": "python3"
  },
  "language_info": {
   "codemirror_mode": {
    "name": "ipython",
    "version": 3
   },
   "file_extension": ".py",
   "mimetype": "text/x-python",
   "name": "python",
   "nbconvert_exporter": "python",
   "pygments_lexer": "ipython3",
   "version": "3.8.12"
  }
 },
 "nbformat": 4,
 "nbformat_minor": 5
}
