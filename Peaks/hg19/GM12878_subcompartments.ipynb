{
 "cells": [
  {
   "cell_type": "code",
   "execution_count": 1,
   "id": "44610aed",
   "metadata": {},
   "outputs": [],
   "source": [
    "import pandas as pd\n",
    "import numpy as np\n",
    "import bioframe"
   ]
  },
  {
   "cell_type": "code",
   "execution_count": 2,
   "id": "ba1ad197",
   "metadata": {},
   "outputs": [],
   "source": [
    "!wget https://ftp.ncbi.nlm.nih.gov/geo/series/GSE63nnn/GSE63525/suppl/GSE63525_GM12878_subcompartments.bed.gz -q\n",
    "!gunzip GSE63525_GM12878_subcompartments.bed.gz -f"
   ]
  },
  {
   "cell_type": "code",
   "execution_count": 3,
   "id": "09a257cc",
   "metadata": {
    "scrolled": true
   },
   "outputs": [],
   "source": [
    "subcomp = pd.read_csv(\"GSE63525_GM12878_subcompartments.bed\", sep=\"\\t\", usecols=[0,1,2,3])\n",
    "subcomp.columns = [\"chrom\", \"start\", \"end\", \"compartment\"]"
   ]
  },
  {
   "cell_type": "code",
   "execution_count": 4,
   "id": "566fc36d",
   "metadata": {},
   "outputs": [],
   "source": [
    "H3K27ac = pd.read_csv(\"GM12878_H3K27ac_noH3K27me3_top20000_hg19.bed\", sep=\"\\t\", header=None)\n",
    "H3K27ac.columns = [\"chrom\", \"start\", \"end\"]"
   ]
  },
  {
   "cell_type": "code",
   "execution_count": 5,
   "id": "d4a1ed72",
   "metadata": {},
   "outputs": [],
   "source": [
    "merge = bioframe.overlap(subcomp, H3K27ac, how=\"right\", suffixes=[\"\", \"_H3K27ac\"])"
   ]
  },
  {
   "cell_type": "code",
   "execution_count": 6,
   "id": "fc44ce4d",
   "metadata": {},
   "outputs": [
    {
     "data": {
      "text/plain": [
       "compartment\n",
       "A1    9445\n",
       "A2    8082\n",
       "B1     842\n",
       "B2     269\n",
       "B3     611\n",
       "B4     200\n",
       "dtype: int64"
      ]
     },
     "execution_count": 6,
     "metadata": {},
     "output_type": "execute_result"
    }
   ],
   "source": [
    "merge.groupby(\"compartment\").size()"
   ]
  },
  {
   "cell_type": "code",
   "execution_count": 7,
   "id": "ba106f85",
   "metadata": {},
   "outputs": [],
   "source": [
    "merge.loc[merge[\"compartment\"] == \"A1\",\n",
    "          [\"chrom\", \n",
    "           \"start_H3K27ac\", \n",
    "           \"end_H3K27ac\"]].to_csv(\"GM12878_H3K27ac_A1_hg19.bed\", \n",
    "                                  header=False,\n",
    "                                  index=False,\n",
    "                                  sep=\"\\t\")"
   ]
  },
  {
   "cell_type": "code",
   "execution_count": 8,
   "id": "7d9dd870",
   "metadata": {},
   "outputs": [],
   "source": [
    "merge.loc[merge[\"compartment\"] == \"A2\",\n",
    "          [\"chrom\", \n",
    "           \"start_H3K27ac\", \n",
    "           \"end_H3K27ac\"]].to_csv(\"GM12878_H3K27ac_A2_hg19.bed\", \n",
    "                                  header=False,\n",
    "                                  index=False,\n",
    "                                  sep=\"\\t\")"
   ]
  },
  {
   "cell_type": "code",
   "execution_count": 9,
   "id": "1a8358dc",
   "metadata": {},
   "outputs": [
    {
     "name": "stdout",
     "output_type": "stream",
     "text": [
      "Reading liftover chains\n",
      "Mapping coordinates\n",
      "Reading liftover chains\n",
      "Mapping coordinates\n"
     ]
    }
   ],
   "source": [
    "!$elias/seqtools/./liftOver GM12878_H3K27ac_A1_hg19.bed $elias/seqtools/hg19ToHg38.over.chain \\\n",
    "../hg38/GM12878_H3K27ac_A1_hg38.bed unmapped\n",
    "!$elias/seqtools/./liftOver GM12878_H3K27ac_A2_hg19.bed $elias/seqtools/hg19ToHg38.over.chain \\\n",
    "../hg38/GM12878_H3K27ac_A2_hg38.bed unmapped"
   ]
  }
 ],
 "metadata": {
  "kernelspec": {
   "display_name": "Python 3 (ipykernel)",
   "language": "python",
   "name": "python3"
  },
  "language_info": {
   "codemirror_mode": {
    "name": "ipython",
    "version": 3
   },
   "file_extension": ".py",
   "mimetype": "text/x-python",
   "name": "python",
   "nbconvert_exporter": "python",
   "pygments_lexer": "ipython3",
   "version": "3.8.12"
  }
 },
 "nbformat": 4,
 "nbformat_minor": 5
}
